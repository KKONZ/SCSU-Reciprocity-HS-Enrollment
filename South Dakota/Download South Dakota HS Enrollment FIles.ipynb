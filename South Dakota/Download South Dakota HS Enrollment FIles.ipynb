{
 "cells": [
  {
   "cell_type": "markdown",
   "metadata": {
    "collapsed": true
   },
   "source": [
    "# South Dakota"
   ]
  },
  {
   "cell_type": "markdown",
   "metadata": {},
   "source": [
    "In this notebook the enrollment files for South Dakota HS enrollment are downloaded. The enrollment files contain the file upload date so the download links will need to be found by a partitial text search."
   ]
  },
  {
   "cell_type": "markdown",
   "metadata": {},
   "source": [
    "First read the packages needed to acquire the enrollment files."
   ]
  },
  {
   "cell_type": "code",
   "execution_count": 1,
   "metadata": {
    "collapsed": true
   },
   "outputs": [],
   "source": [
    "import datetime\n",
    "import time\n",
    "import wget\n",
    "import numpy as np\n",
    "import pandas as pd\n",
    "from selenium import webdriver\n",
    "from selenium.webdriver.common.by import By\n",
    "import zipfile\n",
    "from geopy.geocoders import Nominatim"
   ]
  },
  {
   "cell_type": "markdown",
   "metadata": {},
   "source": [
    "Below an object to find the current file name is located."
   ]
  },
  {
   "cell_type": "code",
   "execution_count": 108,
   "metadata": {
    "collapsed": true
   },
   "outputs": [],
   "source": [
    "# HS enrollment file Name\n",
    "PreYearText = \"http://doe.sd.gov/ofm/documents/Pschgen\"\n",
    "Year = str(int(datetime.datetime.now().year - 1))[2:]\n",
    "extention = \".xlsx\"\n",
    "File = PreYearText + Year + extention"
   ]
  },
  {
   "cell_type": "markdown",
   "metadata": {},
   "source": [
    "Using the file url download link created above the file can be downloaded."
   ]
  },
  {
   "cell_type": "code",
   "execution_count": 110,
   "metadata": {},
   "outputs": [
    {
     "name": "stdout",
     "output_type": "stream",
     "text": [
      "100% [............................................................................] 123361 / 123361"
     ]
    }
   ],
   "source": [
    "FileName = wget.download(File)"
   ]
  },
  {
   "cell_type": "markdown",
   "metadata": {},
   "source": [
    "Using Pandas, the downloaded file can be read into memory."
   ]
  },
  {
   "cell_type": "code",
   "execution_count": 111,
   "metadata": {
    "collapsed": true
   },
   "outputs": [],
   "source": [
    "SD = pd.read_excel(FileName, skiprows = 2)"
   ]
  },
  {
   "cell_type": "markdown",
   "metadata": {},
   "source": [
    "The first few rows of the downloaded file are displayed below."
   ]
  },
  {
   "cell_type": "code",
   "execution_count": 112,
   "metadata": {},
   "outputs": [
    {
     "data": {
      "text/html": [
       "<div>\n",
       "<style>\n",
       "    .dataframe thead tr:only-child th {\n",
       "        text-align: right;\n",
       "    }\n",
       "\n",
       "    .dataframe thead th {\n",
       "        text-align: left;\n",
       "    }\n",
       "\n",
       "    .dataframe tbody tr th {\n",
       "        vertical-align: top;\n",
       "    }\n",
       "</style>\n",
       "<table border=\"1\" class=\"dataframe\">\n",
       "  <thead>\n",
       "    <tr style=\"text-align: right;\">\n",
       "      <th></th>\n",
       "      <th>District No.</th>\n",
       "      <th>District Name</th>\n",
       "      <th>School No.</th>\n",
       "      <th>School Name</th>\n",
       "      <th>PK</th>\n",
       "      <th>KG</th>\n",
       "      <th>01</th>\n",
       "      <th>02</th>\n",
       "      <th>03</th>\n",
       "      <th>04</th>\n",
       "      <th>05</th>\n",
       "      <th>06</th>\n",
       "      <th>07</th>\n",
       "      <th>08</th>\n",
       "      <th>09</th>\n",
       "      <th>10</th>\n",
       "      <th>11</th>\n",
       "      <th>12</th>\n",
       "      <th>TOTAL KG-12</th>\n",
       "      <th>TOTAL PK-12</th>\n",
       "    </tr>\n",
       "  </thead>\n",
       "  <tbody>\n",
       "    <tr>\n",
       "      <th>0</th>\n",
       "      <td>1001.0</td>\n",
       "      <td>Plankinton 01-1</td>\n",
       "      <td>1.0</td>\n",
       "      <td>Plankinton High School</td>\n",
       "      <td>0.0</td>\n",
       "      <td>0.0</td>\n",
       "      <td>0.0</td>\n",
       "      <td>0.0</td>\n",
       "      <td>0.0</td>\n",
       "      <td>0.0</td>\n",
       "      <td>0.0</td>\n",
       "      <td>0.0</td>\n",
       "      <td>0.0</td>\n",
       "      <td>0.0</td>\n",
       "      <td>22.0</td>\n",
       "      <td>14.0</td>\n",
       "      <td>27.0</td>\n",
       "      <td>12.0</td>\n",
       "      <td>75.0</td>\n",
       "      <td>75.0</td>\n",
       "    </tr>\n",
       "    <tr>\n",
       "      <th>1</th>\n",
       "      <td>1001.0</td>\n",
       "      <td>Plankinton 01-1</td>\n",
       "      <td>2.0</td>\n",
       "      <td>Plankinton Elementary</td>\n",
       "      <td>20.0</td>\n",
       "      <td>25.0</td>\n",
       "      <td>17.0</td>\n",
       "      <td>21.0</td>\n",
       "      <td>19.0</td>\n",
       "      <td>22.0</td>\n",
       "      <td>19.0</td>\n",
       "      <td>25.0</td>\n",
       "      <td>0.0</td>\n",
       "      <td>0.0</td>\n",
       "      <td>0.0</td>\n",
       "      <td>0.0</td>\n",
       "      <td>0.0</td>\n",
       "      <td>0.0</td>\n",
       "      <td>148.0</td>\n",
       "      <td>168.0</td>\n",
       "    </tr>\n",
       "    <tr>\n",
       "      <th>2</th>\n",
       "      <td>1001.0</td>\n",
       "      <td>Plankinton 01-1</td>\n",
       "      <td>3.0</td>\n",
       "      <td>Plankinton Junior High</td>\n",
       "      <td>0.0</td>\n",
       "      <td>0.0</td>\n",
       "      <td>0.0</td>\n",
       "      <td>0.0</td>\n",
       "      <td>0.0</td>\n",
       "      <td>0.0</td>\n",
       "      <td>0.0</td>\n",
       "      <td>0.0</td>\n",
       "      <td>14.0</td>\n",
       "      <td>23.0</td>\n",
       "      <td>0.0</td>\n",
       "      <td>0.0</td>\n",
       "      <td>0.0</td>\n",
       "      <td>0.0</td>\n",
       "      <td>37.0</td>\n",
       "      <td>37.0</td>\n",
       "    </tr>\n",
       "    <tr>\n",
       "      <th>3</th>\n",
       "      <td>1001.0</td>\n",
       "      <td>Plankinton 01-1</td>\n",
       "      <td>4.0</td>\n",
       "      <td>Aurora Plains Academy Middle School</td>\n",
       "      <td>0.0</td>\n",
       "      <td>0.0</td>\n",
       "      <td>0.0</td>\n",
       "      <td>0.0</td>\n",
       "      <td>0.0</td>\n",
       "      <td>0.0</td>\n",
       "      <td>2.0</td>\n",
       "      <td>6.0</td>\n",
       "      <td>6.0</td>\n",
       "      <td>11.0</td>\n",
       "      <td>0.0</td>\n",
       "      <td>0.0</td>\n",
       "      <td>0.0</td>\n",
       "      <td>0.0</td>\n",
       "      <td>25.0</td>\n",
       "      <td>25.0</td>\n",
       "    </tr>\n",
       "    <tr>\n",
       "      <th>4</th>\n",
       "      <td>1001.0</td>\n",
       "      <td>Plankinton 01-1</td>\n",
       "      <td>5.0</td>\n",
       "      <td>Aurora Plains Academy High School</td>\n",
       "      <td>0.0</td>\n",
       "      <td>0.0</td>\n",
       "      <td>0.0</td>\n",
       "      <td>0.0</td>\n",
       "      <td>0.0</td>\n",
       "      <td>0.0</td>\n",
       "      <td>0.0</td>\n",
       "      <td>0.0</td>\n",
       "      <td>0.0</td>\n",
       "      <td>0.0</td>\n",
       "      <td>14.0</td>\n",
       "      <td>16.0</td>\n",
       "      <td>10.0</td>\n",
       "      <td>5.0</td>\n",
       "      <td>45.0</td>\n",
       "      <td>45.0</td>\n",
       "    </tr>\n",
       "  </tbody>\n",
       "</table>\n",
       "</div>"
      ],
      "text/plain": [
       "   District No.                   District Name  School No.  \\\n",
       "0        1001.0  Plankinton 01-1                        1.0   \n",
       "1        1001.0  Plankinton 01-1                        2.0   \n",
       "2        1001.0  Plankinton 01-1                        3.0   \n",
       "3        1001.0  Plankinton 01-1                        4.0   \n",
       "4        1001.0  Plankinton 01-1                        5.0   \n",
       "\n",
       "                                School Name    PK    KG    01    02    03  \\\n",
       "0  Plankinton High School                     0.0   0.0   0.0   0.0   0.0   \n",
       "1  Plankinton Elementary                     20.0  25.0  17.0  21.0  19.0   \n",
       "2  Plankinton Junior High                     0.0   0.0   0.0   0.0   0.0   \n",
       "3  Aurora Plains Academy Middle School        0.0   0.0   0.0   0.0   0.0   \n",
       "4  Aurora Plains Academy High School          0.0   0.0   0.0   0.0   0.0   \n",
       "\n",
       "     04    05    06    07    08    09    10    11    12  TOTAL KG-12  \\\n",
       "0   0.0   0.0   0.0   0.0   0.0  22.0  14.0  27.0  12.0         75.0   \n",
       "1  22.0  19.0  25.0   0.0   0.0   0.0   0.0   0.0   0.0        148.0   \n",
       "2   0.0   0.0   0.0  14.0  23.0   0.0   0.0   0.0   0.0         37.0   \n",
       "3   0.0   2.0   6.0   6.0  11.0   0.0   0.0   0.0   0.0         25.0   \n",
       "4   0.0   0.0   0.0   0.0   0.0  14.0  16.0  10.0   5.0         45.0   \n",
       "\n",
       "   TOTAL PK-12  \n",
       "0         75.0  \n",
       "1        168.0  \n",
       "2         37.0  \n",
       "3         25.0  \n",
       "4         45.0  "
      ]
     },
     "execution_count": 112,
     "metadata": {},
     "output_type": "execute_result"
    }
   ],
   "source": [
    "SD.head()"
   ]
  },
  {
   "cell_type": "markdown",
   "metadata": {},
   "source": [
    "Next the enrollment file for this year is subset to juniors and seniors and reformatted. This year the file is broken out by gender whereas last years file was not. The last step in the cell below is grouped and summed to aggregate to total enrollment per class/HS school."
   ]
  },
  {
   "cell_type": "code",
   "execution_count": 114,
   "metadata": {
    "collapsed": true
   },
   "outputs": [],
   "source": [
    "SD = SD[['District No.', 'District Name', 'School No.', 'School Name','11', '12']]\n",
    "SD = SD.rename(columns = {'11': 'Juniors This Year',\n",
    "                    '12': 'Seniors This Year'})\n",
    "SD = SD[(SD['Juniors This Year'] > 0) | (SD['Seniors This Year'] > 0)]\n",
    "\n",
    "SD = SD.groupby(['District No.', \n",
    "                         'District Name', \n",
    "                         'School No.', \n",
    "                         'School Name'], as_index=False).sum()"
   ]
  },
  {
   "cell_type": "markdown",
   "metadata": {},
   "source": [
    "Next the file name for last years enrollment is created into the object below."
   ]
  },
  {
   "cell_type": "code",
   "execution_count": 116,
   "metadata": {},
   "outputs": [
    {
     "data": {
      "text/plain": [
       "'http://doe.sd.gov/ofm/documents/Pschgen16.xlsx'"
      ]
     },
     "execution_count": 116,
     "metadata": {},
     "output_type": "execute_result"
    }
   ],
   "source": [
    "LastYear = str(int(datetime.datetime.now().year - 2))[2:]\n",
    "File = PreYearText + LastYear + extention\n",
    "File"
   ]
  },
  {
   "cell_type": "markdown",
   "metadata": {},
   "source": [
    "Using the object for the filename created above is downloaded via wget."
   ]
  },
  {
   "cell_type": "code",
   "execution_count": 117,
   "metadata": {},
   "outputs": [
    {
     "name": "stdout",
     "output_type": "stream",
     "text": [
      "100% [............................................................................] 151587 / 151587"
     ]
    }
   ],
   "source": [
    "FileName = wget.download(File)"
   ]
  },
  {
   "cell_type": "markdown",
   "metadata": {},
   "source": [
    "After the file from last year is acquired it can be read into memory via Pandas."
   ]
  },
  {
   "cell_type": "code",
   "execution_count": 118,
   "metadata": {},
   "outputs": [
    {
     "data": {
      "text/html": [
       "<div>\n",
       "<style>\n",
       "    .dataframe thead tr:only-child th {\n",
       "        text-align: right;\n",
       "    }\n",
       "\n",
       "    .dataframe thead th {\n",
       "        text-align: left;\n",
       "    }\n",
       "\n",
       "    .dataframe tbody tr th {\n",
       "        vertical-align: top;\n",
       "    }\n",
       "</style>\n",
       "<table border=\"1\" class=\"dataframe\">\n",
       "  <thead>\n",
       "    <tr style=\"text-align: right;\">\n",
       "      <th></th>\n",
       "      <th>District No.</th>\n",
       "      <th>District Name</th>\n",
       "      <th>School No.</th>\n",
       "      <th>School Name</th>\n",
       "      <th>Gender</th>\n",
       "      <th>PK</th>\n",
       "      <th>KG</th>\n",
       "      <th>01</th>\n",
       "      <th>02</th>\n",
       "      <th>03</th>\n",
       "      <th>...</th>\n",
       "      <th>05</th>\n",
       "      <th>06</th>\n",
       "      <th>07</th>\n",
       "      <th>08</th>\n",
       "      <th>09</th>\n",
       "      <th>10</th>\n",
       "      <th>11</th>\n",
       "      <th>12</th>\n",
       "      <th>TOTAL KG-12</th>\n",
       "      <th>TOTAL PK-12</th>\n",
       "    </tr>\n",
       "  </thead>\n",
       "  <tbody>\n",
       "    <tr>\n",
       "      <th>0</th>\n",
       "      <td>1001.0</td>\n",
       "      <td>Plankinton 01-1</td>\n",
       "      <td>1.0</td>\n",
       "      <td>Plankinton High School</td>\n",
       "      <td>Female</td>\n",
       "      <td>0.0</td>\n",
       "      <td>0.0</td>\n",
       "      <td>0.0</td>\n",
       "      <td>0.0</td>\n",
       "      <td>0.0</td>\n",
       "      <td>...</td>\n",
       "      <td>0.0</td>\n",
       "      <td>0.0</td>\n",
       "      <td>0.0</td>\n",
       "      <td>0.0</td>\n",
       "      <td>7.0</td>\n",
       "      <td>9.0</td>\n",
       "      <td>7.0</td>\n",
       "      <td>11.0</td>\n",
       "      <td>34.0</td>\n",
       "      <td>34.0</td>\n",
       "    </tr>\n",
       "    <tr>\n",
       "      <th>1</th>\n",
       "      <td>1001.0</td>\n",
       "      <td>Plankinton 01-1</td>\n",
       "      <td>1.0</td>\n",
       "      <td>Plankinton High School</td>\n",
       "      <td>Male</td>\n",
       "      <td>0.0</td>\n",
       "      <td>0.0</td>\n",
       "      <td>0.0</td>\n",
       "      <td>0.0</td>\n",
       "      <td>0.0</td>\n",
       "      <td>...</td>\n",
       "      <td>0.0</td>\n",
       "      <td>0.0</td>\n",
       "      <td>0.0</td>\n",
       "      <td>0.0</td>\n",
       "      <td>10.0</td>\n",
       "      <td>19.0</td>\n",
       "      <td>6.0</td>\n",
       "      <td>11.0</td>\n",
       "      <td>46.0</td>\n",
       "      <td>46.0</td>\n",
       "    </tr>\n",
       "    <tr>\n",
       "      <th>2</th>\n",
       "      <td>1001.0</td>\n",
       "      <td>Plankinton 01-1</td>\n",
       "      <td>2.0</td>\n",
       "      <td>Plankinton Elementary</td>\n",
       "      <td>Female</td>\n",
       "      <td>14.0</td>\n",
       "      <td>4.0</td>\n",
       "      <td>10.0</td>\n",
       "      <td>7.0</td>\n",
       "      <td>11.0</td>\n",
       "      <td>...</td>\n",
       "      <td>15.0</td>\n",
       "      <td>7.0</td>\n",
       "      <td>0.0</td>\n",
       "      <td>0.0</td>\n",
       "      <td>0.0</td>\n",
       "      <td>0.0</td>\n",
       "      <td>0.0</td>\n",
       "      <td>0.0</td>\n",
       "      <td>66.0</td>\n",
       "      <td>80.0</td>\n",
       "    </tr>\n",
       "    <tr>\n",
       "      <th>3</th>\n",
       "      <td>1001.0</td>\n",
       "      <td>Plankinton 01-1</td>\n",
       "      <td>2.0</td>\n",
       "      <td>Plankinton Elementary</td>\n",
       "      <td>Male</td>\n",
       "      <td>9.0</td>\n",
       "      <td>10.0</td>\n",
       "      <td>13.0</td>\n",
       "      <td>16.0</td>\n",
       "      <td>13.0</td>\n",
       "      <td>...</td>\n",
       "      <td>10.0</td>\n",
       "      <td>8.0</td>\n",
       "      <td>0.0</td>\n",
       "      <td>0.0</td>\n",
       "      <td>0.0</td>\n",
       "      <td>0.0</td>\n",
       "      <td>0.0</td>\n",
       "      <td>0.0</td>\n",
       "      <td>82.0</td>\n",
       "      <td>91.0</td>\n",
       "    </tr>\n",
       "    <tr>\n",
       "      <th>4</th>\n",
       "      <td>1001.0</td>\n",
       "      <td>Plankinton 01-1</td>\n",
       "      <td>3.0</td>\n",
       "      <td>Plankinton Junior High</td>\n",
       "      <td>Female</td>\n",
       "      <td>0.0</td>\n",
       "      <td>0.0</td>\n",
       "      <td>0.0</td>\n",
       "      <td>0.0</td>\n",
       "      <td>0.0</td>\n",
       "      <td>...</td>\n",
       "      <td>0.0</td>\n",
       "      <td>0.0</td>\n",
       "      <td>12.0</td>\n",
       "      <td>12.0</td>\n",
       "      <td>0.0</td>\n",
       "      <td>0.0</td>\n",
       "      <td>0.0</td>\n",
       "      <td>0.0</td>\n",
       "      <td>24.0</td>\n",
       "      <td>24.0</td>\n",
       "    </tr>\n",
       "  </tbody>\n",
       "</table>\n",
       "<p>5 rows × 21 columns</p>\n",
       "</div>"
      ],
      "text/plain": [
       "   District No.                   District Name  School No.  \\\n",
       "0        1001.0  Plankinton 01-1                        1.0   \n",
       "1        1001.0  Plankinton 01-1                        1.0   \n",
       "2        1001.0  Plankinton 01-1                        2.0   \n",
       "3        1001.0  Plankinton 01-1                        2.0   \n",
       "4        1001.0  Plankinton 01-1                        3.0   \n",
       "\n",
       "                                School Name  Gender    PK    KG    01    02  \\\n",
       "0  Plankinton High School                    Female   0.0   0.0   0.0   0.0   \n",
       "1  Plankinton High School                    Male     0.0   0.0   0.0   0.0   \n",
       "2  Plankinton Elementary                     Female  14.0   4.0  10.0   7.0   \n",
       "3  Plankinton Elementary                     Male     9.0  10.0  13.0  16.0   \n",
       "4  Plankinton Junior High                    Female   0.0   0.0   0.0   0.0   \n",
       "\n",
       "     03     ...         05   06    07    08    09    10   11    12  \\\n",
       "0   0.0     ...        0.0  0.0   0.0   0.0   7.0   9.0  7.0  11.0   \n",
       "1   0.0     ...        0.0  0.0   0.0   0.0  10.0  19.0  6.0  11.0   \n",
       "2  11.0     ...       15.0  7.0   0.0   0.0   0.0   0.0  0.0   0.0   \n",
       "3  13.0     ...       10.0  8.0   0.0   0.0   0.0   0.0  0.0   0.0   \n",
       "4   0.0     ...        0.0  0.0  12.0  12.0   0.0   0.0  0.0   0.0   \n",
       "\n",
       "   TOTAL KG-12  TOTAL PK-12  \n",
       "0         34.0         34.0  \n",
       "1         46.0         46.0  \n",
       "2         66.0         80.0  \n",
       "3         82.0         91.0  \n",
       "4         24.0         24.0  \n",
       "\n",
       "[5 rows x 21 columns]"
      ]
     },
     "execution_count": 118,
     "metadata": {},
     "output_type": "execute_result"
    }
   ],
   "source": [
    "LsYrSD = pd.read_excel(FileName, skiprows = 2)\n",
    "LsYrSD.head()"
   ]
  },
  {
   "cell_type": "markdown",
   "metadata": {},
   "source": [
    "Next the file for last year is subset and reformatted."
   ]
  },
  {
   "cell_type": "code",
   "execution_count": 119,
   "metadata": {
    "collapsed": true
   },
   "outputs": [],
   "source": [
    "LsYrSD = LsYrSD[['District No.', 'District Name', 'School No.', 'School Name','11', '12']]\n",
    "LsYrSD = LsYrSD.rename(columns = {'11': 'Juniors Last Year',\n",
    "                    '12': 'Seniors Last Year'})\n",
    "LsYrSD = LsYrSD[(LsYrSD['Juniors Last Year'] > 0) | (LsYrSD['Seniors Last Year'] > 0)]\n",
    "\n",
    "LsYrSD = LsYrSD.groupby(['District No.', \n",
    "                         'District Name', \n",
    "                         'School No.', \n",
    "                         'School Name'], as_index=False).sum()"
   ]
  },
  {
   "cell_type": "markdown",
   "metadata": {},
   "source": [
    "Below the enrollment files for this year and last year are joined together."
   ]
  },
  {
   "cell_type": "code",
   "execution_count": 122,
   "metadata": {
    "collapsed": true
   },
   "outputs": [],
   "source": [
    "SD = pd.merge(SD, LsYrSD, \n",
    "              how = 'inner', \n",
    "              on = ['District No.', \n",
    "                    'District Name', \n",
    "                    'School No.', \n",
    "                    'School Name'])"
   ]
  },
  {
   "cell_type": "markdown",
   "metadata": {},
   "source": [
    "After the 2 files are joined together, the enrollment deltas are calculated."
   ]
  },
  {
   "cell_type": "code",
   "execution_count": null,
   "metadata": {
    "collapsed": true
   },
   "outputs": [],
   "source": [
    "SD['JuniorDelta'] = SD['Juniors This Year']/SD['Juniors Last Year']\n",
    "SD['SeniorDelta'] = SD['Seniors This Year']/SD['Seniors Last Year']"
   ]
  },
  {
   "cell_type": "markdown",
   "metadata": {},
   "source": [
    "Next the hs lookup files is downloaded. For this Selenium is used, the files contain the upload date, so the file needs to be found via text search."
   ]
  },
  {
   "cell_type": "code",
   "execution_count": 87,
   "metadata": {
    "collapsed": true
   },
   "outputs": [],
   "source": [
    "# Set the preferences for the firefox web browser\n",
    "fp = webdriver.FirefoxProfile()\n",
    "fp.set_preference('browser.download.folderList', 2)\n",
    "fp.set_preference('browser.download.manager.showWhenStarting', False)\n",
    "fp.set_preference('browser.download.dir', '/tmp')\n",
    "fp.set_preference(\"http.response.timeout\", 300)\n",
    "fp.set_preference(\"dom.max_script_run_time\", 300)\n",
    "fp.set_preference('webdriver.load.strategy', 'unstable')\n",
    "fp.set_preference('browser.helperApps.neverAsk.saveToDisk', 'text/plain, application/vnd.ms-excel, text/csv, text/comma-separated-values, application/octet-stream, application/vnd.openxmlformats-officedocument.spreadsheetml.sheet')\n",
    "fp.update_preferences()"
   ]
  },
  {
   "cell_type": "markdown",
   "metadata": {},
   "source": [
    "Launch the browser and navigate to the education directory site."
   ]
  },
  {
   "cell_type": "code",
   "execution_count": 48,
   "metadata": {
    "collapsed": true
   },
   "outputs": [],
   "source": [
    "# MDE web app for hs enrollment data\n",
    "searchURL = 'http://doe.sd.gov/ofm/edudir.aspx'\n",
    "time.sleep(3)\n",
    "\n",
    "# Launch web browser and navigate to the searchURL\n",
    "driver = webdriver.Firefox(fp)\n",
    "driver.get(searchURL)\n",
    "time.sleep(3)"
   ]
  },
  {
   "cell_type": "markdown",
   "metadata": {},
   "source": [
    "Find the lookup file via Selenium."
   ]
  },
  {
   "cell_type": "code",
   "execution_count": 49,
   "metadata": {
    "collapsed": true
   },
   "outputs": [],
   "source": [
    "ids_a =  driver.find_elements_by_xpath(\"//*[text()='Address List: Principal & School Info. (Excel)']\")\n",
    "for ii in ids_a:\n",
    "    link = ii.get_attribute('href')\n",
    "time.sleep(4)"
   ]
  },
  {
   "cell_type": "markdown",
   "metadata": {},
   "source": [
    "Once the link has been found, the file can be downloaded with wget."
   ]
  },
  {
   "cell_type": "code",
   "execution_count": 53,
   "metadata": {},
   "outputs": [
    {
     "name": "stdout",
     "output_type": "stream",
     "text": [
      "100% [............................................................................] 153135 / 153135"
     ]
    }
   ],
   "source": [
    "FileName = wget.download(link)"
   ]
  },
  {
   "cell_type": "markdown",
   "metadata": {},
   "source": [
    "After the lookup file is downloaded it can be read into memory via Pandas."
   ]
  },
  {
   "cell_type": "code",
   "execution_count": 55,
   "metadata": {
    "collapsed": true
   },
   "outputs": [],
   "source": [
    "SDLookUp = pd.read_excel(FileName)"
   ]
  },
  {
   "cell_type": "markdown",
   "metadata": {},
   "source": [
    "Subset the lookup dataframe to the columns of interest below."
   ]
  },
  {
   "cell_type": "code",
   "execution_count": 57,
   "metadata": {
    "collapsed": true
   },
   "outputs": [],
   "source": [
    "SDLookUp = SDLookUp[['DistrictType', 'SchoolType', 'DistrictNumber', 'DistrictName',\n",
    "       'SchoolNumber', 'SchoolName', 'SchoolAddress', 'SchoolCity', 'SchoolState',\n",
    "       'SchoolZip']]"
   ]
  },
  {
   "cell_type": "markdown",
   "metadata": {},
   "source": [
    "Below the enrollment file and lookup file are joined together."
   ]
  },
  {
   "cell_type": "code",
   "execution_count": 96,
   "metadata": {
    "collapsed": true
   },
   "outputs": [],
   "source": [
    "SDFinal = pd.merge(SDLookUp, SD, how = 'inner',\n",
    "        left_on = ['DistrictNumber', \n",
    "       'SchoolNumber'],\n",
    "        right_on = ['District No.', \n",
    "                    'School No.'])"
   ]
  },
  {
   "cell_type": "markdown",
   "metadata": {},
   "source": [
    "Finally the cleaned South Dakota file can be written to a csv file."
   ]
  },
  {
   "cell_type": "code",
   "execution_count": 70,
   "metadata": {
    "collapsed": true
   },
   "outputs": [],
   "source": [
    "SDFinal.to_csv('SDFinalUpdatedZip.csv', index = False)"
   ]
  }
 ],
 "metadata": {
  "kernelspec": {
   "display_name": "Python 3",
   "language": "python",
   "name": "python3"
  },
  "language_info": {
   "codemirror_mode": {
    "name": "ipython",
    "version": 3
   },
   "file_extension": ".py",
   "mimetype": "text/x-python",
   "name": "python",
   "nbconvert_exporter": "python",
   "pygments_lexer": "ipython3",
   "version": "3.6.1"
  }
 },
 "nbformat": 4,
 "nbformat_minor": 2
}
