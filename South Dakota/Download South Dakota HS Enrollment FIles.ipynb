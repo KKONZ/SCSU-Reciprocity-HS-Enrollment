{
 "cells": [
  {
   "cell_type": "markdown",
   "metadata": {
    "collapsed": true
   },
   "source": [
    "# South Dakota"
   ]
  },
  {
   "cell_type": "markdown",
   "metadata": {},
   "source": [
    "In this notebook the enrollment files for South Dakota HS enrollment are downloaded. The enrollment files contain the file upload date so the download links will need to be found by a partitial text search."
   ]
  },
  {
   "cell_type": "markdown",
   "metadata": {},
   "source": [
    "First read the packages needed to acquire the enrollment files."
   ]
  },
  {
   "cell_type": "code",
   "execution_count": 1,
   "metadata": {
    "collapsed": true
   },
   "outputs": [],
   "source": [
    "import datetime\n",
    "import time\n",
    "import wget\n",
    "import numpy as np\n",
    "import pandas as pd\n",
    "from selenium import webdriver\n",
    "from selenium.webdriver.common.by import By\n",
    "import zipfile\n",
    "from geopy.geocoders import Nominatim"
   ]
  },
  {
   "cell_type": "markdown",
   "metadata": {},
   "source": [
    "Below an object to find the current file name is located."
   ]
  },
  {
   "cell_type": "code",
   "execution_count": 2,
   "metadata": {
    "collapsed": true
   },
   "outputs": [],
   "source": [
    "# HS enrollment file Name\n",
    "PreYearText = \"http://doe.sd.gov/ofm/documents/Pschgen\"\n",
    "Year = str(int(datetime.datetime.now().year - 1))[2:]\n",
    "extention = \".xlsx\"\n",
    "File = PreYearText + Year + extention"
   ]
  },
  {
   "cell_type": "code",
   "execution_count": 4,
   "metadata": {},
   "outputs": [
    {
     "data": {
      "text/plain": [
       "'http://doe.sd.gov/ofm/documents/Pschgen17.xlsx'"
      ]
     },
     "execution_count": 4,
     "metadata": {},
     "output_type": "execute_result"
    }
   ],
   "source": [
    "File"
   ]
  },
  {
   "cell_type": "markdown",
   "metadata": {},
   "source": [
    "* Note that on roughly 8/16/2018 Pschgen17 was renamed to Pschgen17b. The cell below appends the File object:"
   ]
  },
  {
   "cell_type": "code",
   "execution_count": 5,
   "metadata": {
    "collapsed": true
   },
   "outputs": [],
   "source": [
    "PreYearText = \"http://doe.sd.gov/ofm/documents/Pschgen\"\n",
    "Year = str(int(datetime.datetime.now().year - 1))[2:]\n",
    "extention = \".xlsx\"\n",
    "File = PreYearText + Year + 'b' + extention"
   ]
  },
  {
   "cell_type": "markdown",
   "metadata": {},
   "source": [
    "If file is not found, navigate to this link to search for the current file:\n",
    "http://doe.sd.gov/ofm/enrollment.aspx"
   ]
  },
  {
   "cell_type": "markdown",
   "metadata": {},
   "source": [
    "Using the file url download link created above the file can be downloaded."
   ]
  },
  {
   "cell_type": "code",
   "execution_count": 6,
   "metadata": {},
   "outputs": [
    {
     "name": "stdout",
     "output_type": "stream",
     "text": [
      "100% [............................................................................] 145367 / 145367"
     ]
    }
   ],
   "source": [
    "FileName = wget.download(File)"
   ]
  },
  {
   "cell_type": "markdown",
   "metadata": {},
   "source": [
    "Using Pandas, the downloaded file can be read into memory."
   ]
  },
  {
   "cell_type": "code",
   "execution_count": 7,
   "metadata": {
    "collapsed": true
   },
   "outputs": [],
   "source": [
    "SD = pd.read_excel(FileName, skiprows = 2)"
   ]
  },
  {
   "cell_type": "markdown",
   "metadata": {},
   "source": [
    "The first few rows of the downloaded file are displayed below."
   ]
  },
  {
   "cell_type": "code",
   "execution_count": 8,
   "metadata": {},
   "outputs": [
    {
     "data": {
      "text/html": [
       "<div>\n",
       "<style>\n",
       "    .dataframe thead tr:only-child th {\n",
       "        text-align: right;\n",
       "    }\n",
       "\n",
       "    .dataframe thead th {\n",
       "        text-align: left;\n",
       "    }\n",
       "\n",
       "    .dataframe tbody tr th {\n",
       "        vertical-align: top;\n",
       "    }\n",
       "</style>\n",
       "<table border=\"1\" class=\"dataframe\">\n",
       "  <thead>\n",
       "    <tr style=\"text-align: right;\">\n",
       "      <th></th>\n",
       "      <th>District No.</th>\n",
       "      <th>District Name</th>\n",
       "      <th>School No.</th>\n",
       "      <th>School Name</th>\n",
       "      <th>Gender</th>\n",
       "      <th>PK</th>\n",
       "      <th>KG</th>\n",
       "      <th>01</th>\n",
       "      <th>02</th>\n",
       "      <th>03</th>\n",
       "      <th>...</th>\n",
       "      <th>05</th>\n",
       "      <th>06</th>\n",
       "      <th>07</th>\n",
       "      <th>08</th>\n",
       "      <th>09</th>\n",
       "      <th>10</th>\n",
       "      <th>11</th>\n",
       "      <th>12</th>\n",
       "      <th>TOTAL KG-12</th>\n",
       "      <th>TOTAL PK-12</th>\n",
       "    </tr>\n",
       "  </thead>\n",
       "  <tbody>\n",
       "    <tr>\n",
       "      <th>0</th>\n",
       "      <td>1001.0</td>\n",
       "      <td>Plankinton 01-1</td>\n",
       "      <td>1.0</td>\n",
       "      <td>Plankinton High School</td>\n",
       "      <td>Female</td>\n",
       "      <td>0.0</td>\n",
       "      <td>0.0</td>\n",
       "      <td>0.0</td>\n",
       "      <td>0.0</td>\n",
       "      <td>0.0</td>\n",
       "      <td>...</td>\n",
       "      <td>0.0</td>\n",
       "      <td>0.0</td>\n",
       "      <td>0.0</td>\n",
       "      <td>0.0</td>\n",
       "      <td>13.0</td>\n",
       "      <td>6.0</td>\n",
       "      <td>11.0</td>\n",
       "      <td>5.0</td>\n",
       "      <td>35.0</td>\n",
       "      <td>35.0</td>\n",
       "    </tr>\n",
       "    <tr>\n",
       "      <th>1</th>\n",
       "      <td>1001.0</td>\n",
       "      <td>Plankinton 01-1</td>\n",
       "      <td>1.0</td>\n",
       "      <td>Plankinton High School</td>\n",
       "      <td>Male</td>\n",
       "      <td>0.0</td>\n",
       "      <td>0.0</td>\n",
       "      <td>0.0</td>\n",
       "      <td>0.0</td>\n",
       "      <td>0.0</td>\n",
       "      <td>...</td>\n",
       "      <td>0.0</td>\n",
       "      <td>0.0</td>\n",
       "      <td>0.0</td>\n",
       "      <td>0.0</td>\n",
       "      <td>9.0</td>\n",
       "      <td>8.0</td>\n",
       "      <td>16.0</td>\n",
       "      <td>7.0</td>\n",
       "      <td>40.0</td>\n",
       "      <td>40.0</td>\n",
       "    </tr>\n",
       "    <tr>\n",
       "      <th>2</th>\n",
       "      <td>1001.0</td>\n",
       "      <td>Plankinton 01-1</td>\n",
       "      <td>2.0</td>\n",
       "      <td>Plankinton Elementary</td>\n",
       "      <td>Female</td>\n",
       "      <td>11.0</td>\n",
       "      <td>13.0</td>\n",
       "      <td>5.0</td>\n",
       "      <td>11.0</td>\n",
       "      <td>5.0</td>\n",
       "      <td>...</td>\n",
       "      <td>9.0</td>\n",
       "      <td>14.0</td>\n",
       "      <td>0.0</td>\n",
       "      <td>0.0</td>\n",
       "      <td>0.0</td>\n",
       "      <td>0.0</td>\n",
       "      <td>0.0</td>\n",
       "      <td>0.0</td>\n",
       "      <td>68.0</td>\n",
       "      <td>79.0</td>\n",
       "    </tr>\n",
       "    <tr>\n",
       "      <th>3</th>\n",
       "      <td>1001.0</td>\n",
       "      <td>Plankinton 01-1</td>\n",
       "      <td>2.0</td>\n",
       "      <td>Plankinton Elementary</td>\n",
       "      <td>Male</td>\n",
       "      <td>9.0</td>\n",
       "      <td>12.0</td>\n",
       "      <td>12.0</td>\n",
       "      <td>10.0</td>\n",
       "      <td>14.0</td>\n",
       "      <td>...</td>\n",
       "      <td>10.0</td>\n",
       "      <td>11.0</td>\n",
       "      <td>0.0</td>\n",
       "      <td>0.0</td>\n",
       "      <td>0.0</td>\n",
       "      <td>0.0</td>\n",
       "      <td>0.0</td>\n",
       "      <td>0.0</td>\n",
       "      <td>80.0</td>\n",
       "      <td>89.0</td>\n",
       "    </tr>\n",
       "    <tr>\n",
       "      <th>4</th>\n",
       "      <td>1001.0</td>\n",
       "      <td>Plankinton 01-1</td>\n",
       "      <td>3.0</td>\n",
       "      <td>Plankinton Junior High</td>\n",
       "      <td>Female</td>\n",
       "      <td>0.0</td>\n",
       "      <td>0.0</td>\n",
       "      <td>0.0</td>\n",
       "      <td>0.0</td>\n",
       "      <td>0.0</td>\n",
       "      <td>...</td>\n",
       "      <td>0.0</td>\n",
       "      <td>0.0</td>\n",
       "      <td>6.0</td>\n",
       "      <td>12.0</td>\n",
       "      <td>0.0</td>\n",
       "      <td>0.0</td>\n",
       "      <td>0.0</td>\n",
       "      <td>0.0</td>\n",
       "      <td>18.0</td>\n",
       "      <td>18.0</td>\n",
       "    </tr>\n",
       "  </tbody>\n",
       "</table>\n",
       "<p>5 rows × 21 columns</p>\n",
       "</div>"
      ],
      "text/plain": [
       "   District No.                   District Name  School No.  \\\n",
       "0        1001.0  Plankinton 01-1                        1.0   \n",
       "1        1001.0  Plankinton 01-1                        1.0   \n",
       "2        1001.0  Plankinton 01-1                        2.0   \n",
       "3        1001.0  Plankinton 01-1                        2.0   \n",
       "4        1001.0  Plankinton 01-1                        3.0   \n",
       "\n",
       "                                School Name  Gender    PK    KG    01    02  \\\n",
       "0  Plankinton High School                    Female   0.0   0.0   0.0   0.0   \n",
       "1  Plankinton High School                    Male     0.0   0.0   0.0   0.0   \n",
       "2  Plankinton Elementary                     Female  11.0  13.0   5.0  11.0   \n",
       "3  Plankinton Elementary                     Male     9.0  12.0  12.0  10.0   \n",
       "4  Plankinton Junior High                    Female   0.0   0.0   0.0   0.0   \n",
       "\n",
       "     03     ...         05    06   07    08    09   10    11   12  \\\n",
       "0   0.0     ...        0.0   0.0  0.0   0.0  13.0  6.0  11.0  5.0   \n",
       "1   0.0     ...        0.0   0.0  0.0   0.0   9.0  8.0  16.0  7.0   \n",
       "2   5.0     ...        9.0  14.0  0.0   0.0   0.0  0.0   0.0  0.0   \n",
       "3  14.0     ...       10.0  11.0  0.0   0.0   0.0  0.0   0.0  0.0   \n",
       "4   0.0     ...        0.0   0.0  6.0  12.0   0.0  0.0   0.0  0.0   \n",
       "\n",
       "   TOTAL KG-12  TOTAL PK-12  \n",
       "0         35.0         35.0  \n",
       "1         40.0         40.0  \n",
       "2         68.0         79.0  \n",
       "3         80.0         89.0  \n",
       "4         18.0         18.0  \n",
       "\n",
       "[5 rows x 21 columns]"
      ]
     },
     "execution_count": 8,
     "metadata": {},
     "output_type": "execute_result"
    }
   ],
   "source": [
    "SD.head()"
   ]
  },
  {
   "cell_type": "markdown",
   "metadata": {},
   "source": [
    "Next the enrollment file for this year is subset to juniors and seniors and reformatted. This year the file is broken out by gender whereas last years file was not. The last step in the cell below is grouped and summed to aggregate to total enrollment per class/HS school."
   ]
  },
  {
   "cell_type": "code",
   "execution_count": 9,
   "metadata": {
    "collapsed": true
   },
   "outputs": [],
   "source": [
    "SD = SD[['District No.', 'District Name', 'School No.', 'School Name','11', '12']]\n",
    "SD = SD.rename(columns = {'11': 'Juniors This Year',\n",
    "                    '12': 'Seniors This Year'})\n",
    "SD = SD[(SD['Juniors This Year'] > 0) | (SD['Seniors This Year'] > 0)]\n",
    "\n",
    "SD = SD.groupby(['District No.', \n",
    "                         'District Name', \n",
    "                         'School No.', \n",
    "                         'School Name'], as_index=False).sum()"
   ]
  },
  {
   "cell_type": "markdown",
   "metadata": {},
   "source": [
    "Next the file name for last years enrollment is created into the object below."
   ]
  },
  {
   "cell_type": "code",
   "execution_count": 10,
   "metadata": {},
   "outputs": [
    {
     "data": {
      "text/plain": [
       "'http://doe.sd.gov/ofm/documents/Pschgen16.xlsx'"
      ]
     },
     "execution_count": 10,
     "metadata": {},
     "output_type": "execute_result"
    }
   ],
   "source": [
    "LastYear = str(int(datetime.datetime.now().year - 2))[2:]\n",
    "File = PreYearText + LastYear + extention\n",
    "File"
   ]
  },
  {
   "cell_type": "markdown",
   "metadata": {},
   "source": [
    "Using the object for the filename created above is downloaded via wget."
   ]
  },
  {
   "cell_type": "code",
   "execution_count": 11,
   "metadata": {},
   "outputs": [
    {
     "name": "stdout",
     "output_type": "stream",
     "text": [
      "100% [............................................................................] 151587 / 151587"
     ]
    }
   ],
   "source": [
    "FileName = wget.download(File)"
   ]
  },
  {
   "cell_type": "markdown",
   "metadata": {},
   "source": [
    "After the file from last year is acquired it can be read into memory via Pandas."
   ]
  },
  {
   "cell_type": "code",
   "execution_count": 12,
   "metadata": {},
   "outputs": [
    {
     "data": {
      "text/html": [
       "<div>\n",
       "<style>\n",
       "    .dataframe thead tr:only-child th {\n",
       "        text-align: right;\n",
       "    }\n",
       "\n",
       "    .dataframe thead th {\n",
       "        text-align: left;\n",
       "    }\n",
       "\n",
       "    .dataframe tbody tr th {\n",
       "        vertical-align: top;\n",
       "    }\n",
       "</style>\n",
       "<table border=\"1\" class=\"dataframe\">\n",
       "  <thead>\n",
       "    <tr style=\"text-align: right;\">\n",
       "      <th></th>\n",
       "      <th>District No.</th>\n",
       "      <th>District Name</th>\n",
       "      <th>School No.</th>\n",
       "      <th>School Name</th>\n",
       "      <th>Gender</th>\n",
       "      <th>PK</th>\n",
       "      <th>KG</th>\n",
       "      <th>01</th>\n",
       "      <th>02</th>\n",
       "      <th>03</th>\n",
       "      <th>...</th>\n",
       "      <th>05</th>\n",
       "      <th>06</th>\n",
       "      <th>07</th>\n",
       "      <th>08</th>\n",
       "      <th>09</th>\n",
       "      <th>10</th>\n",
       "      <th>11</th>\n",
       "      <th>12</th>\n",
       "      <th>TOTAL KG-12</th>\n",
       "      <th>TOTAL PK-12</th>\n",
       "    </tr>\n",
       "  </thead>\n",
       "  <tbody>\n",
       "    <tr>\n",
       "      <th>0</th>\n",
       "      <td>1001.0</td>\n",
       "      <td>Plankinton 01-1</td>\n",
       "      <td>1.0</td>\n",
       "      <td>Plankinton High School</td>\n",
       "      <td>Female</td>\n",
       "      <td>0.0</td>\n",
       "      <td>0.0</td>\n",
       "      <td>0.0</td>\n",
       "      <td>0.0</td>\n",
       "      <td>0.0</td>\n",
       "      <td>...</td>\n",
       "      <td>0.0</td>\n",
       "      <td>0.0</td>\n",
       "      <td>0.0</td>\n",
       "      <td>0.0</td>\n",
       "      <td>7.0</td>\n",
       "      <td>9.0</td>\n",
       "      <td>7.0</td>\n",
       "      <td>11.0</td>\n",
       "      <td>34.0</td>\n",
       "      <td>34.0</td>\n",
       "    </tr>\n",
       "    <tr>\n",
       "      <th>1</th>\n",
       "      <td>1001.0</td>\n",
       "      <td>Plankinton 01-1</td>\n",
       "      <td>1.0</td>\n",
       "      <td>Plankinton High School</td>\n",
       "      <td>Male</td>\n",
       "      <td>0.0</td>\n",
       "      <td>0.0</td>\n",
       "      <td>0.0</td>\n",
       "      <td>0.0</td>\n",
       "      <td>0.0</td>\n",
       "      <td>...</td>\n",
       "      <td>0.0</td>\n",
       "      <td>0.0</td>\n",
       "      <td>0.0</td>\n",
       "      <td>0.0</td>\n",
       "      <td>10.0</td>\n",
       "      <td>19.0</td>\n",
       "      <td>6.0</td>\n",
       "      <td>11.0</td>\n",
       "      <td>46.0</td>\n",
       "      <td>46.0</td>\n",
       "    </tr>\n",
       "    <tr>\n",
       "      <th>2</th>\n",
       "      <td>1001.0</td>\n",
       "      <td>Plankinton 01-1</td>\n",
       "      <td>2.0</td>\n",
       "      <td>Plankinton Elementary</td>\n",
       "      <td>Female</td>\n",
       "      <td>14.0</td>\n",
       "      <td>4.0</td>\n",
       "      <td>10.0</td>\n",
       "      <td>7.0</td>\n",
       "      <td>11.0</td>\n",
       "      <td>...</td>\n",
       "      <td>15.0</td>\n",
       "      <td>7.0</td>\n",
       "      <td>0.0</td>\n",
       "      <td>0.0</td>\n",
       "      <td>0.0</td>\n",
       "      <td>0.0</td>\n",
       "      <td>0.0</td>\n",
       "      <td>0.0</td>\n",
       "      <td>66.0</td>\n",
       "      <td>80.0</td>\n",
       "    </tr>\n",
       "    <tr>\n",
       "      <th>3</th>\n",
       "      <td>1001.0</td>\n",
       "      <td>Plankinton 01-1</td>\n",
       "      <td>2.0</td>\n",
       "      <td>Plankinton Elementary</td>\n",
       "      <td>Male</td>\n",
       "      <td>9.0</td>\n",
       "      <td>10.0</td>\n",
       "      <td>13.0</td>\n",
       "      <td>16.0</td>\n",
       "      <td>13.0</td>\n",
       "      <td>...</td>\n",
       "      <td>10.0</td>\n",
       "      <td>8.0</td>\n",
       "      <td>0.0</td>\n",
       "      <td>0.0</td>\n",
       "      <td>0.0</td>\n",
       "      <td>0.0</td>\n",
       "      <td>0.0</td>\n",
       "      <td>0.0</td>\n",
       "      <td>82.0</td>\n",
       "      <td>91.0</td>\n",
       "    </tr>\n",
       "    <tr>\n",
       "      <th>4</th>\n",
       "      <td>1001.0</td>\n",
       "      <td>Plankinton 01-1</td>\n",
       "      <td>3.0</td>\n",
       "      <td>Plankinton Junior High</td>\n",
       "      <td>Female</td>\n",
       "      <td>0.0</td>\n",
       "      <td>0.0</td>\n",
       "      <td>0.0</td>\n",
       "      <td>0.0</td>\n",
       "      <td>0.0</td>\n",
       "      <td>...</td>\n",
       "      <td>0.0</td>\n",
       "      <td>0.0</td>\n",
       "      <td>12.0</td>\n",
       "      <td>12.0</td>\n",
       "      <td>0.0</td>\n",
       "      <td>0.0</td>\n",
       "      <td>0.0</td>\n",
       "      <td>0.0</td>\n",
       "      <td>24.0</td>\n",
       "      <td>24.0</td>\n",
       "    </tr>\n",
       "  </tbody>\n",
       "</table>\n",
       "<p>5 rows × 21 columns</p>\n",
       "</div>"
      ],
      "text/plain": [
       "   District No.                   District Name  School No.  \\\n",
       "0        1001.0  Plankinton 01-1                        1.0   \n",
       "1        1001.0  Plankinton 01-1                        1.0   \n",
       "2        1001.0  Plankinton 01-1                        2.0   \n",
       "3        1001.0  Plankinton 01-1                        2.0   \n",
       "4        1001.0  Plankinton 01-1                        3.0   \n",
       "\n",
       "                                School Name  Gender    PK    KG    01    02  \\\n",
       "0  Plankinton High School                    Female   0.0   0.0   0.0   0.0   \n",
       "1  Plankinton High School                    Male     0.0   0.0   0.0   0.0   \n",
       "2  Plankinton Elementary                     Female  14.0   4.0  10.0   7.0   \n",
       "3  Plankinton Elementary                     Male     9.0  10.0  13.0  16.0   \n",
       "4  Plankinton Junior High                    Female   0.0   0.0   0.0   0.0   \n",
       "\n",
       "     03     ...         05   06    07    08    09    10   11    12  \\\n",
       "0   0.0     ...        0.0  0.0   0.0   0.0   7.0   9.0  7.0  11.0   \n",
       "1   0.0     ...        0.0  0.0   0.0   0.0  10.0  19.0  6.0  11.0   \n",
       "2  11.0     ...       15.0  7.0   0.0   0.0   0.0   0.0  0.0   0.0   \n",
       "3  13.0     ...       10.0  8.0   0.0   0.0   0.0   0.0  0.0   0.0   \n",
       "4   0.0     ...        0.0  0.0  12.0  12.0   0.0   0.0  0.0   0.0   \n",
       "\n",
       "   TOTAL KG-12  TOTAL PK-12  \n",
       "0         34.0         34.0  \n",
       "1         46.0         46.0  \n",
       "2         66.0         80.0  \n",
       "3         82.0         91.0  \n",
       "4         24.0         24.0  \n",
       "\n",
       "[5 rows x 21 columns]"
      ]
     },
     "execution_count": 12,
     "metadata": {},
     "output_type": "execute_result"
    }
   ],
   "source": [
    "LsYrSD = pd.read_excel(FileName, skiprows = 2)\n",
    "LsYrSD.head()"
   ]
  },
  {
   "cell_type": "markdown",
   "metadata": {},
   "source": [
    "Next the file for last year is subset and reformatted."
   ]
  },
  {
   "cell_type": "code",
   "execution_count": 13,
   "metadata": {
    "collapsed": true
   },
   "outputs": [],
   "source": [
    "LsYrSD = LsYrSD[['District No.', 'District Name', 'School No.', 'School Name','11', '12']]\n",
    "LsYrSD = LsYrSD.rename(columns = {'11': 'Juniors Last Year',\n",
    "                    '12': 'Seniors Last Year'})\n",
    "LsYrSD = LsYrSD[(LsYrSD['Juniors Last Year'] > 0) | (LsYrSD['Seniors Last Year'] > 0)]\n",
    "\n",
    "LsYrSD = LsYrSD.groupby(['District No.', \n",
    "                         'District Name', \n",
    "                         'School No.', \n",
    "                         'School Name'], as_index=False).sum()"
   ]
  },
  {
   "cell_type": "markdown",
   "metadata": {},
   "source": [
    "Below the enrollment files for this year and last year are joined together."
   ]
  },
  {
   "cell_type": "code",
   "execution_count": 14,
   "metadata": {
    "collapsed": true
   },
   "outputs": [],
   "source": [
    "SD = pd.merge(SD, LsYrSD, \n",
    "              how = 'inner', \n",
    "              on = ['District No.', \n",
    "                    'District Name', \n",
    "                    'School No.', \n",
    "                    'School Name'])"
   ]
  },
  {
   "cell_type": "markdown",
   "metadata": {},
   "source": [
    "After the 2 files are joined together, the enrollment deltas are calculated."
   ]
  },
  {
   "cell_type": "code",
   "execution_count": 15,
   "metadata": {
    "collapsed": true
   },
   "outputs": [],
   "source": [
    "SD['JuniorDelta'] = SD['Juniors This Year']/SD['Juniors Last Year']\n",
    "SD['SeniorDelta'] = SD['Seniors This Year']/SD['Seniors Last Year']"
   ]
  },
  {
   "cell_type": "markdown",
   "metadata": {},
   "source": [
    "Next the hs lookup files is downloaded. For this Selenium is used, the files contain the upload date, so the file needs to be found via text search."
   ]
  },
  {
   "cell_type": "code",
   "execution_count": 16,
   "metadata": {
    "collapsed": true
   },
   "outputs": [],
   "source": [
    "# Set the preferences for the firefox web browser\n",
    "fp = webdriver.FirefoxProfile()\n",
    "fp.set_preference('browser.download.folderList', 2)\n",
    "fp.set_preference('browser.download.manager.showWhenStarting', False)\n",
    "fp.set_preference('browser.download.dir', '/tmp')\n",
    "fp.set_preference(\"http.response.timeout\", 300)\n",
    "fp.set_preference(\"dom.max_script_run_time\", 300)\n",
    "fp.set_preference('webdriver.load.strategy', 'unstable')\n",
    "fp.set_preference('browser.helperApps.neverAsk.saveToDisk', 'text/plain, application/vnd.ms-excel, text/csv, text/comma-separated-values, application/octet-stream, application/vnd.openxmlformats-officedocument.spreadsheetml.sheet')\n",
    "fp.update_preferences()"
   ]
  },
  {
   "cell_type": "markdown",
   "metadata": {},
   "source": [
    "Launch the browser and navigate to the education directory site."
   ]
  },
  {
   "cell_type": "code",
   "execution_count": 17,
   "metadata": {
    "collapsed": true
   },
   "outputs": [],
   "source": [
    "# MDE web app for hs enrollment data\n",
    "searchURL = 'http://doe.sd.gov/ofm/edudir.aspx'\n",
    "time.sleep(3)\n",
    "\n",
    "# Launch web browser and navigate to the searchURL\n",
    "driver = webdriver.Firefox(fp)\n",
    "driver.get(searchURL)\n",
    "time.sleep(3)"
   ]
  },
  {
   "cell_type": "markdown",
   "metadata": {},
   "source": [
    "Find the lookup file via Selenium."
   ]
  },
  {
   "cell_type": "code",
   "execution_count": 18,
   "metadata": {
    "collapsed": true
   },
   "outputs": [],
   "source": [
    "ids_a =  driver.find_elements_by_xpath(\"//*[text()='Address List: Principal & School Info. (Excel)']\")\n",
    "for ii in ids_a:\n",
    "    link = ii.get_attribute('href')\n",
    "time.sleep(4)"
   ]
  },
  {
   "cell_type": "markdown",
   "metadata": {},
   "source": [
    "Once the link has been found, the file can be downloaded with wget."
   ]
  },
  {
   "cell_type": "code",
   "execution_count": 20,
   "metadata": {},
   "outputs": [
    {
     "name": "stdout",
     "output_type": "stream",
     "text": [
      "100% [............................................................................] 153135 / 153135"
     ]
    }
   ],
   "source": [
    "FileName = wget.download(link)"
   ]
  },
  {
   "cell_type": "markdown",
   "metadata": {},
   "source": [
    "After the lookup file is downloaded it can be read into memory via Pandas."
   ]
  },
  {
   "cell_type": "code",
   "execution_count": 21,
   "metadata": {
    "collapsed": true
   },
   "outputs": [],
   "source": [
    "SDLookUp = pd.read_excel(FileName)"
   ]
  },
  {
   "cell_type": "markdown",
   "metadata": {},
   "source": [
    "Subset the lookup dataframe to the columns of interest below."
   ]
  },
  {
   "cell_type": "code",
   "execution_count": 22,
   "metadata": {
    "collapsed": true
   },
   "outputs": [],
   "source": [
    "SDLookUp = SDLookUp[['DistrictType', 'SchoolType', 'DistrictNumber', 'DistrictName',\n",
    "       'SchoolNumber', 'SchoolName', 'SchoolAddress', 'SchoolCity', 'SchoolState',\n",
    "       'SchoolZip']]"
   ]
  },
  {
   "cell_type": "markdown",
   "metadata": {},
   "source": [
    "Below the enrollment file and lookup file are joined together."
   ]
  },
  {
   "cell_type": "code",
   "execution_count": 23,
   "metadata": {
    "collapsed": true
   },
   "outputs": [],
   "source": [
    "SDFinal = pd.merge(SDLookUp, SD, how = 'inner',\n",
    "        left_on = ['DistrictNumber', \n",
    "       'SchoolNumber'],\n",
    "        right_on = ['District No.', \n",
    "                    'School No.'])"
   ]
  },
  {
   "cell_type": "code",
   "execution_count": 24,
   "metadata": {},
   "outputs": [
    {
     "data": {
      "text/html": [
       "<div>\n",
       "<style>\n",
       "    .dataframe thead tr:only-child th {\n",
       "        text-align: right;\n",
       "    }\n",
       "\n",
       "    .dataframe thead th {\n",
       "        text-align: left;\n",
       "    }\n",
       "\n",
       "    .dataframe tbody tr th {\n",
       "        vertical-align: top;\n",
       "    }\n",
       "</style>\n",
       "<table border=\"1\" class=\"dataframe\">\n",
       "  <thead>\n",
       "    <tr style=\"text-align: right;\">\n",
       "      <th></th>\n",
       "      <th>DistrictType</th>\n",
       "      <th>SchoolType</th>\n",
       "      <th>DistrictNumber</th>\n",
       "      <th>DistrictName</th>\n",
       "      <th>SchoolNumber</th>\n",
       "      <th>SchoolName</th>\n",
       "      <th>SchoolAddress</th>\n",
       "      <th>SchoolCity</th>\n",
       "      <th>SchoolState</th>\n",
       "      <th>SchoolZip</th>\n",
       "      <th>District No.</th>\n",
       "      <th>District Name</th>\n",
       "      <th>School No.</th>\n",
       "      <th>School Name</th>\n",
       "      <th>Juniors This Year</th>\n",
       "      <th>Seniors This Year</th>\n",
       "      <th>Juniors Last Year</th>\n",
       "      <th>Seniors Last Year</th>\n",
       "      <th>JuniorDelta</th>\n",
       "      <th>SeniorDelta</th>\n",
       "    </tr>\n",
       "  </thead>\n",
       "  <tbody>\n",
       "    <tr>\n",
       "      <th>0</th>\n",
       "      <td>Public School District</td>\n",
       "      <td>Secondary 9-12</td>\n",
       "      <td>6001</td>\n",
       "      <td>Aberdeen 06-1</td>\n",
       "      <td>1</td>\n",
       "      <td>Central High School - 01</td>\n",
       "      <td>2200 S Roosevelt St</td>\n",
       "      <td>Aberdeen</td>\n",
       "      <td>SD</td>\n",
       "      <td>57401</td>\n",
       "      <td>6001.0</td>\n",
       "      <td>Aberdeen 06-1</td>\n",
       "      <td>1.0</td>\n",
       "      <td>Central High School</td>\n",
       "      <td>335.0</td>\n",
       "      <td>354.0</td>\n",
       "      <td>336.0</td>\n",
       "      <td>315.0</td>\n",
       "      <td>0.997024</td>\n",
       "      <td>1.123810</td>\n",
       "    </tr>\n",
       "    <tr>\n",
       "      <th>1</th>\n",
       "      <td>Public School District</td>\n",
       "      <td>Aux Placement</td>\n",
       "      <td>6001</td>\n",
       "      <td>Aberdeen 06-1</td>\n",
       "      <td>89</td>\n",
       "      <td>New Beginnings - 89</td>\n",
       "      <td>1601 Milwaukee Ave NE</td>\n",
       "      <td>Aberdeen</td>\n",
       "      <td>SD</td>\n",
       "      <td>57401</td>\n",
       "      <td>6001.0</td>\n",
       "      <td>Aberdeen 06-1</td>\n",
       "      <td>89.0</td>\n",
       "      <td>New Beginnings</td>\n",
       "      <td>2.0</td>\n",
       "      <td>1.0</td>\n",
       "      <td>2.0</td>\n",
       "      <td>0.0</td>\n",
       "      <td>1.000000</td>\n",
       "      <td>inf</td>\n",
       "    </tr>\n",
       "    <tr>\n",
       "      <th>2</th>\n",
       "      <td>Public School District</td>\n",
       "      <td>Secondary 9-12</td>\n",
       "      <td>58003</td>\n",
       "      <td>Agar-Blunt-Onida 58-3</td>\n",
       "      <td>7</td>\n",
       "      <td>Sully Buttes High School - 07</td>\n",
       "      <td>500 8th St</td>\n",
       "      <td>Onida</td>\n",
       "      <td>SD</td>\n",
       "      <td>57564</td>\n",
       "      <td>58003.0</td>\n",
       "      <td>Agar-Blunt-Onida 58-3</td>\n",
       "      <td>7.0</td>\n",
       "      <td>Sully Buttes High School</td>\n",
       "      <td>18.0</td>\n",
       "      <td>14.0</td>\n",
       "      <td>14.0</td>\n",
       "      <td>25.0</td>\n",
       "      <td>1.285714</td>\n",
       "      <td>0.560000</td>\n",
       "    </tr>\n",
       "    <tr>\n",
       "      <th>3</th>\n",
       "      <td>Public School District</td>\n",
       "      <td>Secondary 9-12</td>\n",
       "      <td>61001</td>\n",
       "      <td>Alcester-Hudson 61-1</td>\n",
       "      <td>1</td>\n",
       "      <td>Alcester-Hudson High School - 01</td>\n",
       "      <td>102 E 5th</td>\n",
       "      <td>Alcester</td>\n",
       "      <td>SD</td>\n",
       "      <td>57001</td>\n",
       "      <td>61001.0</td>\n",
       "      <td>Alcester-Hudson 61-1</td>\n",
       "      <td>1.0</td>\n",
       "      <td>Alcester-Hudson High School</td>\n",
       "      <td>25.0</td>\n",
       "      <td>21.0</td>\n",
       "      <td>25.0</td>\n",
       "      <td>15.0</td>\n",
       "      <td>1.000000</td>\n",
       "      <td>1.400000</td>\n",
       "    </tr>\n",
       "    <tr>\n",
       "      <th>4</th>\n",
       "      <td>Public School District</td>\n",
       "      <td>Secondary 9-12</td>\n",
       "      <td>11001</td>\n",
       "      <td>Andes Central 11-1</td>\n",
       "      <td>1</td>\n",
       "      <td>Andes Central High School - 01</td>\n",
       "      <td>400 School St</td>\n",
       "      <td>Lake Andes</td>\n",
       "      <td>SD</td>\n",
       "      <td>57356</td>\n",
       "      <td>11001.0</td>\n",
       "      <td>Andes Central 11-1</td>\n",
       "      <td>1.0</td>\n",
       "      <td>Andes Central High School</td>\n",
       "      <td>17.0</td>\n",
       "      <td>16.0</td>\n",
       "      <td>18.0</td>\n",
       "      <td>11.0</td>\n",
       "      <td>0.944444</td>\n",
       "      <td>1.454545</td>\n",
       "    </tr>\n",
       "  </tbody>\n",
       "</table>\n",
       "</div>"
      ],
      "text/plain": [
       "             DistrictType      SchoolType DistrictNumber  \\\n",
       "0  Public School District  Secondary 9-12           6001   \n",
       "1  Public School District   Aux Placement           6001   \n",
       "2  Public School District  Secondary 9-12          58003   \n",
       "3  Public School District  Secondary 9-12          61001   \n",
       "4  Public School District  Secondary 9-12          11001   \n",
       "\n",
       "            DistrictName SchoolNumber                        SchoolName  \\\n",
       "0          Aberdeen 06-1            1          Central High School - 01   \n",
       "1          Aberdeen 06-1           89               New Beginnings - 89   \n",
       "2  Agar-Blunt-Onida 58-3            7     Sully Buttes High School - 07   \n",
       "3   Alcester-Hudson 61-1            1  Alcester-Hudson High School - 01   \n",
       "4     Andes Central 11-1            1    Andes Central High School - 01   \n",
       "\n",
       "           SchoolAddress  SchoolCity SchoolState SchoolZip  District No.  \\\n",
       "0    2200 S Roosevelt St    Aberdeen          SD     57401        6001.0   \n",
       "1  1601 Milwaukee Ave NE    Aberdeen          SD     57401        6001.0   \n",
       "2             500 8th St       Onida          SD     57564       58003.0   \n",
       "3              102 E 5th    Alcester          SD     57001       61001.0   \n",
       "4          400 School St  Lake Andes          SD     57356       11001.0   \n",
       "\n",
       "                    District Name  School No.  \\\n",
       "0  Aberdeen 06-1                          1.0   \n",
       "1  Aberdeen 06-1                         89.0   \n",
       "2  Agar-Blunt-Onida 58-3                  7.0   \n",
       "3  Alcester-Hudson 61-1                   1.0   \n",
       "4  Andes Central 11-1                     1.0   \n",
       "\n",
       "                                School Name  Juniors This Year  \\\n",
       "0  Central High School                                   335.0   \n",
       "1  New Beginnings                                          2.0   \n",
       "2  Sully Buttes High School                               18.0   \n",
       "3  Alcester-Hudson High School                            25.0   \n",
       "4  Andes Central High School                              17.0   \n",
       "\n",
       "   Seniors This Year  Juniors Last Year  Seniors Last Year  JuniorDelta  \\\n",
       "0              354.0              336.0              315.0     0.997024   \n",
       "1                1.0                2.0                0.0     1.000000   \n",
       "2               14.0               14.0               25.0     1.285714   \n",
       "3               21.0               25.0               15.0     1.000000   \n",
       "4               16.0               18.0               11.0     0.944444   \n",
       "\n",
       "   SeniorDelta  \n",
       "0     1.123810  \n",
       "1          inf  \n",
       "2     0.560000  \n",
       "3     1.400000  \n",
       "4     1.454545  "
      ]
     },
     "execution_count": 24,
     "metadata": {},
     "output_type": "execute_result"
    }
   ],
   "source": [
    "SDFinal.head()"
   ]
  },
  {
   "cell_type": "markdown",
   "metadata": {},
   "source": [
    "Finally the cleaned South Dakota file can be written to a csv file."
   ]
  },
  {
   "cell_type": "code",
   "execution_count": 25,
   "metadata": {
    "collapsed": true
   },
   "outputs": [],
   "source": [
    "SDFinal.to_csv('SD.csv', index = False)"
   ]
  },
  {
   "cell_type": "code",
   "execution_count": null,
   "metadata": {
    "collapsed": true
   },
   "outputs": [],
   "source": []
  }
 ],
 "metadata": {
  "kernelspec": {
   "display_name": "Python 3",
   "language": "python",
   "name": "python3"
  },
  "language_info": {
   "codemirror_mode": {
    "name": "ipython",
    "version": 3
   },
   "file_extension": ".py",
   "mimetype": "text/x-python",
   "name": "python",
   "nbconvert_exporter": "python",
   "pygments_lexer": "ipython3",
   "version": "3.6.1"
  }
 },
 "nbformat": 4,
 "nbformat_minor": 2
}
