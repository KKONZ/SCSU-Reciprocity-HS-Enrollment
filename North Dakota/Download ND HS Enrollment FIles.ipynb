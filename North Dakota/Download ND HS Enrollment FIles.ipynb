{
 "cells": [
  {
   "cell_type": "markdown",
   "metadata": {},
   "source": [
    "# North Dakota"
   ]
  },
  {
   "cell_type": "markdown",
   "metadata": {},
   "source": [
    "In this notebook the high school enrollment for North Dakota is downloaded. The files are a bit tricky to aquire. The school lookup file, which includes zip code used for plotting in the final data deliverable, is pretty straight forward and can be obtained with just wget. The enrollment files contain the upload date so the download links need to be found with a partitial title search."
   ]
  },
  {
   "cell_type": "markdown",
   "metadata": {},
   "source": [
    "First the needed packages are loaded into memory."
   ]
  },
  {
   "cell_type": "code",
   "execution_count": 6,
   "metadata": {
    "collapsed": true
   },
   "outputs": [],
   "source": [
    "import datetime\n",
    "import time\n",
    "import wget\n",
    "import numpy as np\n",
    "import pandas as pd\n",
    "from selenium import webdriver\n",
    "from selenium.webdriver.common.by import By"
   ]
  },
  {
   "cell_type": "markdown",
   "metadata": {},
   "source": [
    "Next a rolling window object for the this years filename is created. This will be used to look up the data file."
   ]
  },
  {
   "cell_type": "code",
   "execution_count": 7,
   "metadata": {
    "collapsed": true
   },
   "outputs": [],
   "source": [
    "ThisYearFile = str(datetime.datetime.now().year - 1)\n",
    "Text = ThisYearFile +'-' + str(int(ThisYearFile[2:]) + 1) + ' Fall Enrollment'"
   ]
  },
  {
   "cell_type": "markdown",
   "metadata": {},
   "source": [
    "For this notebook, to find the desired enrollment files using Selenium. This is will launch a browser and search for the download links. Below the browser preferences are set. This makes sure that Windows does not open a pop up when downloading and does not need permission to download the given file."
   ]
  },
  {
   "cell_type": "code",
   "execution_count": 32,
   "metadata": {
    "collapsed": true
   },
   "outputs": [],
   "source": [
    "# Set the preferences for the firefox web browser\n",
    "fp = webdriver.FirefoxProfile()\n",
    "fp.set_preference('browser.download.folderList', 2)\n",
    "fp.set_preference('browser.download.manager.showWhenStarting', False)\n",
    "fp.set_preference('browser.download.dir', '/tmp')\n",
    "fp.set_preference(\"http.response.timeout\", 300)\n",
    "fp.set_preference(\"dom.max_script_run_time\", 300)\n",
    "fp.set_preference('webdriver.load.strategy', 'unstable')\n",
    "fp.set_preference('browser.helperApps.neverAsk.saveToDisk', 'text/plain, application/vnd.ms-excel, text/csv, text/comma-separated-values, application/octet-stream, application/vnd.openxmlformats-officedocument.spreadsheetml.sheet')\n",
    "fp.update_preferences()"
   ]
  },
  {
   "cell_type": "markdown",
   "metadata": {},
   "source": [
    "After the preferences are set, the browser can be launched and navigate to the site where the desired enrollment files are found."
   ]
  },
  {
   "cell_type": "code",
   "execution_count": 33,
   "metadata": {
    "collapsed": true
   },
   "outputs": [],
   "source": [
    "# MDE web app for hs enrollment data\n",
    "searchURL = 'https://www.nd.gov/dpi/SchoolStaff/SchoolFinance/Resources/'\n",
    "time.sleep(3)\n",
    "\n",
    "# Launch web browser and navigate to the searchURL\n",
    "driver = webdriver.Firefox(fp)\n",
    "driver.get(searchURL)\n",
    "time.sleep(3)"
   ]
  },
  {
   "cell_type": "markdown",
   "metadata": {},
   "source": [
    "Next setup the partial search conditional and extract the desired data file."
   ]
  },
  {
   "cell_type": "code",
   "execution_count": 18,
   "metadata": {
    "collapsed": true
   },
   "outputs": [],
   "source": [
    "searchConditional = '//a[@href and contains(@title,\"Enrollment\")]'\n",
    "EnrollmentLinks = driver.find_elements_by_xpath(searchConditional)\n",
    "TReport_href_Enrollment = EnrollmentLinks"
   ]
  },
  {
   "cell_type": "markdown",
   "metadata": {},
   "source": [
    "After the desired link has been obtained, the download link is extracted from the selenium object."
   ]
  },
  {
   "cell_type": "code",
   "execution_count": 19,
   "metadata": {
    "collapsed": true
   },
   "outputs": [],
   "source": [
    " # All Enrollment by Ethnicity/Gender datasets\n",
    "downloadsTitle = []\n",
    "downloadURL = []\n",
    "for ii in TReport_href_Enrollment:\n",
    "    if Text in ii.get_attribute('title'):\n",
    "        wget.download(ii.get_attribute('href'), print(ii.get_attribute('title')))\n",
    "        downloadsTitle.append(ii.get_attribute('title'))\n",
    "        downloadURL.append(ii.get_attribute('href'))"
   ]
  },
  {
   "cell_type": "markdown",
   "metadata": {},
   "source": [
    "Using the link extracted from the selenium object, the file can now be downloaded."
   ]
  },
  {
   "cell_type": "code",
   "execution_count": 26,
   "metadata": {},
   "outputs": [
    {
     "name": "stdout",
     "output_type": "stream",
     "text": [
      "100% [............................................................................] 109928 / 109928"
     ]
    }
   ],
   "source": [
    "links = driver.find_elements_by_link_text(Text)\n",
    "for link in links:\n",
    "    File = wget.download(link.get_attribute(\"href\"))"
   ]
  },
  {
   "cell_type": "markdown",
   "metadata": {},
   "source": [
    "Using the wget file object, use Pandas to read the excel file into memory."
   ]
  },
  {
   "cell_type": "code",
   "execution_count": 75,
   "metadata": {},
   "outputs": [
    {
     "data": {
      "text/html": [
       "<div>\n",
       "<style>\n",
       "    .dataframe thead tr:only-child th {\n",
       "        text-align: right;\n",
       "    }\n",
       "\n",
       "    .dataframe thead th {\n",
       "        text-align: left;\n",
       "    }\n",
       "\n",
       "    .dataframe tbody tr th {\n",
       "        vertical-align: top;\n",
       "    }\n",
       "</style>\n",
       "<table border=\"1\" class=\"dataframe\">\n",
       "  <thead>\n",
       "    <tr style=\"text-align: right;\">\n",
       "      <th></th>\n",
       "      <th>SchNo</th>\n",
       "      <th>SchoolName</th>\n",
       "      <th>PKReg</th>\n",
       "      <th>PKSpEd</th>\n",
       "      <th>K</th>\n",
       "      <th>Gr1</th>\n",
       "      <th>Gr2</th>\n",
       "      <th>Gr3</th>\n",
       "      <th>Gr4</th>\n",
       "      <th>Gr5</th>\n",
       "      <th>Gr6</th>\n",
       "      <th>Gr7</th>\n",
       "      <th>Gr8</th>\n",
       "      <th>Gr9</th>\n",
       "      <th>Gr10</th>\n",
       "      <th>Gr11</th>\n",
       "      <th>Gr12</th>\n",
       "      <th>K-12 Total</th>\n",
       "    </tr>\n",
       "  </thead>\n",
       "  <tbody>\n",
       "    <tr>\n",
       "      <th>0</th>\n",
       "      <td>01-013-3599</td>\n",
       "      <td>Hettinger Public School</td>\n",
       "      <td>31</td>\n",
       "      <td>8</td>\n",
       "      <td>27</td>\n",
       "      <td>25</td>\n",
       "      <td>21</td>\n",
       "      <td>22</td>\n",
       "      <td>16</td>\n",
       "      <td>28</td>\n",
       "      <td>22</td>\n",
       "      <td>20</td>\n",
       "      <td>20</td>\n",
       "      <td>14</td>\n",
       "      <td>17</td>\n",
       "      <td>17</td>\n",
       "      <td>26</td>\n",
       "      <td>275</td>\n",
       "    </tr>\n",
       "    <tr>\n",
       "      <th>1</th>\n",
       "      <td>02-002-4601</td>\n",
       "      <td>Jefferson Elem School</td>\n",
       "      <td>0</td>\n",
       "      <td>11</td>\n",
       "      <td>67</td>\n",
       "      <td>78</td>\n",
       "      <td>80</td>\n",
       "      <td>64</td>\n",
       "      <td>0</td>\n",
       "      <td>0</td>\n",
       "      <td>0</td>\n",
       "      <td>0</td>\n",
       "      <td>0</td>\n",
       "      <td>0</td>\n",
       "      <td>0</td>\n",
       "      <td>0</td>\n",
       "      <td>0</td>\n",
       "      <td>289</td>\n",
       "    </tr>\n",
       "    <tr>\n",
       "      <th>2</th>\n",
       "      <td>02-002-8954</td>\n",
       "      <td>Valley City Jr-Sr High School</td>\n",
       "      <td>0</td>\n",
       "      <td>0</td>\n",
       "      <td>0</td>\n",
       "      <td>0</td>\n",
       "      <td>0</td>\n",
       "      <td>0</td>\n",
       "      <td>0</td>\n",
       "      <td>0</td>\n",
       "      <td>0</td>\n",
       "      <td>110</td>\n",
       "      <td>89</td>\n",
       "      <td>88</td>\n",
       "      <td>81</td>\n",
       "      <td>78</td>\n",
       "      <td>92</td>\n",
       "      <td>538</td>\n",
       "    </tr>\n",
       "    <tr>\n",
       "      <th>3</th>\n",
       "      <td>02-002-9241</td>\n",
       "      <td>Washington Elem School</td>\n",
       "      <td>0</td>\n",
       "      <td>0</td>\n",
       "      <td>0</td>\n",
       "      <td>0</td>\n",
       "      <td>0</td>\n",
       "      <td>0</td>\n",
       "      <td>70</td>\n",
       "      <td>78</td>\n",
       "      <td>77</td>\n",
       "      <td>0</td>\n",
       "      <td>0</td>\n",
       "      <td>0</td>\n",
       "      <td>0</td>\n",
       "      <td>0</td>\n",
       "      <td>0</td>\n",
       "      <td>225</td>\n",
       "    </tr>\n",
       "    <tr>\n",
       "      <th>4</th>\n",
       "      <td>02-007-9463</td>\n",
       "      <td>Barnes County North Public School</td>\n",
       "      <td>12</td>\n",
       "      <td>0</td>\n",
       "      <td>12</td>\n",
       "      <td>15</td>\n",
       "      <td>24</td>\n",
       "      <td>17</td>\n",
       "      <td>24</td>\n",
       "      <td>19</td>\n",
       "      <td>20</td>\n",
       "      <td>23</td>\n",
       "      <td>18</td>\n",
       "      <td>28</td>\n",
       "      <td>19</td>\n",
       "      <td>24</td>\n",
       "      <td>13</td>\n",
       "      <td>256</td>\n",
       "    </tr>\n",
       "  </tbody>\n",
       "</table>\n",
       "</div>"
      ],
      "text/plain": [
       "         SchNo                         SchoolName  PKReg  PKSpEd   K  Gr1  \\\n",
       "0  01-013-3599            Hettinger Public School     31       8  27   25   \n",
       "1  02-002-4601              Jefferson Elem School      0      11  67   78   \n",
       "2  02-002-8954      Valley City Jr-Sr High School      0       0   0    0   \n",
       "3  02-002-9241             Washington Elem School      0       0   0    0   \n",
       "4  02-007-9463  Barnes County North Public School     12       0  12   15   \n",
       "\n",
       "   Gr2  Gr3  Gr4  Gr5  Gr6  Gr7  Gr8  Gr9  Gr10  Gr11  Gr12  K-12 Total  \n",
       "0   21   22   16   28   22   20   20   14    17    17    26         275  \n",
       "1   80   64    0    0    0    0    0    0     0     0     0         289  \n",
       "2    0    0    0    0    0  110   89   88    81    78    92         538  \n",
       "3    0    0   70   78   77    0    0    0     0     0     0         225  \n",
       "4   24   17   24   19   20   23   18   28    19    24    13         256  "
      ]
     },
     "execution_count": 75,
     "metadata": {},
     "output_type": "execute_result"
    }
   ],
   "source": [
    "ND = pd.read_excel(File, sheetname = 'School', skiprows = 2)\n",
    "ND.head()"
   ]
  },
  {
   "cell_type": "markdown",
   "metadata": {},
   "source": [
    "The first few rows of the file are shown above. Below the file is subset to only the desired columns."
   ]
  },
  {
   "cell_type": "code",
   "execution_count": 77,
   "metadata": {
    "collapsed": true
   },
   "outputs": [],
   "source": [
    "NDReduced = ND[['SchNo', 'SchoolName','Gr11', 'Gr12']]"
   ]
  },
  {
   "cell_type": "markdown",
   "metadata": {
    "collapsed": true
   },
   "source": [
    "Next the lookup file for the schools are downloaded. This is needed to be able to map the hs enrollment in the final data deliverable. First navigate to where the schools are located."
   ]
  },
  {
   "cell_type": "code",
   "execution_count": 54,
   "metadata": {
    "collapsed": true
   },
   "outputs": [],
   "source": [
    "# MDE web app for hs enrollment data\n",
    "searchURL = 'https://www.nd.gov/dpi/data/directory/schoollistings/'\n",
    "\n",
    "# Launch web browser and navigate to the searchURL\n",
    "driver.get(searchURL)\n",
    "time.sleep(3)"
   ]
  },
  {
   "cell_type": "markdown",
   "metadata": {},
   "source": [
    "Next find the link to download the lookup file."
   ]
  },
  {
   "cell_type": "code",
   "execution_count": 60,
   "metadata": {
    "collapsed": true
   },
   "outputs": [],
   "source": [
    "ids_a =  driver.find_elements_by_xpath(\"//*[text()='LEAs and Schools (Excel)']\")\n",
    "for ii in ids_a:\n",
    "    link = ii.get_attribute('href')\n",
    "time.sleep(4)"
   ]
  },
  {
   "cell_type": "markdown",
   "metadata": {},
   "source": [
    "After the link has been aquired, the file can be downloaded using wget."
   ]
  },
  {
   "cell_type": "code",
   "execution_count": 62,
   "metadata": {},
   "outputs": [
    {
     "name": "stdout",
     "output_type": "stream",
     "text": [
      "100% [............................................................................] 243712 / 243712"
     ]
    },
    {
     "data": {
      "text/plain": [
       "'sys_plnt.xls'"
      ]
     },
     "execution_count": 62,
     "metadata": {},
     "output_type": "execute_result"
    }
   ],
   "source": [
    "LookUpFile = wget.download(link)"
   ]
  },
  {
   "cell_type": "markdown",
   "metadata": {},
   "source": [
    "Next use Pandas to read the excel file into memory."
   ]
  },
  {
   "cell_type": "code",
   "execution_count": 65,
   "metadata": {},
   "outputs": [
    {
     "data": {
      "text/html": [
       "<div>\n",
       "<style>\n",
       "    .dataframe thead tr:only-child th {\n",
       "        text-align: right;\n",
       "    }\n",
       "\n",
       "    .dataframe thead th {\n",
       "        text-align: left;\n",
       "    }\n",
       "\n",
       "    .dataframe tbody tr th {\n",
       "        vertical-align: top;\n",
       "    }\n",
       "</style>\n",
       "<table border=\"1\" class=\"dataframe\">\n",
       "  <thead>\n",
       "    <tr style=\"text-align: right;\">\n",
       "      <th></th>\n",
       "      <th>StateIssuedID</th>\n",
       "      <th>LEA Name</th>\n",
       "      <th>School Name</th>\n",
       "      <th>Phone</th>\n",
       "      <th>Mailing Address</th>\n",
       "      <th>City</th>\n",
       "      <th>St</th>\n",
       "      <th>ZIP</th>\n",
       "      <th>ZIP4</th>\n",
       "      <th>Site Address</th>\n",
       "      <th>Site City</th>\n",
       "      <th>Site St</th>\n",
       "      <th>Site ZIP</th>\n",
       "      <th>LEA Type</th>\n",
       "      <th>School Type</th>\n",
       "    </tr>\n",
       "  </thead>\n",
       "  <tbody>\n",
       "    <tr>\n",
       "      <th>0</th>\n",
       "      <td>01-013</td>\n",
       "      <td>Hettinger 13</td>\n",
       "      <td>NaN</td>\n",
       "      <td>701-567-5315</td>\n",
       "      <td>PO Box 1188</td>\n",
       "      <td>Hettinger</td>\n",
       "      <td>ND</td>\n",
       "      <td>58639</td>\n",
       "      <td>1188</td>\n",
       "      <td>209 8th St S</td>\n",
       "      <td>Hettinger</td>\n",
       "      <td>ND</td>\n",
       "      <td>58639</td>\n",
       "      <td>High School LEA</td>\n",
       "      <td>NaN</td>\n",
       "    </tr>\n",
       "    <tr>\n",
       "      <th>1</th>\n",
       "      <td>01-013-3599</td>\n",
       "      <td>NaN</td>\n",
       "      <td>Hettinger Public School</td>\n",
       "      <td>701-567-5315</td>\n",
       "      <td>PO Box 1188</td>\n",
       "      <td>Hettinger</td>\n",
       "      <td>ND</td>\n",
       "      <td>58639</td>\n",
       "      <td>1188</td>\n",
       "      <td>209 S 8th St</td>\n",
       "      <td>Hettinger</td>\n",
       "      <td>ND</td>\n",
       "      <td>58639</td>\n",
       "      <td>NaN</td>\n",
       "      <td>Elementary/Middle/Junior High/Secondary Combin...</td>\n",
       "    </tr>\n",
       "    <tr>\n",
       "      <th>2</th>\n",
       "      <td>02-002</td>\n",
       "      <td>Valley City 2</td>\n",
       "      <td>NaN</td>\n",
       "      <td>701-845-0483 Ext 102</td>\n",
       "      <td>460 Central Ave N</td>\n",
       "      <td>Valley City</td>\n",
       "      <td>ND</td>\n",
       "      <td>58072</td>\n",
       "      <td>2997</td>\n",
       "      <td>460 Central Ave N</td>\n",
       "      <td>Valley City</td>\n",
       "      <td>ND</td>\n",
       "      <td>58072</td>\n",
       "      <td>High School LEA</td>\n",
       "      <td>NaN</td>\n",
       "    </tr>\n",
       "    <tr>\n",
       "      <th>3</th>\n",
       "      <td>02-002-4601</td>\n",
       "      <td>NaN</td>\n",
       "      <td>Jefferson Elem School</td>\n",
       "      <td>701-845-0622</td>\n",
       "      <td>460 Central Ave N</td>\n",
       "      <td>Valley City</td>\n",
       "      <td>ND</td>\n",
       "      <td>58072</td>\n",
       "      <td>2997</td>\n",
       "      <td>1150 Central Ave N</td>\n",
       "      <td>Valley City</td>\n",
       "      <td>ND</td>\n",
       "      <td>58072</td>\n",
       "      <td>NaN</td>\n",
       "      <td>Elementary (two or more teachers)</td>\n",
       "    </tr>\n",
       "    <tr>\n",
       "      <th>4</th>\n",
       "      <td>02-002-8954</td>\n",
       "      <td>NaN</td>\n",
       "      <td>Valley City Jr-Sr High School</td>\n",
       "      <td>701-845-0483 Ext 2</td>\n",
       "      <td>460 Central Ave N</td>\n",
       "      <td>Valley City</td>\n",
       "      <td>ND</td>\n",
       "      <td>58072</td>\n",
       "      <td>2997</td>\n",
       "      <td>493 Central Ave N</td>\n",
       "      <td>Valley City</td>\n",
       "      <td>ND</td>\n",
       "      <td>58072</td>\n",
       "      <td>NaN</td>\n",
       "      <td>Elementary/Middle/Junior High/Secondary Combin...</td>\n",
       "    </tr>\n",
       "  </tbody>\n",
       "</table>\n",
       "</div>"
      ],
      "text/plain": [
       "  StateIssuedID       LEA Name                    School Name  \\\n",
       "0        01-013   Hettinger 13                            NaN   \n",
       "1   01-013-3599            NaN        Hettinger Public School   \n",
       "2        02-002  Valley City 2                            NaN   \n",
       "3   02-002-4601            NaN          Jefferson Elem School   \n",
       "4   02-002-8954            NaN  Valley City Jr-Sr High School   \n",
       "\n",
       "                  Phone    Mailing Address         City  St    ZIP  ZIP4  \\\n",
       "0          701-567-5315        PO Box 1188    Hettinger  ND  58639  1188   \n",
       "1          701-567-5315        PO Box 1188    Hettinger  ND  58639  1188   \n",
       "2  701-845-0483 Ext 102  460 Central Ave N  Valley City  ND  58072  2997   \n",
       "3          701-845-0622  460 Central Ave N  Valley City  ND  58072  2997   \n",
       "4    701-845-0483 Ext 2  460 Central Ave N  Valley City  ND  58072  2997   \n",
       "\n",
       "         Site Address    Site City Site St  Site ZIP         LEA Type  \\\n",
       "0        209 8th St S    Hettinger      ND     58639  High School LEA   \n",
       "1        209 S 8th St    Hettinger      ND     58639              NaN   \n",
       "2   460 Central Ave N  Valley City      ND     58072  High School LEA   \n",
       "3  1150 Central Ave N  Valley City      ND     58072              NaN   \n",
       "4   493 Central Ave N  Valley City      ND     58072              NaN   \n",
       "\n",
       "                                         School Type  \n",
       "0                                                NaN  \n",
       "1  Elementary/Middle/Junior High/Secondary Combin...  \n",
       "2                                                NaN  \n",
       "3                  Elementary (two or more teachers)  \n",
       "4  Elementary/Middle/Junior High/Secondary Combin...  "
      ]
     },
     "execution_count": 65,
     "metadata": {},
     "output_type": "execute_result"
    }
   ],
   "source": [
    "LookUp = pd.read_excel(LookUpFile)\n",
    "LookUp.head()"
   ]
  },
  {
   "cell_type": "markdown",
   "metadata": {},
   "source": [
    "After the data file has been read into memory, subset to only the desired columns."
   ]
  },
  {
   "cell_type": "code",
   "execution_count": 69,
   "metadata": {
    "collapsed": true
   },
   "outputs": [],
   "source": [
    "LookUp = LookUp[['StateIssuedID', 'LEA Name', 'School Name', 'Site Address', 'Site City', 'Site St',\n",
    "       'Site ZIP']]"
   ]
  },
  {
   "cell_type": "markdown",
   "metadata": {},
   "source": [
    "Once both the enrollment and lookup files are downloaded and cleaned they can be joined together via Pandas below."
   ]
  },
  {
   "cell_type": "code",
   "execution_count": 80,
   "metadata": {
    "collapsed": true
   },
   "outputs": [],
   "source": [
    "NDClean = pd.merge(LookUp, \n",
    "         NDReduced, \n",
    "         how = 'inner', \n",
    "         left_on = 'StateIssuedID', right_on = 'SchNo')"
   ]
  },
  {
   "cell_type": "markdown",
   "metadata": {},
   "source": [
    "Finally the cleaned data file can be written to csv."
   ]
  },
  {
   "cell_type": "code",
   "execution_count": 81,
   "metadata": {
    "collapsed": true
   },
   "outputs": [],
   "source": [
    "NDClean.to_csv('ND.csv')"
   ]
  }
 ],
 "metadata": {
  "kernelspec": {
   "display_name": "Python 3",
   "language": "python",
   "name": "python3"
  },
  "language_info": {
   "codemirror_mode": {
    "name": "ipython",
    "version": 3
   },
   "file_extension": ".py",
   "mimetype": "text/x-python",
   "name": "python",
   "nbconvert_exporter": "python",
   "pygments_lexer": "ipython3",
   "version": "3.6.1"
  }
 },
 "nbformat": 4,
 "nbformat_minor": 2
}
