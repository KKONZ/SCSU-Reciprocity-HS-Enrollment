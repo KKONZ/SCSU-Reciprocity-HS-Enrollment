{
 "cells": [
  {
   "cell_type": "markdown",
   "metadata": {},
   "source": [
    "# North Dakota"
   ]
  },
  {
   "cell_type": "code",
   "execution_count": 43,
   "metadata": {
    "collapsed": true
   },
   "outputs": [],
   "source": [
    "import datetime\n",
    "import time\n",
    "import wget\n",
    "import numpy as np\n",
    "import pandas as pd\n",
    "from selenium import webdriver\n",
    "from selenium.webdriver.common.by import By\n",
    "import zipfile\n",
    "from geopy.geocoders import Nominatim"
   ]
  },
  {
   "cell_type": "code",
   "execution_count": 2,
   "metadata": {
    "collapsed": true
   },
   "outputs": [],
   "source": [
    "ThisYearFile = str(datetime.datetime.now().year - 1)"
   ]
  },
  {
   "cell_type": "code",
   "execution_count": 3,
   "metadata": {
    "collapsed": true
   },
   "outputs": [],
   "source": [
    "Text = ThisYearFile +'-' + str(int(ThisYearFile[2:]) + 1) + ' Fall Enrollment'"
   ]
  },
  {
   "cell_type": "code",
   "execution_count": 31,
   "metadata": {},
   "outputs": [
    {
     "data": {
      "text/plain": [
       "'2017-18 Fall Enrollment'"
      ]
     },
     "execution_count": 31,
     "metadata": {},
     "output_type": "execute_result"
    }
   ],
   "source": [
    "Text"
   ]
  },
  {
   "cell_type": "code",
   "execution_count": 32,
   "metadata": {
    "collapsed": true
   },
   "outputs": [],
   "source": [
    "# Set the preferences for the firefox web browser\n",
    "fp = webdriver.FirefoxProfile()\n",
    "fp.set_preference('browser.download.folderList', 2)\n",
    "fp.set_preference('browser.download.manager.showWhenStarting', False)\n",
    "fp.set_preference('browser.download.dir', '/tmp')\n",
    "fp.set_preference(\"http.response.timeout\", 300)\n",
    "fp.set_preference(\"dom.max_script_run_time\", 300)\n",
    "fp.set_preference('webdriver.load.strategy', 'unstable')\n",
    "fp.set_preference('browser.helperApps.neverAsk.saveToDisk', 'text/plain, application/vnd.ms-excel, text/csv, text/comma-separated-values, application/octet-stream, application/vnd.openxmlformats-officedocument.spreadsheetml.sheet')\n",
    "fp.update_preferences()"
   ]
  },
  {
   "cell_type": "code",
   "execution_count": 33,
   "metadata": {
    "collapsed": true
   },
   "outputs": [],
   "source": [
    "# MDE web app for hs enrollment data\n",
    "searchURL = 'https://www.nd.gov/dpi/SchoolStaff/SchoolFinance/Resources/'\n",
    "time.sleep(3)\n",
    "\n",
    "# Launch web browser and navigate to the searchURL\n",
    "driver = webdriver.Firefox(fp)\n",
    "driver.get(searchURL)\n",
    "time.sleep(3)"
   ]
  },
  {
   "cell_type": "code",
   "execution_count": 18,
   "metadata": {
    "collapsed": true
   },
   "outputs": [],
   "source": [
    "searchConditional = '//a[@href and contains(@title,\"Enrollment\")]'\n",
    "EnrollmentLinks = driver.find_elements_by_xpath(searchConditional)\n",
    "TReport_href_Enrollment = EnrollmentLinks"
   ]
  },
  {
   "cell_type": "code",
   "execution_count": 19,
   "metadata": {
    "collapsed": true
   },
   "outputs": [],
   "source": [
    " # All Enrollment by Ethnicity/Gender datasets\n",
    "downloadsTitle = []\n",
    "downloadURL = []\n",
    "for ii in TReport_href_Enrollment:\n",
    "    if Text in ii.get_attribute('title'):\n",
    "        wget.download(ii.get_attribute('href'), print(ii.get_attribute('title')))\n",
    "        downloadsTitle.append(ii.get_attribute('title'))\n",
    "        downloadURL.append(ii.get_attribute('href'))"
   ]
  },
  {
   "cell_type": "code",
   "execution_count": 20,
   "metadata": {},
   "outputs": [
    {
     "data": {
      "text/plain": [
       "[]"
      ]
     },
     "execution_count": 20,
     "metadata": {},
     "output_type": "execute_result"
    }
   ],
   "source": [
    "TReport_href_Enrollment"
   ]
  },
  {
   "cell_type": "code",
   "execution_count": 26,
   "metadata": {},
   "outputs": [
    {
     "name": "stdout",
     "output_type": "stream",
     "text": [
      "100% [............................................................................] 109928 / 109928"
     ]
    }
   ],
   "source": [
    "links = driver.find_elements_by_link_text(Text)\n",
    "for link in links:\n",
    "    wget.download(link.get_attribute(\"href\"))"
   ]
  },
  {
   "cell_type": "code",
   "execution_count": 17,
   "metadata": {
    "collapsed": true
   },
   "outputs": [],
   "source": [
    "import os\n",
    "newpath_main = r'C:\\users\\karlk\\GitHubRepos\\SCSU-Reciprocity-HS-Enrollment'\n",
    "if not os.path.exists(newpath_main):\n",
    "    os.makedirs(newpath_main)   \n",
    "os.chdir(newpath_main)"
   ]
  },
  {
   "cell_type": "code",
   "execution_count": 8,
   "metadata": {},
   "outputs": [
    {
     "data": {
      "text/plain": [
       "'C:\\\\Users\\\\karlk\\\\GitHubRepos\\\\SCSU-Reciprocity-HS-Enrollment'"
      ]
     },
     "execution_count": 8,
     "metadata": {},
     "output_type": "execute_result"
    }
   ],
   "source": [
    "os.getcwd()"
   ]
  },
  {
   "cell_type": "code",
   "execution_count": null,
   "metadata": {
    "collapsed": true
   },
   "outputs": [],
   "source": []
  },
  {
   "cell_type": "code",
   "execution_count": 13,
   "metadata": {
    "collapsed": true
   },
   "outputs": [],
   "source": [
    "File = ThisYearFile + str(int(ThisYearFile[2:]) + 1) + 'FallEnrollment.xlsx'"
   ]
  },
  {
   "cell_type": "code",
   "execution_count": 14,
   "metadata": {},
   "outputs": [
    {
     "data": {
      "text/plain": [
       "'201718FallEnrollment.xlsx'"
      ]
     },
     "execution_count": 14,
     "metadata": {},
     "output_type": "execute_result"
    }
   ],
   "source": [
    "File"
   ]
  },
  {
   "cell_type": "code",
   "execution_count": 74,
   "metadata": {
    "collapsed": true
   },
   "outputs": [],
   "source": [
    "ND = pd.read_excel(File, sheetname = 'School', skiprows = 2)"
   ]
  },
  {
   "cell_type": "code",
   "execution_count": 75,
   "metadata": {},
   "outputs": [
    {
     "data": {
      "text/html": [
       "<div>\n",
       "<style>\n",
       "    .dataframe thead tr:only-child th {\n",
       "        text-align: right;\n",
       "    }\n",
       "\n",
       "    .dataframe thead th {\n",
       "        text-align: left;\n",
       "    }\n",
       "\n",
       "    .dataframe tbody tr th {\n",
       "        vertical-align: top;\n",
       "    }\n",
       "</style>\n",
       "<table border=\"1\" class=\"dataframe\">\n",
       "  <thead>\n",
       "    <tr style=\"text-align: right;\">\n",
       "      <th></th>\n",
       "      <th>SchNo</th>\n",
       "      <th>SchoolName</th>\n",
       "      <th>PKReg</th>\n",
       "      <th>PKSpEd</th>\n",
       "      <th>K</th>\n",
       "      <th>Gr1</th>\n",
       "      <th>Gr2</th>\n",
       "      <th>Gr3</th>\n",
       "      <th>Gr4</th>\n",
       "      <th>Gr5</th>\n",
       "      <th>Gr6</th>\n",
       "      <th>Gr7</th>\n",
       "      <th>Gr8</th>\n",
       "      <th>Gr9</th>\n",
       "      <th>Gr10</th>\n",
       "      <th>Gr11</th>\n",
       "      <th>Gr12</th>\n",
       "      <th>K-12 Total</th>\n",
       "    </tr>\n",
       "  </thead>\n",
       "  <tbody>\n",
       "    <tr>\n",
       "      <th>0</th>\n",
       "      <td>01-013-3599</td>\n",
       "      <td>Hettinger Public School</td>\n",
       "      <td>31</td>\n",
       "      <td>8</td>\n",
       "      <td>27</td>\n",
       "      <td>25</td>\n",
       "      <td>21</td>\n",
       "      <td>22</td>\n",
       "      <td>16</td>\n",
       "      <td>28</td>\n",
       "      <td>22</td>\n",
       "      <td>20</td>\n",
       "      <td>20</td>\n",
       "      <td>14</td>\n",
       "      <td>17</td>\n",
       "      <td>17</td>\n",
       "      <td>26</td>\n",
       "      <td>275</td>\n",
       "    </tr>\n",
       "    <tr>\n",
       "      <th>1</th>\n",
       "      <td>02-002-4601</td>\n",
       "      <td>Jefferson Elem School</td>\n",
       "      <td>0</td>\n",
       "      <td>11</td>\n",
       "      <td>67</td>\n",
       "      <td>78</td>\n",
       "      <td>80</td>\n",
       "      <td>64</td>\n",
       "      <td>0</td>\n",
       "      <td>0</td>\n",
       "      <td>0</td>\n",
       "      <td>0</td>\n",
       "      <td>0</td>\n",
       "      <td>0</td>\n",
       "      <td>0</td>\n",
       "      <td>0</td>\n",
       "      <td>0</td>\n",
       "      <td>289</td>\n",
       "    </tr>\n",
       "    <tr>\n",
       "      <th>2</th>\n",
       "      <td>02-002-8954</td>\n",
       "      <td>Valley City Jr-Sr High School</td>\n",
       "      <td>0</td>\n",
       "      <td>0</td>\n",
       "      <td>0</td>\n",
       "      <td>0</td>\n",
       "      <td>0</td>\n",
       "      <td>0</td>\n",
       "      <td>0</td>\n",
       "      <td>0</td>\n",
       "      <td>0</td>\n",
       "      <td>110</td>\n",
       "      <td>89</td>\n",
       "      <td>88</td>\n",
       "      <td>81</td>\n",
       "      <td>78</td>\n",
       "      <td>92</td>\n",
       "      <td>538</td>\n",
       "    </tr>\n",
       "    <tr>\n",
       "      <th>3</th>\n",
       "      <td>02-002-9241</td>\n",
       "      <td>Washington Elem School</td>\n",
       "      <td>0</td>\n",
       "      <td>0</td>\n",
       "      <td>0</td>\n",
       "      <td>0</td>\n",
       "      <td>0</td>\n",
       "      <td>0</td>\n",
       "      <td>70</td>\n",
       "      <td>78</td>\n",
       "      <td>77</td>\n",
       "      <td>0</td>\n",
       "      <td>0</td>\n",
       "      <td>0</td>\n",
       "      <td>0</td>\n",
       "      <td>0</td>\n",
       "      <td>0</td>\n",
       "      <td>225</td>\n",
       "    </tr>\n",
       "    <tr>\n",
       "      <th>4</th>\n",
       "      <td>02-007-9463</td>\n",
       "      <td>Barnes County North Public School</td>\n",
       "      <td>12</td>\n",
       "      <td>0</td>\n",
       "      <td>12</td>\n",
       "      <td>15</td>\n",
       "      <td>24</td>\n",
       "      <td>17</td>\n",
       "      <td>24</td>\n",
       "      <td>19</td>\n",
       "      <td>20</td>\n",
       "      <td>23</td>\n",
       "      <td>18</td>\n",
       "      <td>28</td>\n",
       "      <td>19</td>\n",
       "      <td>24</td>\n",
       "      <td>13</td>\n",
       "      <td>256</td>\n",
       "    </tr>\n",
       "  </tbody>\n",
       "</table>\n",
       "</div>"
      ],
      "text/plain": [
       "         SchNo                         SchoolName  PKReg  PKSpEd   K  Gr1  \\\n",
       "0  01-013-3599            Hettinger Public School     31       8  27   25   \n",
       "1  02-002-4601              Jefferson Elem School      0      11  67   78   \n",
       "2  02-002-8954      Valley City Jr-Sr High School      0       0   0    0   \n",
       "3  02-002-9241             Washington Elem School      0       0   0    0   \n",
       "4  02-007-9463  Barnes County North Public School     12       0  12   15   \n",
       "\n",
       "   Gr2  Gr3  Gr4  Gr5  Gr6  Gr7  Gr8  Gr9  Gr10  Gr11  Gr12  K-12 Total  \n",
       "0   21   22   16   28   22   20   20   14    17    17    26         275  \n",
       "1   80   64    0    0    0    0    0    0     0     0     0         289  \n",
       "2    0    0    0    0    0  110   89   88    81    78    92         538  \n",
       "3    0    0   70   78   77    0    0    0     0     0     0         225  \n",
       "4   24   17   24   19   20   23   18   28    19    24    13         256  "
      ]
     },
     "execution_count": 75,
     "metadata": {},
     "output_type": "execute_result"
    }
   ],
   "source": [
    "ND.head()"
   ]
  },
  {
   "cell_type": "code",
   "execution_count": 76,
   "metadata": {},
   "outputs": [
    {
     "data": {
      "text/plain": [
       "Index(['SchNo', 'SchoolName', 'PKReg', 'PKSpEd', 'K', 'Gr1', 'Gr2', 'Gr3',\n",
       "       'Gr4', 'Gr5', 'Gr6', 'Gr7', 'Gr8', 'Gr9', 'Gr10', 'Gr11', 'Gr12',\n",
       "       'K-12 Total'],\n",
       "      dtype='object')"
      ]
     },
     "execution_count": 76,
     "metadata": {},
     "output_type": "execute_result"
    }
   ],
   "source": [
    "ND.columns"
   ]
  },
  {
   "cell_type": "code",
   "execution_count": 77,
   "metadata": {
    "collapsed": true
   },
   "outputs": [],
   "source": [
    "NDReduced = ND[['SchNo', 'SchoolName','Gr11', 'Gr12']]"
   ]
  },
  {
   "cell_type": "code",
   "execution_count": 78,
   "metadata": {},
   "outputs": [
    {
     "data": {
      "text/html": [
       "<div>\n",
       "<style>\n",
       "    .dataframe thead tr:only-child th {\n",
       "        text-align: right;\n",
       "    }\n",
       "\n",
       "    .dataframe thead th {\n",
       "        text-align: left;\n",
       "    }\n",
       "\n",
       "    .dataframe tbody tr th {\n",
       "        vertical-align: top;\n",
       "    }\n",
       "</style>\n",
       "<table border=\"1\" class=\"dataframe\">\n",
       "  <thead>\n",
       "    <tr style=\"text-align: right;\">\n",
       "      <th></th>\n",
       "      <th>SchNo</th>\n",
       "      <th>SchoolName</th>\n",
       "      <th>Gr11</th>\n",
       "      <th>Gr12</th>\n",
       "    </tr>\n",
       "  </thead>\n",
       "  <tbody>\n",
       "    <tr>\n",
       "      <th>0</th>\n",
       "      <td>01-013-3599</td>\n",
       "      <td>Hettinger Public School</td>\n",
       "      <td>17</td>\n",
       "      <td>26</td>\n",
       "    </tr>\n",
       "    <tr>\n",
       "      <th>1</th>\n",
       "      <td>02-002-4601</td>\n",
       "      <td>Jefferson Elem School</td>\n",
       "      <td>0</td>\n",
       "      <td>0</td>\n",
       "    </tr>\n",
       "    <tr>\n",
       "      <th>2</th>\n",
       "      <td>02-002-8954</td>\n",
       "      <td>Valley City Jr-Sr High School</td>\n",
       "      <td>78</td>\n",
       "      <td>92</td>\n",
       "    </tr>\n",
       "    <tr>\n",
       "      <th>3</th>\n",
       "      <td>02-002-9241</td>\n",
       "      <td>Washington Elem School</td>\n",
       "      <td>0</td>\n",
       "      <td>0</td>\n",
       "    </tr>\n",
       "    <tr>\n",
       "      <th>4</th>\n",
       "      <td>02-007-9463</td>\n",
       "      <td>Barnes County North Public School</td>\n",
       "      <td>24</td>\n",
       "      <td>13</td>\n",
       "    </tr>\n",
       "  </tbody>\n",
       "</table>\n",
       "</div>"
      ],
      "text/plain": [
       "         SchNo                         SchoolName  Gr11  Gr12\n",
       "0  01-013-3599            Hettinger Public School    17    26\n",
       "1  02-002-4601              Jefferson Elem School     0     0\n",
       "2  02-002-8954      Valley City Jr-Sr High School    78    92\n",
       "3  02-002-9241             Washington Elem School     0     0\n",
       "4  02-007-9463  Barnes County North Public School    24    13"
      ]
     },
     "execution_count": 78,
     "metadata": {},
     "output_type": "execute_result"
    }
   ],
   "source": [
    "NDReduced.head()"
   ]
  },
  {
   "cell_type": "code",
   "execution_count": null,
   "metadata": {
    "collapsed": true
   },
   "outputs": [],
   "source": []
  },
  {
   "cell_type": "code",
   "execution_count": 54,
   "metadata": {
    "collapsed": true
   },
   "outputs": [],
   "source": [
    "# MDE web app for hs enrollment data\n",
    "searchURL = 'https://www.nd.gov/dpi/data/directory/schoollistings/'\n",
    "\n",
    "# Launch web browser and navigate to the searchURL\n",
    "driver.get(searchURL)\n",
    "time.sleep(3)"
   ]
  },
  {
   "cell_type": "code",
   "execution_count": null,
   "metadata": {
    "collapsed": true
   },
   "outputs": [],
   "source": []
  },
  {
   "cell_type": "code",
   "execution_count": 60,
   "metadata": {
    "collapsed": true
   },
   "outputs": [],
   "source": [
    "ids_a =  driver.find_elements_by_xpath(\"//*[text()='LEAs and Schools (Excel)']\")\n",
    "for ii in ids_a:\n",
    "    link = ii.get_attribute('href')\n",
    "time.sleep(4)"
   ]
  },
  {
   "cell_type": "code",
   "execution_count": 62,
   "metadata": {},
   "outputs": [
    {
     "name": "stdout",
     "output_type": "stream",
     "text": [
      "100% [............................................................................] 243712 / 243712"
     ]
    },
    {
     "data": {
      "text/plain": [
       "'sys_plnt.xls'"
      ]
     },
     "execution_count": 62,
     "metadata": {},
     "output_type": "execute_result"
    }
   ],
   "source": [
    "wget.download(link)"
   ]
  },
  {
   "cell_type": "code",
   "execution_count": 64,
   "metadata": {
    "collapsed": true
   },
   "outputs": [],
   "source": [
    "LookUp = pd.read_excel('sys_plnt.xls')"
   ]
  },
  {
   "cell_type": "code",
   "execution_count": 65,
   "metadata": {},
   "outputs": [
    {
     "data": {
      "text/html": [
       "<div>\n",
       "<style>\n",
       "    .dataframe thead tr:only-child th {\n",
       "        text-align: right;\n",
       "    }\n",
       "\n",
       "    .dataframe thead th {\n",
       "        text-align: left;\n",
       "    }\n",
       "\n",
       "    .dataframe tbody tr th {\n",
       "        vertical-align: top;\n",
       "    }\n",
       "</style>\n",
       "<table border=\"1\" class=\"dataframe\">\n",
       "  <thead>\n",
       "    <tr style=\"text-align: right;\">\n",
       "      <th></th>\n",
       "      <th>StateIssuedID</th>\n",
       "      <th>LEA Name</th>\n",
       "      <th>School Name</th>\n",
       "      <th>Phone</th>\n",
       "      <th>Mailing Address</th>\n",
       "      <th>City</th>\n",
       "      <th>St</th>\n",
       "      <th>ZIP</th>\n",
       "      <th>ZIP4</th>\n",
       "      <th>Site Address</th>\n",
       "      <th>Site City</th>\n",
       "      <th>Site St</th>\n",
       "      <th>Site ZIP</th>\n",
       "      <th>LEA Type</th>\n",
       "      <th>School Type</th>\n",
       "    </tr>\n",
       "  </thead>\n",
       "  <tbody>\n",
       "    <tr>\n",
       "      <th>0</th>\n",
       "      <td>01-013</td>\n",
       "      <td>Hettinger 13</td>\n",
       "      <td>NaN</td>\n",
       "      <td>701-567-5315</td>\n",
       "      <td>PO Box 1188</td>\n",
       "      <td>Hettinger</td>\n",
       "      <td>ND</td>\n",
       "      <td>58639</td>\n",
       "      <td>1188</td>\n",
       "      <td>209 8th St S</td>\n",
       "      <td>Hettinger</td>\n",
       "      <td>ND</td>\n",
       "      <td>58639</td>\n",
       "      <td>High School LEA</td>\n",
       "      <td>NaN</td>\n",
       "    </tr>\n",
       "    <tr>\n",
       "      <th>1</th>\n",
       "      <td>01-013-3599</td>\n",
       "      <td>NaN</td>\n",
       "      <td>Hettinger Public School</td>\n",
       "      <td>701-567-5315</td>\n",
       "      <td>PO Box 1188</td>\n",
       "      <td>Hettinger</td>\n",
       "      <td>ND</td>\n",
       "      <td>58639</td>\n",
       "      <td>1188</td>\n",
       "      <td>209 S 8th St</td>\n",
       "      <td>Hettinger</td>\n",
       "      <td>ND</td>\n",
       "      <td>58639</td>\n",
       "      <td>NaN</td>\n",
       "      <td>Elementary/Middle/Junior High/Secondary Combin...</td>\n",
       "    </tr>\n",
       "    <tr>\n",
       "      <th>2</th>\n",
       "      <td>02-002</td>\n",
       "      <td>Valley City 2</td>\n",
       "      <td>NaN</td>\n",
       "      <td>701-845-0483 Ext 102</td>\n",
       "      <td>460 Central Ave N</td>\n",
       "      <td>Valley City</td>\n",
       "      <td>ND</td>\n",
       "      <td>58072</td>\n",
       "      <td>2997</td>\n",
       "      <td>460 Central Ave N</td>\n",
       "      <td>Valley City</td>\n",
       "      <td>ND</td>\n",
       "      <td>58072</td>\n",
       "      <td>High School LEA</td>\n",
       "      <td>NaN</td>\n",
       "    </tr>\n",
       "    <tr>\n",
       "      <th>3</th>\n",
       "      <td>02-002-4601</td>\n",
       "      <td>NaN</td>\n",
       "      <td>Jefferson Elem School</td>\n",
       "      <td>701-845-0622</td>\n",
       "      <td>460 Central Ave N</td>\n",
       "      <td>Valley City</td>\n",
       "      <td>ND</td>\n",
       "      <td>58072</td>\n",
       "      <td>2997</td>\n",
       "      <td>1150 Central Ave N</td>\n",
       "      <td>Valley City</td>\n",
       "      <td>ND</td>\n",
       "      <td>58072</td>\n",
       "      <td>NaN</td>\n",
       "      <td>Elementary (two or more teachers)</td>\n",
       "    </tr>\n",
       "    <tr>\n",
       "      <th>4</th>\n",
       "      <td>02-002-8954</td>\n",
       "      <td>NaN</td>\n",
       "      <td>Valley City Jr-Sr High School</td>\n",
       "      <td>701-845-0483 Ext 2</td>\n",
       "      <td>460 Central Ave N</td>\n",
       "      <td>Valley City</td>\n",
       "      <td>ND</td>\n",
       "      <td>58072</td>\n",
       "      <td>2997</td>\n",
       "      <td>493 Central Ave N</td>\n",
       "      <td>Valley City</td>\n",
       "      <td>ND</td>\n",
       "      <td>58072</td>\n",
       "      <td>NaN</td>\n",
       "      <td>Elementary/Middle/Junior High/Secondary Combin...</td>\n",
       "    </tr>\n",
       "  </tbody>\n",
       "</table>\n",
       "</div>"
      ],
      "text/plain": [
       "  StateIssuedID       LEA Name                    School Name  \\\n",
       "0        01-013   Hettinger 13                            NaN   \n",
       "1   01-013-3599            NaN        Hettinger Public School   \n",
       "2        02-002  Valley City 2                            NaN   \n",
       "3   02-002-4601            NaN          Jefferson Elem School   \n",
       "4   02-002-8954            NaN  Valley City Jr-Sr High School   \n",
       "\n",
       "                  Phone    Mailing Address         City  St    ZIP  ZIP4  \\\n",
       "0          701-567-5315        PO Box 1188    Hettinger  ND  58639  1188   \n",
       "1          701-567-5315        PO Box 1188    Hettinger  ND  58639  1188   \n",
       "2  701-845-0483 Ext 102  460 Central Ave N  Valley City  ND  58072  2997   \n",
       "3          701-845-0622  460 Central Ave N  Valley City  ND  58072  2997   \n",
       "4    701-845-0483 Ext 2  460 Central Ave N  Valley City  ND  58072  2997   \n",
       "\n",
       "         Site Address    Site City Site St  Site ZIP         LEA Type  \\\n",
       "0        209 8th St S    Hettinger      ND     58639  High School LEA   \n",
       "1        209 S 8th St    Hettinger      ND     58639              NaN   \n",
       "2   460 Central Ave N  Valley City      ND     58072  High School LEA   \n",
       "3  1150 Central Ave N  Valley City      ND     58072              NaN   \n",
       "4   493 Central Ave N  Valley City      ND     58072              NaN   \n",
       "\n",
       "                                         School Type  \n",
       "0                                                NaN  \n",
       "1  Elementary/Middle/Junior High/Secondary Combin...  \n",
       "2                                                NaN  \n",
       "3                  Elementary (two or more teachers)  \n",
       "4  Elementary/Middle/Junior High/Secondary Combin...  "
      ]
     },
     "execution_count": 65,
     "metadata": {},
     "output_type": "execute_result"
    }
   ],
   "source": [
    "LookUp.head()"
   ]
  },
  {
   "cell_type": "code",
   "execution_count": 68,
   "metadata": {},
   "outputs": [
    {
     "data": {
      "text/plain": [
       "Index(['StateIssuedID', 'LEA Name', 'School Name', 'Phone', 'Mailing Address',\n",
       "       'City', 'St', 'ZIP', 'ZIP4', 'Site Address', 'Site City', 'Site St',\n",
       "       'Site ZIP', 'LEA Type', 'School Type'],\n",
       "      dtype='object')"
      ]
     },
     "execution_count": 68,
     "metadata": {},
     "output_type": "execute_result"
    }
   ],
   "source": [
    "LookUp.columns"
   ]
  },
  {
   "cell_type": "code",
   "execution_count": 69,
   "metadata": {
    "collapsed": true
   },
   "outputs": [],
   "source": [
    "LookUp = LookUp[['StateIssuedID', 'LEA Name', 'School Name', 'Site Address', 'Site City', 'Site St',\n",
    "       'Site ZIP']]"
   ]
  },
  {
   "cell_type": "code",
   "execution_count": 80,
   "metadata": {
    "collapsed": true
   },
   "outputs": [],
   "source": [
    "NDClean = pd.merge(LookUp, \n",
    "         NDReduced, \n",
    "         how = 'inner', \n",
    "         left_on = 'StateIssuedID', right_on = 'SchNo')"
   ]
  },
  {
   "cell_type": "code",
   "execution_count": 81,
   "metadata": {
    "collapsed": true
   },
   "outputs": [],
   "source": [
    "NDClean.to_csv('ND.csv')"
   ]
  },
  {
   "cell_type": "markdown",
   "metadata": {
    "collapsed": true
   },
   "source": [
    "# South Dakota"
   ]
  },
  {
   "cell_type": "code",
   "execution_count": 4,
   "metadata": {
    "collapsed": true
   },
   "outputs": [],
   "source": [
    "# HS enrollment file Name\n",
    "PreYearText = \"http://doe.sd.gov/ofm/documents/Pschgen\"\n",
    "Year = str(int(datetime.datetime.now().year - 1))[2:]\n",
    "extention = \".xlsx\""
   ]
  },
  {
   "cell_type": "code",
   "execution_count": 82,
   "metadata": {},
   "outputs": [
    {
     "data": {
      "text/plain": [
       "'http://doe.sd.gov/ofm/documents/Pschgen17.xlsx'"
      ]
     },
     "execution_count": 82,
     "metadata": {},
     "output_type": "execute_result"
    }
   ],
   "source": [
    "File = PreYearText + Year + extention\n",
    "File"
   ]
  },
  {
   "cell_type": "code",
   "execution_count": 83,
   "metadata": {},
   "outputs": [
    {
     "name": "stdout",
     "output_type": "stream",
     "text": [
      "100% [............................................................................] 123361 / 123361"
     ]
    }
   ],
   "source": [
    "FileName = wget.download(File)"
   ]
  },
  {
   "cell_type": "code",
   "execution_count": null,
   "metadata": {
    "collapsed": true
   },
   "outputs": [],
   "source": []
  },
  {
   "cell_type": "code",
   "execution_count": 84,
   "metadata": {
    "collapsed": true
   },
   "outputs": [],
   "source": [
    "#FileName = \"Pschgen\" + Year + extention"
   ]
  },
  {
   "cell_type": "code",
   "execution_count": 85,
   "metadata": {
    "collapsed": true
   },
   "outputs": [],
   "source": [
    "SD = pd.read_excel(FileName, skiprows = 2)"
   ]
  },
  {
   "cell_type": "code",
   "execution_count": 86,
   "metadata": {},
   "outputs": [
    {
     "data": {
      "text/html": [
       "<div>\n",
       "<style>\n",
       "    .dataframe thead tr:only-child th {\n",
       "        text-align: right;\n",
       "    }\n",
       "\n",
       "    .dataframe thead th {\n",
       "        text-align: left;\n",
       "    }\n",
       "\n",
       "    .dataframe tbody tr th {\n",
       "        vertical-align: top;\n",
       "    }\n",
       "</style>\n",
       "<table border=\"1\" class=\"dataframe\">\n",
       "  <thead>\n",
       "    <tr style=\"text-align: right;\">\n",
       "      <th></th>\n",
       "      <th>District No.</th>\n",
       "      <th>District Name</th>\n",
       "      <th>School No.</th>\n",
       "      <th>School Name</th>\n",
       "      <th>PK</th>\n",
       "      <th>KG</th>\n",
       "      <th>01</th>\n",
       "      <th>02</th>\n",
       "      <th>03</th>\n",
       "      <th>04</th>\n",
       "      <th>05</th>\n",
       "      <th>06</th>\n",
       "      <th>07</th>\n",
       "      <th>08</th>\n",
       "      <th>09</th>\n",
       "      <th>10</th>\n",
       "      <th>11</th>\n",
       "      <th>12</th>\n",
       "      <th>TOTAL KG-12</th>\n",
       "      <th>TOTAL PK-12</th>\n",
       "    </tr>\n",
       "  </thead>\n",
       "  <tbody>\n",
       "    <tr>\n",
       "      <th>0</th>\n",
       "      <td>1001.0</td>\n",
       "      <td>Plankinton 01-1</td>\n",
       "      <td>1.0</td>\n",
       "      <td>Plankinton High School</td>\n",
       "      <td>0.0</td>\n",
       "      <td>0.0</td>\n",
       "      <td>0.0</td>\n",
       "      <td>0.0</td>\n",
       "      <td>0.0</td>\n",
       "      <td>0.0</td>\n",
       "      <td>0.0</td>\n",
       "      <td>0.0</td>\n",
       "      <td>0.0</td>\n",
       "      <td>0.0</td>\n",
       "      <td>22.0</td>\n",
       "      <td>14.0</td>\n",
       "      <td>27.0</td>\n",
       "      <td>12.0</td>\n",
       "      <td>75.0</td>\n",
       "      <td>75.0</td>\n",
       "    </tr>\n",
       "    <tr>\n",
       "      <th>1</th>\n",
       "      <td>1001.0</td>\n",
       "      <td>Plankinton 01-1</td>\n",
       "      <td>2.0</td>\n",
       "      <td>Plankinton Elementary</td>\n",
       "      <td>20.0</td>\n",
       "      <td>25.0</td>\n",
       "      <td>17.0</td>\n",
       "      <td>21.0</td>\n",
       "      <td>19.0</td>\n",
       "      <td>22.0</td>\n",
       "      <td>19.0</td>\n",
       "      <td>25.0</td>\n",
       "      <td>0.0</td>\n",
       "      <td>0.0</td>\n",
       "      <td>0.0</td>\n",
       "      <td>0.0</td>\n",
       "      <td>0.0</td>\n",
       "      <td>0.0</td>\n",
       "      <td>148.0</td>\n",
       "      <td>168.0</td>\n",
       "    </tr>\n",
       "    <tr>\n",
       "      <th>2</th>\n",
       "      <td>1001.0</td>\n",
       "      <td>Plankinton 01-1</td>\n",
       "      <td>3.0</td>\n",
       "      <td>Plankinton Junior High</td>\n",
       "      <td>0.0</td>\n",
       "      <td>0.0</td>\n",
       "      <td>0.0</td>\n",
       "      <td>0.0</td>\n",
       "      <td>0.0</td>\n",
       "      <td>0.0</td>\n",
       "      <td>0.0</td>\n",
       "      <td>0.0</td>\n",
       "      <td>14.0</td>\n",
       "      <td>23.0</td>\n",
       "      <td>0.0</td>\n",
       "      <td>0.0</td>\n",
       "      <td>0.0</td>\n",
       "      <td>0.0</td>\n",
       "      <td>37.0</td>\n",
       "      <td>37.0</td>\n",
       "    </tr>\n",
       "    <tr>\n",
       "      <th>3</th>\n",
       "      <td>1001.0</td>\n",
       "      <td>Plankinton 01-1</td>\n",
       "      <td>4.0</td>\n",
       "      <td>Aurora Plains Academy Middle School</td>\n",
       "      <td>0.0</td>\n",
       "      <td>0.0</td>\n",
       "      <td>0.0</td>\n",
       "      <td>0.0</td>\n",
       "      <td>0.0</td>\n",
       "      <td>0.0</td>\n",
       "      <td>2.0</td>\n",
       "      <td>6.0</td>\n",
       "      <td>6.0</td>\n",
       "      <td>11.0</td>\n",
       "      <td>0.0</td>\n",
       "      <td>0.0</td>\n",
       "      <td>0.0</td>\n",
       "      <td>0.0</td>\n",
       "      <td>25.0</td>\n",
       "      <td>25.0</td>\n",
       "    </tr>\n",
       "    <tr>\n",
       "      <th>4</th>\n",
       "      <td>1001.0</td>\n",
       "      <td>Plankinton 01-1</td>\n",
       "      <td>5.0</td>\n",
       "      <td>Aurora Plains Academy High School</td>\n",
       "      <td>0.0</td>\n",
       "      <td>0.0</td>\n",
       "      <td>0.0</td>\n",
       "      <td>0.0</td>\n",
       "      <td>0.0</td>\n",
       "      <td>0.0</td>\n",
       "      <td>0.0</td>\n",
       "      <td>0.0</td>\n",
       "      <td>0.0</td>\n",
       "      <td>0.0</td>\n",
       "      <td>14.0</td>\n",
       "      <td>16.0</td>\n",
       "      <td>10.0</td>\n",
       "      <td>5.0</td>\n",
       "      <td>45.0</td>\n",
       "      <td>45.0</td>\n",
       "    </tr>\n",
       "  </tbody>\n",
       "</table>\n",
       "</div>"
      ],
      "text/plain": [
       "   District No.                   District Name  School No.  \\\n",
       "0        1001.0  Plankinton 01-1                        1.0   \n",
       "1        1001.0  Plankinton 01-1                        2.0   \n",
       "2        1001.0  Plankinton 01-1                        3.0   \n",
       "3        1001.0  Plankinton 01-1                        4.0   \n",
       "4        1001.0  Plankinton 01-1                        5.0   \n",
       "\n",
       "                                School Name    PK    KG    01    02    03  \\\n",
       "0  Plankinton High School                     0.0   0.0   0.0   0.0   0.0   \n",
       "1  Plankinton Elementary                     20.0  25.0  17.0  21.0  19.0   \n",
       "2  Plankinton Junior High                     0.0   0.0   0.0   0.0   0.0   \n",
       "3  Aurora Plains Academy Middle School        0.0   0.0   0.0   0.0   0.0   \n",
       "4  Aurora Plains Academy High School          0.0   0.0   0.0   0.0   0.0   \n",
       "\n",
       "     04    05    06    07    08    09    10    11    12  TOTAL KG-12  \\\n",
       "0   0.0   0.0   0.0   0.0   0.0  22.0  14.0  27.0  12.0         75.0   \n",
       "1  22.0  19.0  25.0   0.0   0.0   0.0   0.0   0.0   0.0        148.0   \n",
       "2   0.0   0.0   0.0  14.0  23.0   0.0   0.0   0.0   0.0         37.0   \n",
       "3   0.0   2.0   6.0   6.0  11.0   0.0   0.0   0.0   0.0         25.0   \n",
       "4   0.0   0.0   0.0   0.0   0.0  14.0  16.0  10.0   5.0         45.0   \n",
       "\n",
       "   TOTAL PK-12  \n",
       "0         75.0  \n",
       "1        168.0  \n",
       "2         37.0  \n",
       "3         25.0  \n",
       "4         45.0  "
      ]
     },
     "execution_count": 86,
     "metadata": {},
     "output_type": "execute_result"
    }
   ],
   "source": [
    "SD.head()"
   ]
  },
  {
   "cell_type": "code",
   "execution_count": 87,
   "metadata": {},
   "outputs": [
    {
     "data": {
      "text/plain": [
       "Index(['District No.', 'District Name', 'School No.', 'School Name', 'PK',\n",
       "       'KG', '01', '02', '03', '04', '05', '06', '07', '08', '09', '10', '11',\n",
       "       '12', 'TOTAL KG-12', 'TOTAL PK-12'],\n",
       "      dtype='object')"
      ]
     },
     "execution_count": 87,
     "metadata": {},
     "output_type": "execute_result"
    }
   ],
   "source": [
    "SD.columns"
   ]
  },
  {
   "cell_type": "code",
   "execution_count": 93,
   "metadata": {},
   "outputs": [],
   "source": [
    "SD = SD[['District No.', 'District Name', 'School No.', 'School Name','11', '12']]\n",
    "SD = SD.rename(columns = {'11': 'Juniors This Year',\n",
    "                    '12': 'Seniors This Year'})\n",
    "SD = SD[(SD['Juniors This Year'] > 0) & (SD['Seniors This Year'] > 0)]"
   ]
  },
  {
   "cell_type": "code",
   "execution_count": 94,
   "metadata": {},
   "outputs": [
    {
     "data": {
      "text/html": [
       "<div>\n",
       "<style>\n",
       "    .dataframe thead tr:only-child th {\n",
       "        text-align: right;\n",
       "    }\n",
       "\n",
       "    .dataframe thead th {\n",
       "        text-align: left;\n",
       "    }\n",
       "\n",
       "    .dataframe tbody tr th {\n",
       "        vertical-align: top;\n",
       "    }\n",
       "</style>\n",
       "<table border=\"1\" class=\"dataframe\">\n",
       "  <thead>\n",
       "    <tr style=\"text-align: right;\">\n",
       "      <th></th>\n",
       "      <th>District No.</th>\n",
       "      <th>District Name</th>\n",
       "      <th>School No.</th>\n",
       "      <th>School Name</th>\n",
       "      <th>Juniors This Year</th>\n",
       "      <th>Seniors This Year</th>\n",
       "    </tr>\n",
       "  </thead>\n",
       "  <tbody>\n",
       "    <tr>\n",
       "      <th>0</th>\n",
       "      <td>1001.0</td>\n",
       "      <td>Plankinton 01-1</td>\n",
       "      <td>1.0</td>\n",
       "      <td>Plankinton High School</td>\n",
       "      <td>27.0</td>\n",
       "      <td>12.0</td>\n",
       "    </tr>\n",
       "    <tr>\n",
       "      <th>1</th>\n",
       "      <td>1001.0</td>\n",
       "      <td>Plankinton 01-1</td>\n",
       "      <td>5.0</td>\n",
       "      <td>Aurora Plains Academy High School</td>\n",
       "      <td>10.0</td>\n",
       "      <td>5.0</td>\n",
       "    </tr>\n",
       "    <tr>\n",
       "      <th>2</th>\n",
       "      <td>1003.0</td>\n",
       "      <td>White Lake 01-3</td>\n",
       "      <td>1.0</td>\n",
       "      <td>White Lake High School</td>\n",
       "      <td>8.0</td>\n",
       "      <td>9.0</td>\n",
       "    </tr>\n",
       "    <tr>\n",
       "      <th>3</th>\n",
       "      <td>2002.0</td>\n",
       "      <td>Huron 02-2</td>\n",
       "      <td>1.0</td>\n",
       "      <td>Huron High School</td>\n",
       "      <td>159.0</td>\n",
       "      <td>137.0</td>\n",
       "    </tr>\n",
       "    <tr>\n",
       "      <th>4</th>\n",
       "      <td>2002.0</td>\n",
       "      <td>Huron 02-2</td>\n",
       "      <td>12.0</td>\n",
       "      <td>Our Home ASAP</td>\n",
       "      <td>10.0</td>\n",
       "      <td>5.0</td>\n",
       "    </tr>\n",
       "  </tbody>\n",
       "</table>\n",
       "</div>"
      ],
      "text/plain": [
       "   District No.                   District Name  School No.  \\\n",
       "0        1001.0  Plankinton 01-1                        1.0   \n",
       "1        1001.0  Plankinton 01-1                        5.0   \n",
       "2        1003.0  White Lake 01-3                        1.0   \n",
       "3        2002.0  Huron 02-2                             1.0   \n",
       "4        2002.0  Huron 02-2                            12.0   \n",
       "\n",
       "                                School Name  Juniors This Year  \\\n",
       "0  Plankinton High School                                 27.0   \n",
       "1  Aurora Plains Academy High School                      10.0   \n",
       "2  White Lake High School                                  8.0   \n",
       "3  Huron High School                                     159.0   \n",
       "4  Our Home ASAP                                          10.0   \n",
       "\n",
       "   Seniors This Year  \n",
       "0               12.0  \n",
       "1                5.0  \n",
       "2                9.0  \n",
       "3              137.0  \n",
       "4                5.0  "
      ]
     },
     "execution_count": 94,
     "metadata": {},
     "output_type": "execute_result"
    }
   ],
   "source": [
    "SD.head()"
   ]
  },
  {
   "cell_type": "code",
   "execution_count": 90,
   "metadata": {},
   "outputs": [
    {
     "data": {
      "text/plain": [
       "'http://doe.sd.gov/ofm/documents/Pschgen16.xlsx'"
      ]
     },
     "execution_count": 90,
     "metadata": {},
     "output_type": "execute_result"
    }
   ],
   "source": [
    "LastYear = str(int(datetime.datetime.now().year - 2))[2:]\n",
    "File = PreYearText + LastYear + extention\n",
    "File"
   ]
  },
  {
   "cell_type": "code",
   "execution_count": 9,
   "metadata": {},
   "outputs": [
    {
     "name": "stdout",
     "output_type": "stream",
     "text": [
      "100% [............................................................................] 151587 / 151587"
     ]
    },
    {
     "data": {
      "text/plain": [
       "'Pschgen16.xlsx'"
      ]
     },
     "execution_count": 9,
     "metadata": {},
     "output_type": "execute_result"
    }
   ],
   "source": [
    "wget.download(File)"
   ]
  },
  {
   "cell_type": "code",
   "execution_count": 74,
   "metadata": {
    "collapsed": true
   },
   "outputs": [],
   "source": [
    "FileName = \"Pschgen\" + LastYear + extention\n",
    "LsYrSD = pd.read_excel(FileName, skiprows = 2)"
   ]
  },
  {
   "cell_type": "code",
   "execution_count": 75,
   "metadata": {},
   "outputs": [
    {
     "data": {
      "text/html": [
       "<div>\n",
       "<style>\n",
       "    .dataframe thead tr:only-child th {\n",
       "        text-align: right;\n",
       "    }\n",
       "\n",
       "    .dataframe thead th {\n",
       "        text-align: left;\n",
       "    }\n",
       "\n",
       "    .dataframe tbody tr th {\n",
       "        vertical-align: top;\n",
       "    }\n",
       "</style>\n",
       "<table border=\"1\" class=\"dataframe\">\n",
       "  <thead>\n",
       "    <tr style=\"text-align: right;\">\n",
       "      <th></th>\n",
       "      <th>District No.</th>\n",
       "      <th>District Name</th>\n",
       "      <th>School No.</th>\n",
       "      <th>School Name</th>\n",
       "      <th>Gender</th>\n",
       "      <th>PK</th>\n",
       "      <th>KG</th>\n",
       "      <th>01</th>\n",
       "      <th>02</th>\n",
       "      <th>03</th>\n",
       "      <th>...</th>\n",
       "      <th>05</th>\n",
       "      <th>06</th>\n",
       "      <th>07</th>\n",
       "      <th>08</th>\n",
       "      <th>09</th>\n",
       "      <th>10</th>\n",
       "      <th>11</th>\n",
       "      <th>12</th>\n",
       "      <th>TOTAL KG-12</th>\n",
       "      <th>TOTAL PK-12</th>\n",
       "    </tr>\n",
       "  </thead>\n",
       "  <tbody>\n",
       "    <tr>\n",
       "      <th>0</th>\n",
       "      <td>1001.0</td>\n",
       "      <td>Plankinton 01-1</td>\n",
       "      <td>1.0</td>\n",
       "      <td>Plankinton High School</td>\n",
       "      <td>Female</td>\n",
       "      <td>0.0</td>\n",
       "      <td>0.0</td>\n",
       "      <td>0.0</td>\n",
       "      <td>0.0</td>\n",
       "      <td>0.0</td>\n",
       "      <td>...</td>\n",
       "      <td>0.0</td>\n",
       "      <td>0.0</td>\n",
       "      <td>0.0</td>\n",
       "      <td>0.0</td>\n",
       "      <td>7.0</td>\n",
       "      <td>9.0</td>\n",
       "      <td>7.0</td>\n",
       "      <td>11.0</td>\n",
       "      <td>34.0</td>\n",
       "      <td>34.0</td>\n",
       "    </tr>\n",
       "    <tr>\n",
       "      <th>1</th>\n",
       "      <td>1001.0</td>\n",
       "      <td>Plankinton 01-1</td>\n",
       "      <td>1.0</td>\n",
       "      <td>Plankinton High School</td>\n",
       "      <td>Male</td>\n",
       "      <td>0.0</td>\n",
       "      <td>0.0</td>\n",
       "      <td>0.0</td>\n",
       "      <td>0.0</td>\n",
       "      <td>0.0</td>\n",
       "      <td>...</td>\n",
       "      <td>0.0</td>\n",
       "      <td>0.0</td>\n",
       "      <td>0.0</td>\n",
       "      <td>0.0</td>\n",
       "      <td>10.0</td>\n",
       "      <td>19.0</td>\n",
       "      <td>6.0</td>\n",
       "      <td>11.0</td>\n",
       "      <td>46.0</td>\n",
       "      <td>46.0</td>\n",
       "    </tr>\n",
       "    <tr>\n",
       "      <th>2</th>\n",
       "      <td>1001.0</td>\n",
       "      <td>Plankinton 01-1</td>\n",
       "      <td>2.0</td>\n",
       "      <td>Plankinton Elementary</td>\n",
       "      <td>Female</td>\n",
       "      <td>14.0</td>\n",
       "      <td>4.0</td>\n",
       "      <td>10.0</td>\n",
       "      <td>7.0</td>\n",
       "      <td>11.0</td>\n",
       "      <td>...</td>\n",
       "      <td>15.0</td>\n",
       "      <td>7.0</td>\n",
       "      <td>0.0</td>\n",
       "      <td>0.0</td>\n",
       "      <td>0.0</td>\n",
       "      <td>0.0</td>\n",
       "      <td>0.0</td>\n",
       "      <td>0.0</td>\n",
       "      <td>66.0</td>\n",
       "      <td>80.0</td>\n",
       "    </tr>\n",
       "    <tr>\n",
       "      <th>3</th>\n",
       "      <td>1001.0</td>\n",
       "      <td>Plankinton 01-1</td>\n",
       "      <td>2.0</td>\n",
       "      <td>Plankinton Elementary</td>\n",
       "      <td>Male</td>\n",
       "      <td>9.0</td>\n",
       "      <td>10.0</td>\n",
       "      <td>13.0</td>\n",
       "      <td>16.0</td>\n",
       "      <td>13.0</td>\n",
       "      <td>...</td>\n",
       "      <td>10.0</td>\n",
       "      <td>8.0</td>\n",
       "      <td>0.0</td>\n",
       "      <td>0.0</td>\n",
       "      <td>0.0</td>\n",
       "      <td>0.0</td>\n",
       "      <td>0.0</td>\n",
       "      <td>0.0</td>\n",
       "      <td>82.0</td>\n",
       "      <td>91.0</td>\n",
       "    </tr>\n",
       "    <tr>\n",
       "      <th>4</th>\n",
       "      <td>1001.0</td>\n",
       "      <td>Plankinton 01-1</td>\n",
       "      <td>3.0</td>\n",
       "      <td>Plankinton Junior High</td>\n",
       "      <td>Female</td>\n",
       "      <td>0.0</td>\n",
       "      <td>0.0</td>\n",
       "      <td>0.0</td>\n",
       "      <td>0.0</td>\n",
       "      <td>0.0</td>\n",
       "      <td>...</td>\n",
       "      <td>0.0</td>\n",
       "      <td>0.0</td>\n",
       "      <td>12.0</td>\n",
       "      <td>12.0</td>\n",
       "      <td>0.0</td>\n",
       "      <td>0.0</td>\n",
       "      <td>0.0</td>\n",
       "      <td>0.0</td>\n",
       "      <td>24.0</td>\n",
       "      <td>24.0</td>\n",
       "    </tr>\n",
       "  </tbody>\n",
       "</table>\n",
       "<p>5 rows × 21 columns</p>\n",
       "</div>"
      ],
      "text/plain": [
       "   District No.                   District Name  School No.  \\\n",
       "0        1001.0  Plankinton 01-1                        1.0   \n",
       "1        1001.0  Plankinton 01-1                        1.0   \n",
       "2        1001.0  Plankinton 01-1                        2.0   \n",
       "3        1001.0  Plankinton 01-1                        2.0   \n",
       "4        1001.0  Plankinton 01-1                        3.0   \n",
       "\n",
       "                                School Name  Gender    PK    KG    01    02  \\\n",
       "0  Plankinton High School                    Female   0.0   0.0   0.0   0.0   \n",
       "1  Plankinton High School                    Male     0.0   0.0   0.0   0.0   \n",
       "2  Plankinton Elementary                     Female  14.0   4.0  10.0   7.0   \n",
       "3  Plankinton Elementary                     Male     9.0  10.0  13.0  16.0   \n",
       "4  Plankinton Junior High                    Female   0.0   0.0   0.0   0.0   \n",
       "\n",
       "     03     ...         05   06    07    08    09    10   11    12  \\\n",
       "0   0.0     ...        0.0  0.0   0.0   0.0   7.0   9.0  7.0  11.0   \n",
       "1   0.0     ...        0.0  0.0   0.0   0.0  10.0  19.0  6.0  11.0   \n",
       "2  11.0     ...       15.0  7.0   0.0   0.0   0.0   0.0  0.0   0.0   \n",
       "3  13.0     ...       10.0  8.0   0.0   0.0   0.0   0.0  0.0   0.0   \n",
       "4   0.0     ...        0.0  0.0  12.0  12.0   0.0   0.0  0.0   0.0   \n",
       "\n",
       "   TOTAL KG-12  TOTAL PK-12  \n",
       "0         34.0         34.0  \n",
       "1         46.0         46.0  \n",
       "2         66.0         80.0  \n",
       "3         82.0         91.0  \n",
       "4         24.0         24.0  \n",
       "\n",
       "[5 rows x 21 columns]"
      ]
     },
     "execution_count": 75,
     "metadata": {},
     "output_type": "execute_result"
    }
   ],
   "source": [
    "LsYrSD.head()"
   ]
  },
  {
   "cell_type": "code",
   "execution_count": 76,
   "metadata": {},
   "outputs": [],
   "source": [
    "LsYrSD = LsYrSD[['District No.', 'District Name', 'School No.', 'School Name','11', '12']]\n",
    "LsYrSD = LsYrSD.rename(columns = {'11': 'Juniors Last Year',\n",
    "                    '12': 'Seniors Last Year'})\n",
    "LsYrSD = LsYrSD[(LsYrSD['Juniors Last Year'] > 0) & (LsYrSD['Seniors Last Year'] > 0)]"
   ]
  },
  {
   "cell_type": "code",
   "execution_count": 78,
   "metadata": {},
   "outputs": [],
   "source": [
    "# Previous File was broken out by gender, \n",
    "# here we sum over the duplicate values\n",
    "LsYrSD = LsYrSD.groupby(['District No.', \n",
    "                         'District Name', \n",
    "                         'School No.', \n",
    "                         'School Name'], as_index=False).sum()"
   ]
  },
  {
   "cell_type": "code",
   "execution_count": 81,
   "metadata": {},
   "outputs": [
    {
     "data": {
      "text/html": [
       "<div>\n",
       "<style>\n",
       "    .dataframe thead tr:only-child th {\n",
       "        text-align: right;\n",
       "    }\n",
       "\n",
       "    .dataframe thead th {\n",
       "        text-align: left;\n",
       "    }\n",
       "\n",
       "    .dataframe tbody tr th {\n",
       "        vertical-align: top;\n",
       "    }\n",
       "</style>\n",
       "<table border=\"1\" class=\"dataframe\">\n",
       "  <thead>\n",
       "    <tr style=\"text-align: right;\">\n",
       "      <th></th>\n",
       "      <th>District No.</th>\n",
       "      <th>District Name</th>\n",
       "      <th>School No.</th>\n",
       "      <th>School Name</th>\n",
       "      <th>Juniors Last Year</th>\n",
       "      <th>Seniors Last Year</th>\n",
       "    </tr>\n",
       "  </thead>\n",
       "  <tbody>\n",
       "    <tr>\n",
       "      <th>0</th>\n",
       "      <td>1001.0</td>\n",
       "      <td>Plankinton 01-1</td>\n",
       "      <td>1.0</td>\n",
       "      <td>Plankinton High School</td>\n",
       "      <td>13.0</td>\n",
       "      <td>22.0</td>\n",
       "    </tr>\n",
       "    <tr>\n",
       "      <th>1</th>\n",
       "      <td>1001.0</td>\n",
       "      <td>Plankinton 01-1</td>\n",
       "      <td>5.0</td>\n",
       "      <td>Aurora Plains Academy High School</td>\n",
       "      <td>4.0</td>\n",
       "      <td>2.0</td>\n",
       "    </tr>\n",
       "    <tr>\n",
       "      <th>2</th>\n",
       "      <td>1003.0</td>\n",
       "      <td>White Lake 01-3</td>\n",
       "      <td>1.0</td>\n",
       "      <td>White Lake High School</td>\n",
       "      <td>9.0</td>\n",
       "      <td>11.0</td>\n",
       "    </tr>\n",
       "    <tr>\n",
       "      <th>3</th>\n",
       "      <td>2002.0</td>\n",
       "      <td>Huron 02-2</td>\n",
       "      <td>1.0</td>\n",
       "      <td>Huron High School</td>\n",
       "      <td>170.0</td>\n",
       "      <td>133.0</td>\n",
       "    </tr>\n",
       "    <tr>\n",
       "      <th>4</th>\n",
       "      <td>2002.0</td>\n",
       "      <td>Huron 02-2</td>\n",
       "      <td>12.0</td>\n",
       "      <td>Our Home ASAP</td>\n",
       "      <td>4.0</td>\n",
       "      <td>4.0</td>\n",
       "    </tr>\n",
       "  </tbody>\n",
       "</table>\n",
       "</div>"
      ],
      "text/plain": [
       "   District No.                   District Name  School No.  \\\n",
       "0        1001.0  Plankinton 01-1                        1.0   \n",
       "1        1001.0  Plankinton 01-1                        5.0   \n",
       "2        1003.0  White Lake 01-3                        1.0   \n",
       "3        2002.0  Huron 02-2                             1.0   \n",
       "4        2002.0  Huron 02-2                            12.0   \n",
       "\n",
       "                                School Name  Juniors Last Year  \\\n",
       "0  Plankinton High School                                 13.0   \n",
       "1  Aurora Plains Academy High School                       4.0   \n",
       "2  White Lake High School                                  9.0   \n",
       "3  Huron High School                                     170.0   \n",
       "4  Our Home ASAP                                           4.0   \n",
       "\n",
       "   Seniors Last Year  \n",
       "0               22.0  \n",
       "1                2.0  \n",
       "2               11.0  \n",
       "3              133.0  \n",
       "4                4.0  "
      ]
     },
     "execution_count": 81,
     "metadata": {},
     "output_type": "execute_result"
    }
   ],
   "source": [
    "LsYrSD.head()"
   ]
  },
  {
   "cell_type": "code",
   "execution_count": 95,
   "metadata": {},
   "outputs": [],
   "source": [
    "SD = pd.merge(SD, LsYrSD, \n",
    "              how = 'inner', \n",
    "              on = ['District No.', \n",
    "                    'District Name', \n",
    "                    'School No.', \n",
    "                    'School Name'])"
   ]
  },
  {
   "cell_type": "code",
   "execution_count": 96,
   "metadata": {},
   "outputs": [],
   "source": [
    "SD['JuniorDelta'] = SD['Juniors This Year']/SD['Juniors Last Year']\n",
    "SD['JuniorDelta'] = SD['Juniors This Year']/SD['Juniors Last Year']"
   ]
  },
  {
   "cell_type": "code",
   "execution_count": null,
   "metadata": {
    "collapsed": true
   },
   "outputs": [],
   "source": []
  },
  {
   "cell_type": "code",
   "execution_count": 97,
   "metadata": {},
   "outputs": [
    {
     "data": {
      "text/html": [
       "<div>\n",
       "<style>\n",
       "    .dataframe thead tr:only-child th {\n",
       "        text-align: right;\n",
       "    }\n",
       "\n",
       "    .dataframe thead th {\n",
       "        text-align: left;\n",
       "    }\n",
       "\n",
       "    .dataframe tbody tr th {\n",
       "        vertical-align: top;\n",
       "    }\n",
       "</style>\n",
       "<table border=\"1\" class=\"dataframe\">\n",
       "  <thead>\n",
       "    <tr style=\"text-align: right;\">\n",
       "      <th></th>\n",
       "      <th>District No.</th>\n",
       "      <th>District Name</th>\n",
       "      <th>School No.</th>\n",
       "      <th>School Name</th>\n",
       "      <th>Juniors This Year</th>\n",
       "      <th>Seniors This Year</th>\n",
       "      <th>Juniors Last Year</th>\n",
       "      <th>Seniors Last Year</th>\n",
       "      <th>JuniorDelta</th>\n",
       "    </tr>\n",
       "  </thead>\n",
       "  <tbody>\n",
       "    <tr>\n",
       "      <th>0</th>\n",
       "      <td>1001.0</td>\n",
       "      <td>Plankinton 01-1</td>\n",
       "      <td>1.0</td>\n",
       "      <td>Plankinton High School</td>\n",
       "      <td>27.0</td>\n",
       "      <td>12.0</td>\n",
       "      <td>13.0</td>\n",
       "      <td>22.0</td>\n",
       "      <td>2.076923</td>\n",
       "    </tr>\n",
       "    <tr>\n",
       "      <th>1</th>\n",
       "      <td>1001.0</td>\n",
       "      <td>Plankinton 01-1</td>\n",
       "      <td>5.0</td>\n",
       "      <td>Aurora Plains Academy High School</td>\n",
       "      <td>10.0</td>\n",
       "      <td>5.0</td>\n",
       "      <td>4.0</td>\n",
       "      <td>2.0</td>\n",
       "      <td>2.500000</td>\n",
       "    </tr>\n",
       "    <tr>\n",
       "      <th>2</th>\n",
       "      <td>1003.0</td>\n",
       "      <td>White Lake 01-3</td>\n",
       "      <td>1.0</td>\n",
       "      <td>White Lake High School</td>\n",
       "      <td>8.0</td>\n",
       "      <td>9.0</td>\n",
       "      <td>9.0</td>\n",
       "      <td>11.0</td>\n",
       "      <td>0.888889</td>\n",
       "    </tr>\n",
       "    <tr>\n",
       "      <th>3</th>\n",
       "      <td>2002.0</td>\n",
       "      <td>Huron 02-2</td>\n",
       "      <td>1.0</td>\n",
       "      <td>Huron High School</td>\n",
       "      <td>159.0</td>\n",
       "      <td>137.0</td>\n",
       "      <td>170.0</td>\n",
       "      <td>133.0</td>\n",
       "      <td>0.935294</td>\n",
       "    </tr>\n",
       "    <tr>\n",
       "      <th>4</th>\n",
       "      <td>2002.0</td>\n",
       "      <td>Huron 02-2</td>\n",
       "      <td>12.0</td>\n",
       "      <td>Our Home ASAP</td>\n",
       "      <td>10.0</td>\n",
       "      <td>5.0</td>\n",
       "      <td>4.0</td>\n",
       "      <td>4.0</td>\n",
       "      <td>2.500000</td>\n",
       "    </tr>\n",
       "  </tbody>\n",
       "</table>\n",
       "</div>"
      ],
      "text/plain": [
       "   District No.                   District Name  School No.  \\\n",
       "0        1001.0  Plankinton 01-1                        1.0   \n",
       "1        1001.0  Plankinton 01-1                        5.0   \n",
       "2        1003.0  White Lake 01-3                        1.0   \n",
       "3        2002.0  Huron 02-2                             1.0   \n",
       "4        2002.0  Huron 02-2                            12.0   \n",
       "\n",
       "                                School Name  Juniors This Year  \\\n",
       "0  Plankinton High School                                 27.0   \n",
       "1  Aurora Plains Academy High School                      10.0   \n",
       "2  White Lake High School                                  8.0   \n",
       "3  Huron High School                                     159.0   \n",
       "4  Our Home ASAP                                          10.0   \n",
       "\n",
       "   Seniors This Year  Juniors Last Year  Seniors Last Year  JuniorDelta  \n",
       "0               12.0               13.0               22.0     2.076923  \n",
       "1                5.0                4.0                2.0     2.500000  \n",
       "2                9.0                9.0               11.0     0.888889  \n",
       "3              137.0              170.0              133.0     0.935294  \n",
       "4                5.0                4.0                4.0     2.500000  "
      ]
     },
     "execution_count": 97,
     "metadata": {},
     "output_type": "execute_result"
    }
   ],
   "source": [
    "SD.head()"
   ]
  },
  {
   "cell_type": "code",
   "execution_count": null,
   "metadata": {
    "collapsed": true
   },
   "outputs": [],
   "source": []
  },
  {
   "cell_type": "code",
   "execution_count": 98,
   "metadata": {
    "collapsed": true
   },
   "outputs": [],
   "source": [
    "# MDE web app for hs enrollment data\n",
    "searchURL = 'http://doe.sd.gov/ofm/edudir.aspx'\n",
    "time.sleep(3)\n",
    "\n",
    "# Launch web browser and navigate to the searchURL\n",
    "driver = webdriver.Firefox(fp)\n",
    "driver.get(searchURL)\n",
    "time.sleep(3)"
   ]
  },
  {
   "cell_type": "code",
   "execution_count": 99,
   "metadata": {
    "collapsed": true
   },
   "outputs": [],
   "source": [
    "ids_a =  driver.find_elements_by_xpath(\"//*[text()='Address List: Principal & School Info. (Excel)']\")\n",
    "for ii in ids_a:\n",
    "    link = ii.get_attribute('href')\n",
    "time.sleep(4)"
   ]
  },
  {
   "cell_type": "code",
   "execution_count": 100,
   "metadata": {},
   "outputs": [
    {
     "name": "stdout",
     "output_type": "stream",
     "text": [
      "100% [............................................................................] 153135 / 153135"
     ]
    }
   ],
   "source": [
    "FileName = wget.download(link)"
   ]
  },
  {
   "cell_type": "code",
   "execution_count": null,
   "metadata": {},
   "outputs": [],
   "source": []
  },
  {
   "cell_type": "code",
   "execution_count": 101,
   "metadata": {},
   "outputs": [
    {
     "data": {
      "text/plain": [
       "'Principals-0118 (1).xlsx'"
      ]
     },
     "execution_count": 101,
     "metadata": {},
     "output_type": "execute_result"
    }
   ],
   "source": [
    "str(FileName)"
   ]
  },
  {
   "cell_type": "code",
   "execution_count": 102,
   "metadata": {},
   "outputs": [],
   "source": [
    "SDLookUp = pd.read_excel(FileName)"
   ]
  },
  {
   "cell_type": "code",
   "execution_count": 103,
   "metadata": {},
   "outputs": [
    {
     "data": {
      "text/plain": [
       "Index(['DistrictType', 'SchoolType', 'DistrictNumber', 'DistrictName',\n",
       "       'SchoolNumber', 'SchoolName', 'GradeSpan', 'MailAddress', 'MailCity',\n",
       "       'MailState', 'MailZip', 'SchoolAddress', 'SchoolCity', 'SchoolState',\n",
       "       'SchoolZip', 'PrincipalFirst', 'PrincipalLast', 'PrincipalPhone',\n",
       "       'AsstPrincFirst', 'AsstPrincLast', 'AsstPrincPhone', 'CounselorFirst',\n",
       "       'CounselorLast', 'CounselorPhone'],\n",
       "      dtype='object')"
      ]
     },
     "execution_count": 103,
     "metadata": {},
     "output_type": "execute_result"
    }
   ],
   "source": [
    "SDLookUp.columns"
   ]
  },
  {
   "cell_type": "code",
   "execution_count": 104,
   "metadata": {
    "collapsed": true
   },
   "outputs": [],
   "source": [
    "SDLookUp = SDLookUp[['DistrictType', 'SchoolType', 'DistrictNumber', 'DistrictName',\n",
    "       'SchoolNumber', 'SchoolName', 'SchoolAddress', 'SchoolCity', 'SchoolState',\n",
    "       'SchoolZip']]"
   ]
  },
  {
   "cell_type": "code",
   "execution_count": 105,
   "metadata": {},
   "outputs": [
    {
     "data": {
      "text/html": [
       "<div>\n",
       "<style>\n",
       "    .dataframe thead tr:only-child th {\n",
       "        text-align: right;\n",
       "    }\n",
       "\n",
       "    .dataframe thead th {\n",
       "        text-align: left;\n",
       "    }\n",
       "\n",
       "    .dataframe tbody tr th {\n",
       "        vertical-align: top;\n",
       "    }\n",
       "</style>\n",
       "<table border=\"1\" class=\"dataframe\">\n",
       "  <thead>\n",
       "    <tr style=\"text-align: right;\">\n",
       "      <th></th>\n",
       "      <th>DistrictType</th>\n",
       "      <th>SchoolType</th>\n",
       "      <th>DistrictNumber</th>\n",
       "      <th>DistrictName</th>\n",
       "      <th>SchoolNumber</th>\n",
       "      <th>SchoolName</th>\n",
       "      <th>SchoolAddress</th>\n",
       "      <th>SchoolCity</th>\n",
       "      <th>SchoolState</th>\n",
       "      <th>SchoolZip</th>\n",
       "    </tr>\n",
       "  </thead>\n",
       "  <tbody>\n",
       "    <tr>\n",
       "      <th>0</th>\n",
       "      <td>Public School District</td>\n",
       "      <td>Alternative K-8</td>\n",
       "      <td>6001</td>\n",
       "      <td>Aberdeen 06-1</td>\n",
       "      <td>12</td>\n",
       "      <td>Aberdeen Alternative Learning Center - 12</td>\n",
       "      <td>1300 3 St S</td>\n",
       "      <td>Aberdeen</td>\n",
       "      <td>SD</td>\n",
       "      <td>57401</td>\n",
       "    </tr>\n",
       "    <tr>\n",
       "      <th>1</th>\n",
       "      <td>Public School District</td>\n",
       "      <td>Elementary EC-6</td>\n",
       "      <td>6001</td>\n",
       "      <td>Aberdeen 06-1</td>\n",
       "      <td>5</td>\n",
       "      <td>C.C.  Lee Elementary - 05</td>\n",
       "      <td>1900 N State St</td>\n",
       "      <td>Aberdeen</td>\n",
       "      <td>SD</td>\n",
       "      <td>57401</td>\n",
       "    </tr>\n",
       "    <tr>\n",
       "      <th>2</th>\n",
       "      <td>Public School District</td>\n",
       "      <td>Secondary 9-12</td>\n",
       "      <td>6001</td>\n",
       "      <td>Aberdeen 06-1</td>\n",
       "      <td>1</td>\n",
       "      <td>Central High School - 01</td>\n",
       "      <td>2200 S Roosevelt St</td>\n",
       "      <td>Aberdeen</td>\n",
       "      <td>SD</td>\n",
       "      <td>57401</td>\n",
       "    </tr>\n",
       "    <tr>\n",
       "      <th>3</th>\n",
       "      <td>Public School District</td>\n",
       "      <td>Middle School/Jr High 5-8</td>\n",
       "      <td>6001</td>\n",
       "      <td>Aberdeen 06-1</td>\n",
       "      <td>2</td>\n",
       "      <td>Holgate Middle School - 02</td>\n",
       "      <td>2200 N Dakota St</td>\n",
       "      <td>Aberdeen</td>\n",
       "      <td>SD</td>\n",
       "      <td>57401-1469</td>\n",
       "    </tr>\n",
       "    <tr>\n",
       "      <th>4</th>\n",
       "      <td>Public School District</td>\n",
       "      <td>Aux Placement</td>\n",
       "      <td>6001</td>\n",
       "      <td>Aberdeen 06-1</td>\n",
       "      <td>88</td>\n",
       "      <td>JDC - 88</td>\n",
       "      <td>22 Court St SE</td>\n",
       "      <td>Aberdeen</td>\n",
       "      <td>SD</td>\n",
       "      <td>57401</td>\n",
       "    </tr>\n",
       "    <tr>\n",
       "      <th>5</th>\n",
       "      <td>Public School District</td>\n",
       "      <td>Elementary EC-6</td>\n",
       "      <td>6001</td>\n",
       "      <td>Aberdeen 06-1</td>\n",
       "      <td>8</td>\n",
       "      <td>Lincoln Elementary - 08</td>\n",
       "      <td>414 S 10th St</td>\n",
       "      <td>Aberdeen</td>\n",
       "      <td>SD</td>\n",
       "      <td>57401</td>\n",
       "    </tr>\n",
       "    <tr>\n",
       "      <th>6</th>\n",
       "      <td>Public School District</td>\n",
       "      <td>Elementary EC-6</td>\n",
       "      <td>6001</td>\n",
       "      <td>Aberdeen 06-1</td>\n",
       "      <td>9</td>\n",
       "      <td>May Overby Elementary - 09</td>\n",
       "      <td>612 14th Ave SE</td>\n",
       "      <td>Aberdeen</td>\n",
       "      <td>SD</td>\n",
       "      <td>57401-7608</td>\n",
       "    </tr>\n",
       "    <tr>\n",
       "      <th>7</th>\n",
       "      <td>Public School District</td>\n",
       "      <td>Elementary EC-6</td>\n",
       "      <td>6001</td>\n",
       "      <td>Aberdeen 06-1</td>\n",
       "      <td>7</td>\n",
       "      <td>Mike Miller Elementary - 07</td>\n",
       "      <td>3010 Milwaukee Ave NE</td>\n",
       "      <td>Aberdeen</td>\n",
       "      <td>SD</td>\n",
       "      <td>57401</td>\n",
       "    </tr>\n",
       "    <tr>\n",
       "      <th>8</th>\n",
       "      <td>Public School District</td>\n",
       "      <td>Aux Placement</td>\n",
       "      <td>6001</td>\n",
       "      <td>Aberdeen 06-1</td>\n",
       "      <td>89</td>\n",
       "      <td>New Beginnings - 89</td>\n",
       "      <td>1601 Milwaukee Ave NE</td>\n",
       "      <td>Aberdeen</td>\n",
       "      <td>SD</td>\n",
       "      <td>57401</td>\n",
       "    </tr>\n",
       "    <tr>\n",
       "      <th>9</th>\n",
       "      <td>Public School District</td>\n",
       "      <td>Elementary EC-6</td>\n",
       "      <td>6001</td>\n",
       "      <td>Aberdeen 06-1</td>\n",
       "      <td>11</td>\n",
       "      <td>O.M. Tiffany Elementary - 11</td>\n",
       "      <td>819 8th Ave NE</td>\n",
       "      <td>Aberdeen</td>\n",
       "      <td>SD</td>\n",
       "      <td>57401-2540</td>\n",
       "    </tr>\n",
       "    <tr>\n",
       "      <th>10</th>\n",
       "      <td>Public School District</td>\n",
       "      <td>Elementary EC-6</td>\n",
       "      <td>6001</td>\n",
       "      <td>Aberdeen 06-1</td>\n",
       "      <td>10</td>\n",
       "      <td>Simmons Elementary - 10</td>\n",
       "      <td>1500 S 3rd St</td>\n",
       "      <td>Aberdeen</td>\n",
       "      <td>SD</td>\n",
       "      <td>57401-7401</td>\n",
       "    </tr>\n",
       "    <tr>\n",
       "      <th>11</th>\n",
       "      <td>Public School District</td>\n",
       "      <td>Middle School/Jr High 5-8</td>\n",
       "      <td>6001</td>\n",
       "      <td>Aberdeen 06-1</td>\n",
       "      <td>3</td>\n",
       "      <td>Simmons Middle School - 03</td>\n",
       "      <td>1300 S 3rd St</td>\n",
       "      <td>Aberdeen</td>\n",
       "      <td>SD</td>\n",
       "      <td>57401-6921</td>\n",
       "    </tr>\n",
       "    <tr>\n",
       "      <th>12</th>\n",
       "      <td>Non-Public  School District</td>\n",
       "      <td>Elementary EC-6</td>\n",
       "      <td>6301</td>\n",
       "      <td>Aberdeen Catholic Schools - 06301</td>\n",
       "      <td>4</td>\n",
       "      <td>Roncalli Elementary - 04</td>\n",
       "      <td>501 3rd Ave SE</td>\n",
       "      <td>Aberdeen</td>\n",
       "      <td>SD</td>\n",
       "      <td>57401</td>\n",
       "    </tr>\n",
       "    <tr>\n",
       "      <th>13</th>\n",
       "      <td>Non-Public  School District</td>\n",
       "      <td>Secondary 9-12</td>\n",
       "      <td>6301</td>\n",
       "      <td>Aberdeen Catholic Schools - 06301</td>\n",
       "      <td>1</td>\n",
       "      <td>Roncalli High School - 01</td>\n",
       "      <td>1400 N Dakota St</td>\n",
       "      <td>Aberdeen</td>\n",
       "      <td>SD</td>\n",
       "      <td>57401-2299</td>\n",
       "    </tr>\n",
       "    <tr>\n",
       "      <th>14</th>\n",
       "      <td>Non-Public  School District</td>\n",
       "      <td>Middle School/Jr High 5-8</td>\n",
       "      <td>6301</td>\n",
       "      <td>Aberdeen Catholic Schools - 06301</td>\n",
       "      <td>2</td>\n",
       "      <td>Roncalli Jr. High - 02</td>\n",
       "      <td>1400 N Dakota St</td>\n",
       "      <td>Aberdeen</td>\n",
       "      <td>SD</td>\n",
       "      <td>57401-4438</td>\n",
       "    </tr>\n",
       "    <tr>\n",
       "      <th>15</th>\n",
       "      <td>Non-Public  School District</td>\n",
       "      <td>Elementary EC-6</td>\n",
       "      <td>6301</td>\n",
       "      <td>Aberdeen Catholic Schools - 06301</td>\n",
       "      <td>3</td>\n",
       "      <td>Roncalli Primary - 03</td>\n",
       "      <td>419 1st Ave NE</td>\n",
       "      <td>Aberdeen</td>\n",
       "      <td>SD</td>\n",
       "      <td>57401</td>\n",
       "    </tr>\n",
       "    <tr>\n",
       "      <th>16</th>\n",
       "      <td>Non-Public  School District</td>\n",
       "      <td>Elementary EC-6</td>\n",
       "      <td>6320</td>\n",
       "      <td>Aberdeen Christian School, Inc. - 06320</td>\n",
       "      <td>1</td>\n",
       "      <td>Aberdeen Christian Elementary - 01</td>\n",
       "      <td>1500 N Hwy 281</td>\n",
       "      <td>Aberdeen</td>\n",
       "      <td>SD</td>\n",
       "      <td>57401</td>\n",
       "    </tr>\n",
       "    <tr>\n",
       "      <th>17</th>\n",
       "      <td>Non-Public  School District</td>\n",
       "      <td>Secondary 9-12</td>\n",
       "      <td>6320</td>\n",
       "      <td>Aberdeen Christian School, Inc. - 06320</td>\n",
       "      <td>2</td>\n",
       "      <td>Aberdeen Christian High School - 02</td>\n",
       "      <td>1500 N Hwy 281</td>\n",
       "      <td>Aberdeen</td>\n",
       "      <td>SD</td>\n",
       "      <td>57401</td>\n",
       "    </tr>\n",
       "    <tr>\n",
       "      <th>18</th>\n",
       "      <td>Non-Public  School District</td>\n",
       "      <td>Middle School/Jr High 5-8</td>\n",
       "      <td>6320</td>\n",
       "      <td>Aberdeen Christian School, Inc. - 06320</td>\n",
       "      <td>3</td>\n",
       "      <td>Aberdeen Christian Jr. High - 03</td>\n",
       "      <td>1500 N Hwy 281</td>\n",
       "      <td>Aberdeen</td>\n",
       "      <td>SD</td>\n",
       "      <td>57401</td>\n",
       "    </tr>\n",
       "    <tr>\n",
       "      <th>19</th>\n",
       "      <td>Community Support Provider</td>\n",
       "      <td>Adjustment Training Center 7-12</td>\n",
       "      <td>63306</td>\n",
       "      <td>Ability Building Services, Inc. - 63306</td>\n",
       "      <td>1</td>\n",
       "      <td>Ability Building Services, Inc. - 01</td>\n",
       "      <td>909 W 23rd St</td>\n",
       "      <td>Yankton</td>\n",
       "      <td>SD</td>\n",
       "      <td>57078-1510</td>\n",
       "    </tr>\n",
       "    <tr>\n",
       "      <th>20</th>\n",
       "      <td>Community Support Provider</td>\n",
       "      <td>Adjustment Training Center 7-12</td>\n",
       "      <td>5303</td>\n",
       "      <td>Advance ATC - 05303</td>\n",
       "      <td>1</td>\n",
       "      <td>Advance - 01</td>\n",
       "      <td>301 Division Ave</td>\n",
       "      <td>Brookings</td>\n",
       "      <td>SD</td>\n",
       "      <td>57006</td>\n",
       "    </tr>\n",
       "    <tr>\n",
       "      <th>21</th>\n",
       "      <td>Public School District</td>\n",
       "      <td>Elementary EC-6</td>\n",
       "      <td>58003</td>\n",
       "      <td>Agar-Blunt-Onida 58-3</td>\n",
       "      <td>3</td>\n",
       "      <td>Blunt Elementary - 03</td>\n",
       "      <td>202 W Butte St</td>\n",
       "      <td>Blunt</td>\n",
       "      <td>SD</td>\n",
       "      <td>57522</td>\n",
       "    </tr>\n",
       "    <tr>\n",
       "      <th>22</th>\n",
       "      <td>Public School District</td>\n",
       "      <td>Elementary EC-6</td>\n",
       "      <td>58003</td>\n",
       "      <td>Agar-Blunt-Onida 58-3</td>\n",
       "      <td>4</td>\n",
       "      <td>Onida Elementary - 04</td>\n",
       "      <td>500 8th St</td>\n",
       "      <td>Onida</td>\n",
       "      <td>SD</td>\n",
       "      <td>57564</td>\n",
       "    </tr>\n",
       "    <tr>\n",
       "      <th>23</th>\n",
       "      <td>Public School District</td>\n",
       "      <td>Secondary 9-12</td>\n",
       "      <td>58003</td>\n",
       "      <td>Agar-Blunt-Onida 58-3</td>\n",
       "      <td>7</td>\n",
       "      <td>Sully Buttes High School - 07</td>\n",
       "      <td>500 8th St</td>\n",
       "      <td>Onida</td>\n",
       "      <td>SD</td>\n",
       "      <td>57564</td>\n",
       "    </tr>\n",
       "    <tr>\n",
       "      <th>24</th>\n",
       "      <td>Public School District</td>\n",
       "      <td>Middle School/Jr High 5-8</td>\n",
       "      <td>58003</td>\n",
       "      <td>Agar-Blunt-Onida 58-3</td>\n",
       "      <td>6</td>\n",
       "      <td>Sully Buttes Jr. High - 06</td>\n",
       "      <td>500 8th St</td>\n",
       "      <td>Onida</td>\n",
       "      <td>SD</td>\n",
       "      <td>57564</td>\n",
       "    </tr>\n",
       "    <tr>\n",
       "      <th>25</th>\n",
       "      <td>Public School District</td>\n",
       "      <td>Elementary EC-6</td>\n",
       "      <td>61001</td>\n",
       "      <td>Alcester-Hudson 61-1</td>\n",
       "      <td>4</td>\n",
       "      <td>Alcester-Hudson Elementary - 04</td>\n",
       "      <td>409 E 6th St</td>\n",
       "      <td>Alcester</td>\n",
       "      <td>SD</td>\n",
       "      <td>57001</td>\n",
       "    </tr>\n",
       "    <tr>\n",
       "      <th>26</th>\n",
       "      <td>Public School District</td>\n",
       "      <td>Secondary 9-12</td>\n",
       "      <td>61001</td>\n",
       "      <td>Alcester-Hudson 61-1</td>\n",
       "      <td>1</td>\n",
       "      <td>Alcester-Hudson High School - 01</td>\n",
       "      <td>102 E 5th</td>\n",
       "      <td>Alcester</td>\n",
       "      <td>SD</td>\n",
       "      <td>57001</td>\n",
       "    </tr>\n",
       "    <tr>\n",
       "      <th>27</th>\n",
       "      <td>Public School District</td>\n",
       "      <td>Middle School/Jr High 5-8</td>\n",
       "      <td>61001</td>\n",
       "      <td>Alcester-Hudson 61-1</td>\n",
       "      <td>3</td>\n",
       "      <td>Alcester-Hudson Jr. High - 03</td>\n",
       "      <td>102 E 5th</td>\n",
       "      <td>Alcester</td>\n",
       "      <td>SD</td>\n",
       "      <td>57001</td>\n",
       "    </tr>\n",
       "    <tr>\n",
       "      <th>28</th>\n",
       "      <td>Tribal/BIE School</td>\n",
       "      <td>Elementary EC-8</td>\n",
       "      <td>3301</td>\n",
       "      <td>American Horse School - 03301</td>\n",
       "      <td>1</td>\n",
       "      <td>American Horse Elementary - 01</td>\n",
       "      <td>100 Main St</td>\n",
       "      <td>Allen</td>\n",
       "      <td>SD</td>\n",
       "      <td>57714</td>\n",
       "    </tr>\n",
       "    <tr>\n",
       "      <th>29</th>\n",
       "      <td>Public School District</td>\n",
       "      <td>Elementary EC-6</td>\n",
       "      <td>11001</td>\n",
       "      <td>Andes Central 11-1</td>\n",
       "      <td>2</td>\n",
       "      <td>Andes Central Elementary - 02</td>\n",
       "      <td>1001 High St</td>\n",
       "      <td>Lake Andes</td>\n",
       "      <td>SD</td>\n",
       "      <td>57356</td>\n",
       "    </tr>\n",
       "    <tr>\n",
       "      <th>...</th>\n",
       "      <td>...</td>\n",
       "      <td>...</td>\n",
       "      <td>...</td>\n",
       "      <td>...</td>\n",
       "      <td>...</td>\n",
       "      <td>...</td>\n",
       "      <td>...</td>\n",
       "      <td>...</td>\n",
       "      <td>...</td>\n",
       "      <td>...</td>\n",
       "    </tr>\n",
       "    <tr>\n",
       "      <th>847</th>\n",
       "      <td>Public School District</td>\n",
       "      <td>Middle School/Jr High 5-8</td>\n",
       "      <td>1003</td>\n",
       "      <td>White Lake 01-3</td>\n",
       "      <td>3</td>\n",
       "      <td>White Lake Jr. High - 03</td>\n",
       "      <td>502 E Division St</td>\n",
       "      <td>White Lake</td>\n",
       "      <td>SD</td>\n",
       "      <td>57383-0246</td>\n",
       "    </tr>\n",
       "    <tr>\n",
       "      <th>848</th>\n",
       "      <td>Public School District</td>\n",
       "      <td>Elementary EC-6</td>\n",
       "      <td>47001</td>\n",
       "      <td>White River 47-1</td>\n",
       "      <td>8</td>\n",
       "      <td>Norris Elementary - 08</td>\n",
       "      <td>331 School Loop</td>\n",
       "      <td>Norris</td>\n",
       "      <td>SD</td>\n",
       "      <td>57560</td>\n",
       "    </tr>\n",
       "    <tr>\n",
       "      <th>849</th>\n",
       "      <td>Public School District</td>\n",
       "      <td>Elementary EC-6</td>\n",
       "      <td>47001</td>\n",
       "      <td>White River 47-1</td>\n",
       "      <td>2</td>\n",
       "      <td>White River Elementary - 02</td>\n",
       "      <td>501 E 3rd St</td>\n",
       "      <td>White River</td>\n",
       "      <td>SD</td>\n",
       "      <td>57579</td>\n",
       "    </tr>\n",
       "    <tr>\n",
       "      <th>850</th>\n",
       "      <td>Public School District</td>\n",
       "      <td>Secondary 9-12</td>\n",
       "      <td>47001</td>\n",
       "      <td>White River 47-1</td>\n",
       "      <td>1</td>\n",
       "      <td>White River High School - 01</td>\n",
       "      <td>501 E 3rd St</td>\n",
       "      <td>White River</td>\n",
       "      <td>SD</td>\n",
       "      <td>57579</td>\n",
       "    </tr>\n",
       "    <tr>\n",
       "      <th>851</th>\n",
       "      <td>Public School District</td>\n",
       "      <td>Middle School/Jr High 5-8</td>\n",
       "      <td>47001</td>\n",
       "      <td>White River 47-1</td>\n",
       "      <td>4</td>\n",
       "      <td>White River Middle School - 04</td>\n",
       "      <td>501 E 3rd St</td>\n",
       "      <td>White River</td>\n",
       "      <td>SD</td>\n",
       "      <td>57579</td>\n",
       "    </tr>\n",
       "    <tr>\n",
       "      <th>852</th>\n",
       "      <td>Public School District</td>\n",
       "      <td>Elementary EC-8</td>\n",
       "      <td>12003</td>\n",
       "      <td>Willow Lake 12-3</td>\n",
       "      <td>6</td>\n",
       "      <td>Collins Colony Elementary - 06</td>\n",
       "      <td>19606 Collins Ave</td>\n",
       "      <td>Iroquois</td>\n",
       "      <td>SD</td>\n",
       "      <td>57353</td>\n",
       "    </tr>\n",
       "    <tr>\n",
       "      <th>853</th>\n",
       "      <td>Public School District</td>\n",
       "      <td>Elementary EC-8</td>\n",
       "      <td>12003</td>\n",
       "      <td>Willow Lake 12-3</td>\n",
       "      <td>4</td>\n",
       "      <td>Mayfield Colony Elementary - 04</td>\n",
       "      <td>43188 Mayfield Rd</td>\n",
       "      <td>Willow Lake</td>\n",
       "      <td>SD</td>\n",
       "      <td>57278</td>\n",
       "    </tr>\n",
       "    <tr>\n",
       "      <th>854</th>\n",
       "      <td>Public School District</td>\n",
       "      <td>Elementary EC-8</td>\n",
       "      <td>12003</td>\n",
       "      <td>Willow Lake 12-3</td>\n",
       "      <td>5</td>\n",
       "      <td>Shamrock Colony Elementary - 05</td>\n",
       "      <td>19087 413th Ave</td>\n",
       "      <td>Carpenter</td>\n",
       "      <td>SD</td>\n",
       "      <td>57322</td>\n",
       "    </tr>\n",
       "    <tr>\n",
       "      <th>855</th>\n",
       "      <td>Public School District</td>\n",
       "      <td>Elementary EC-6</td>\n",
       "      <td>12003</td>\n",
       "      <td>Willow Lake 12-3</td>\n",
       "      <td>2</td>\n",
       "      <td>Willow Lake Elementary - 02</td>\n",
       "      <td>400 Garfield Ave</td>\n",
       "      <td>Willow Lake</td>\n",
       "      <td>SD</td>\n",
       "      <td>57278</td>\n",
       "    </tr>\n",
       "    <tr>\n",
       "      <th>856</th>\n",
       "      <td>Public School District</td>\n",
       "      <td>Secondary 9-12</td>\n",
       "      <td>12003</td>\n",
       "      <td>Willow Lake 12-3</td>\n",
       "      <td>1</td>\n",
       "      <td>Willow Lake High School - 01</td>\n",
       "      <td>400 Garfield Ave</td>\n",
       "      <td>Willow Lake</td>\n",
       "      <td>SD</td>\n",
       "      <td>57278</td>\n",
       "    </tr>\n",
       "    <tr>\n",
       "      <th>857</th>\n",
       "      <td>Public School District</td>\n",
       "      <td>Middle School/Jr High 5-8</td>\n",
       "      <td>12003</td>\n",
       "      <td>Willow Lake 12-3</td>\n",
       "      <td>3</td>\n",
       "      <td>Willow Lake Middle School - 03</td>\n",
       "      <td>400 Garfield Ave</td>\n",
       "      <td>Willow Lake</td>\n",
       "      <td>SD</td>\n",
       "      <td>57278</td>\n",
       "    </tr>\n",
       "    <tr>\n",
       "      <th>858</th>\n",
       "      <td>Public School District</td>\n",
       "      <td>Elementary EC-6</td>\n",
       "      <td>54007</td>\n",
       "      <td>Wilmot 54-7</td>\n",
       "      <td>2</td>\n",
       "      <td>Wilmot Elementary - 02</td>\n",
       "      <td>800 Ordway St</td>\n",
       "      <td>Wilmot</td>\n",
       "      <td>SD</td>\n",
       "      <td>57279</td>\n",
       "    </tr>\n",
       "    <tr>\n",
       "      <th>859</th>\n",
       "      <td>Public School District</td>\n",
       "      <td>Secondary 9-12</td>\n",
       "      <td>54007</td>\n",
       "      <td>Wilmot 54-7</td>\n",
       "      <td>1</td>\n",
       "      <td>Wilmot High School - 01</td>\n",
       "      <td>800 Ordway St</td>\n",
       "      <td>Wilmot</td>\n",
       "      <td>SD</td>\n",
       "      <td>57279</td>\n",
       "    </tr>\n",
       "    <tr>\n",
       "      <th>860</th>\n",
       "      <td>Public School District</td>\n",
       "      <td>Middle School/Jr High 5-8</td>\n",
       "      <td>54007</td>\n",
       "      <td>Wilmot 54-7</td>\n",
       "      <td>3</td>\n",
       "      <td>Wilmot Jr. High - 03</td>\n",
       "      <td>800 Ordway St</td>\n",
       "      <td>Wilmot</td>\n",
       "      <td>SD</td>\n",
       "      <td>57279</td>\n",
       "    </tr>\n",
       "    <tr>\n",
       "      <th>861</th>\n",
       "      <td>Public School District</td>\n",
       "      <td>Elementary EC-6</td>\n",
       "      <td>59002</td>\n",
       "      <td>Winner 59-2</td>\n",
       "      <td>4</td>\n",
       "      <td>Winner Elementary - 04</td>\n",
       "      <td>825 W 3rd St</td>\n",
       "      <td>Winner</td>\n",
       "      <td>SD</td>\n",
       "      <td>57580</td>\n",
       "    </tr>\n",
       "    <tr>\n",
       "      <th>862</th>\n",
       "      <td>Public School District</td>\n",
       "      <td>Secondary 9-12</td>\n",
       "      <td>59002</td>\n",
       "      <td>Winner 59-2</td>\n",
       "      <td>1</td>\n",
       "      <td>Winner High School - 01</td>\n",
       "      <td>431 E 7th St</td>\n",
       "      <td>Winner</td>\n",
       "      <td>SD</td>\n",
       "      <td>57580</td>\n",
       "    </tr>\n",
       "    <tr>\n",
       "      <th>863</th>\n",
       "      <td>Public School District</td>\n",
       "      <td>Middle School/Jr High 5-8</td>\n",
       "      <td>59002</td>\n",
       "      <td>Winner 59-2</td>\n",
       "      <td>2</td>\n",
       "      <td>Winner Middle School - 02</td>\n",
       "      <td>431 E 7th St</td>\n",
       "      <td>Winner</td>\n",
       "      <td>SD</td>\n",
       "      <td>57580</td>\n",
       "    </tr>\n",
       "    <tr>\n",
       "      <th>864</th>\n",
       "      <td>Public School District</td>\n",
       "      <td>Elementary EC-6</td>\n",
       "      <td>2006</td>\n",
       "      <td>Wolsey-Wessington 02-6</td>\n",
       "      <td>2</td>\n",
       "      <td>Wolsey-Wessington Elementary - 02</td>\n",
       "      <td>375 Ash St SE</td>\n",
       "      <td>Wolsey</td>\n",
       "      <td>SD</td>\n",
       "      <td>57384</td>\n",
       "    </tr>\n",
       "    <tr>\n",
       "      <th>865</th>\n",
       "      <td>Public School District</td>\n",
       "      <td>Secondary 9-12</td>\n",
       "      <td>2006</td>\n",
       "      <td>Wolsey-Wessington 02-6</td>\n",
       "      <td>1</td>\n",
       "      <td>Wolsey-Wessington High School - 01</td>\n",
       "      <td>375 Ash St SE</td>\n",
       "      <td>Wolsey</td>\n",
       "      <td>SD</td>\n",
       "      <td>57384</td>\n",
       "    </tr>\n",
       "    <tr>\n",
       "      <th>866</th>\n",
       "      <td>Public School District</td>\n",
       "      <td>Middle School/Jr High 5-8</td>\n",
       "      <td>2006</td>\n",
       "      <td>Wolsey-Wessington 02-6</td>\n",
       "      <td>3</td>\n",
       "      <td>Wolsey-Wessington Middle School - 03</td>\n",
       "      <td>375 Ash St SE</td>\n",
       "      <td>Wolsey</td>\n",
       "      <td>SD</td>\n",
       "      <td>57384</td>\n",
       "    </tr>\n",
       "    <tr>\n",
       "      <th>867</th>\n",
       "      <td>Public School District</td>\n",
       "      <td>Elementary EC-8</td>\n",
       "      <td>55004</td>\n",
       "      <td>Woonsocket 55-4</td>\n",
       "      <td>3</td>\n",
       "      <td>Woonsocket Elementary - 03</td>\n",
       "      <td>101 N 2nd Ave</td>\n",
       "      <td>Woonsocket</td>\n",
       "      <td>SD</td>\n",
       "      <td>57385</td>\n",
       "    </tr>\n",
       "    <tr>\n",
       "      <th>868</th>\n",
       "      <td>Public School District</td>\n",
       "      <td>Secondary 9-12</td>\n",
       "      <td>55004</td>\n",
       "      <td>Woonsocket 55-4</td>\n",
       "      <td>1</td>\n",
       "      <td>Woonsocket High School - 01</td>\n",
       "      <td>101 N 2nd Ave</td>\n",
       "      <td>Woonsocket</td>\n",
       "      <td>SD</td>\n",
       "      <td>57385</td>\n",
       "    </tr>\n",
       "    <tr>\n",
       "      <th>869</th>\n",
       "      <td>Tribal/BIE School</td>\n",
       "      <td>Elementary EC-8</td>\n",
       "      <td>65302</td>\n",
       "      <td>Wounded Knee School System - 65302</td>\n",
       "      <td>1</td>\n",
       "      <td>Wounded Knee Elementary - 01</td>\n",
       "      <td>100 Main St</td>\n",
       "      <td>Manderson</td>\n",
       "      <td>SD</td>\n",
       "      <td>57756</td>\n",
       "    </tr>\n",
       "    <tr>\n",
       "      <th>870</th>\n",
       "      <td>Public School District</td>\n",
       "      <td>Elementary EC-6</td>\n",
       "      <td>63003</td>\n",
       "      <td>Yankton 63-3</td>\n",
       "      <td>3</td>\n",
       "      <td>Beadle Elementary - 03</td>\n",
       "      <td>1214 Mulberry St</td>\n",
       "      <td>Yankton</td>\n",
       "      <td>SD</td>\n",
       "      <td>57078</td>\n",
       "    </tr>\n",
       "    <tr>\n",
       "      <th>871</th>\n",
       "      <td>Public School District</td>\n",
       "      <td>Elementary EC-6</td>\n",
       "      <td>63003</td>\n",
       "      <td>Yankton 63-3</td>\n",
       "      <td>4</td>\n",
       "      <td>Lincoln Elementary - 04</td>\n",
       "      <td>815 Locust St</td>\n",
       "      <td>Yankton</td>\n",
       "      <td>SD</td>\n",
       "      <td>57078</td>\n",
       "    </tr>\n",
       "    <tr>\n",
       "      <th>872</th>\n",
       "      <td>Public School District</td>\n",
       "      <td>Elementary EC-6</td>\n",
       "      <td>63003</td>\n",
       "      <td>Yankton 63-3</td>\n",
       "      <td>5</td>\n",
       "      <td>Stewart Elementary - 05</td>\n",
       "      <td>208 W 21st St</td>\n",
       "      <td>Yankton</td>\n",
       "      <td>SD</td>\n",
       "      <td>57078</td>\n",
       "    </tr>\n",
       "    <tr>\n",
       "      <th>873</th>\n",
       "      <td>Public School District</td>\n",
       "      <td>Elementary EC-6</td>\n",
       "      <td>63003</td>\n",
       "      <td>Yankton 63-3</td>\n",
       "      <td>6</td>\n",
       "      <td>Webster Elementary - 06</td>\n",
       "      <td>317 E 7th St</td>\n",
       "      <td>Yankton</td>\n",
       "      <td>SD</td>\n",
       "      <td>57078</td>\n",
       "    </tr>\n",
       "    <tr>\n",
       "      <th>874</th>\n",
       "      <td>Public School District</td>\n",
       "      <td>Secondary 9-12</td>\n",
       "      <td>63003</td>\n",
       "      <td>Yankton 63-3</td>\n",
       "      <td>1</td>\n",
       "      <td>Yankton High School - 01</td>\n",
       "      <td>1801 Summit St</td>\n",
       "      <td>Yankton</td>\n",
       "      <td>SD</td>\n",
       "      <td>57078</td>\n",
       "    </tr>\n",
       "    <tr>\n",
       "      <th>875</th>\n",
       "      <td>Public School District</td>\n",
       "      <td>Middle School/Jr High 5-8</td>\n",
       "      <td>63003</td>\n",
       "      <td>Yankton 63-3</td>\n",
       "      <td>2</td>\n",
       "      <td>Yankton Middle School - 02</td>\n",
       "      <td>2000 Mulberry St</td>\n",
       "      <td>Yankton</td>\n",
       "      <td>SD</td>\n",
       "      <td>57078</td>\n",
       "    </tr>\n",
       "    <tr>\n",
       "      <th>876</th>\n",
       "      <td>Non-Public  School District</td>\n",
       "      <td>Elementary EC-6</td>\n",
       "      <td>51304</td>\n",
       "      <td>Zion Lutheran School - Rapid City - 51304</td>\n",
       "      <td>1</td>\n",
       "      <td>Rapid City Lutheran Elementary - 01</td>\n",
       "      <td>4550 Mount Rushmore Rd</td>\n",
       "      <td>Rapid City</td>\n",
       "      <td>SD</td>\n",
       "      <td>57701-8913</td>\n",
       "    </tr>\n",
       "  </tbody>\n",
       "</table>\n",
       "<p>877 rows × 10 columns</p>\n",
       "</div>"
      ],
      "text/plain": [
       "                    DistrictType                       SchoolType  \\\n",
       "0         Public School District                  Alternative K-8   \n",
       "1         Public School District                  Elementary EC-6   \n",
       "2         Public School District                   Secondary 9-12   \n",
       "3         Public School District        Middle School/Jr High 5-8   \n",
       "4         Public School District                    Aux Placement   \n",
       "5         Public School District                  Elementary EC-6   \n",
       "6         Public School District                  Elementary EC-6   \n",
       "7         Public School District                  Elementary EC-6   \n",
       "8         Public School District                    Aux Placement   \n",
       "9         Public School District                  Elementary EC-6   \n",
       "10        Public School District                  Elementary EC-6   \n",
       "11        Public School District        Middle School/Jr High 5-8   \n",
       "12   Non-Public  School District                  Elementary EC-6   \n",
       "13   Non-Public  School District                   Secondary 9-12   \n",
       "14   Non-Public  School District        Middle School/Jr High 5-8   \n",
       "15   Non-Public  School District                  Elementary EC-6   \n",
       "16   Non-Public  School District                  Elementary EC-6   \n",
       "17   Non-Public  School District                   Secondary 9-12   \n",
       "18   Non-Public  School District        Middle School/Jr High 5-8   \n",
       "19    Community Support Provider  Adjustment Training Center 7-12   \n",
       "20    Community Support Provider  Adjustment Training Center 7-12   \n",
       "21        Public School District                  Elementary EC-6   \n",
       "22        Public School District                  Elementary EC-6   \n",
       "23        Public School District                   Secondary 9-12   \n",
       "24        Public School District        Middle School/Jr High 5-8   \n",
       "25        Public School District                  Elementary EC-6   \n",
       "26        Public School District                   Secondary 9-12   \n",
       "27        Public School District        Middle School/Jr High 5-8   \n",
       "28             Tribal/BIE School                  Elementary EC-8   \n",
       "29        Public School District                  Elementary EC-6   \n",
       "..                           ...                              ...   \n",
       "847       Public School District        Middle School/Jr High 5-8   \n",
       "848       Public School District                  Elementary EC-6   \n",
       "849       Public School District                  Elementary EC-6   \n",
       "850       Public School District                   Secondary 9-12   \n",
       "851       Public School District        Middle School/Jr High 5-8   \n",
       "852       Public School District                  Elementary EC-8   \n",
       "853       Public School District                  Elementary EC-8   \n",
       "854       Public School District                  Elementary EC-8   \n",
       "855       Public School District                  Elementary EC-6   \n",
       "856       Public School District                   Secondary 9-12   \n",
       "857       Public School District        Middle School/Jr High 5-8   \n",
       "858       Public School District                  Elementary EC-6   \n",
       "859       Public School District                   Secondary 9-12   \n",
       "860       Public School District        Middle School/Jr High 5-8   \n",
       "861       Public School District                  Elementary EC-6   \n",
       "862       Public School District                   Secondary 9-12   \n",
       "863       Public School District        Middle School/Jr High 5-8   \n",
       "864       Public School District                  Elementary EC-6   \n",
       "865       Public School District                   Secondary 9-12   \n",
       "866       Public School District        Middle School/Jr High 5-8   \n",
       "867       Public School District                  Elementary EC-8   \n",
       "868       Public School District                   Secondary 9-12   \n",
       "869            Tribal/BIE School                  Elementary EC-8   \n",
       "870       Public School District                  Elementary EC-6   \n",
       "871       Public School District                  Elementary EC-6   \n",
       "872       Public School District                  Elementary EC-6   \n",
       "873       Public School District                  Elementary EC-6   \n",
       "874       Public School District                   Secondary 9-12   \n",
       "875       Public School District        Middle School/Jr High 5-8   \n",
       "876  Non-Public  School District                  Elementary EC-6   \n",
       "\n",
       "     DistrictNumber                               DistrictName  SchoolNumber  \\\n",
       "0              6001                              Aberdeen 06-1            12   \n",
       "1              6001                              Aberdeen 06-1             5   \n",
       "2              6001                              Aberdeen 06-1             1   \n",
       "3              6001                              Aberdeen 06-1             2   \n",
       "4              6001                              Aberdeen 06-1            88   \n",
       "5              6001                              Aberdeen 06-1             8   \n",
       "6              6001                              Aberdeen 06-1             9   \n",
       "7              6001                              Aberdeen 06-1             7   \n",
       "8              6001                              Aberdeen 06-1            89   \n",
       "9              6001                              Aberdeen 06-1            11   \n",
       "10             6001                              Aberdeen 06-1            10   \n",
       "11             6001                              Aberdeen 06-1             3   \n",
       "12             6301          Aberdeen Catholic Schools - 06301             4   \n",
       "13             6301          Aberdeen Catholic Schools - 06301             1   \n",
       "14             6301          Aberdeen Catholic Schools - 06301             2   \n",
       "15             6301          Aberdeen Catholic Schools - 06301             3   \n",
       "16             6320    Aberdeen Christian School, Inc. - 06320             1   \n",
       "17             6320    Aberdeen Christian School, Inc. - 06320             2   \n",
       "18             6320    Aberdeen Christian School, Inc. - 06320             3   \n",
       "19            63306    Ability Building Services, Inc. - 63306             1   \n",
       "20             5303                        Advance ATC - 05303             1   \n",
       "21            58003                      Agar-Blunt-Onida 58-3             3   \n",
       "22            58003                      Agar-Blunt-Onida 58-3             4   \n",
       "23            58003                      Agar-Blunt-Onida 58-3             7   \n",
       "24            58003                      Agar-Blunt-Onida 58-3             6   \n",
       "25            61001                       Alcester-Hudson 61-1             4   \n",
       "26            61001                       Alcester-Hudson 61-1             1   \n",
       "27            61001                       Alcester-Hudson 61-1             3   \n",
       "28             3301              American Horse School - 03301             1   \n",
       "29            11001                         Andes Central 11-1             2   \n",
       "..              ...                                        ...           ...   \n",
       "847            1003                            White Lake 01-3             3   \n",
       "848           47001                           White River 47-1             8   \n",
       "849           47001                           White River 47-1             2   \n",
       "850           47001                           White River 47-1             1   \n",
       "851           47001                           White River 47-1             4   \n",
       "852           12003                           Willow Lake 12-3             6   \n",
       "853           12003                           Willow Lake 12-3             4   \n",
       "854           12003                           Willow Lake 12-3             5   \n",
       "855           12003                           Willow Lake 12-3             2   \n",
       "856           12003                           Willow Lake 12-3             1   \n",
       "857           12003                           Willow Lake 12-3             3   \n",
       "858           54007                                Wilmot 54-7             2   \n",
       "859           54007                                Wilmot 54-7             1   \n",
       "860           54007                                Wilmot 54-7             3   \n",
       "861           59002                                Winner 59-2             4   \n",
       "862           59002                                Winner 59-2             1   \n",
       "863           59002                                Winner 59-2             2   \n",
       "864            2006                     Wolsey-Wessington 02-6             2   \n",
       "865            2006                     Wolsey-Wessington 02-6             1   \n",
       "866            2006                     Wolsey-Wessington 02-6             3   \n",
       "867           55004                            Woonsocket 55-4             3   \n",
       "868           55004                            Woonsocket 55-4             1   \n",
       "869           65302         Wounded Knee School System - 65302             1   \n",
       "870           63003                               Yankton 63-3             3   \n",
       "871           63003                               Yankton 63-3             4   \n",
       "872           63003                               Yankton 63-3             5   \n",
       "873           63003                               Yankton 63-3             6   \n",
       "874           63003                               Yankton 63-3             1   \n",
       "875           63003                               Yankton 63-3             2   \n",
       "876           51304  Zion Lutheran School - Rapid City - 51304             1   \n",
       "\n",
       "                                    SchoolName           SchoolAddress  \\\n",
       "0    Aberdeen Alternative Learning Center - 12             1300 3 St S   \n",
       "1                    C.C.  Lee Elementary - 05         1900 N State St   \n",
       "2                     Central High School - 01     2200 S Roosevelt St   \n",
       "3                   Holgate Middle School - 02        2200 N Dakota St   \n",
       "4                                     JDC - 88          22 Court St SE   \n",
       "5                      Lincoln Elementary - 08           414 S 10th St   \n",
       "6                   May Overby Elementary - 09         612 14th Ave SE   \n",
       "7                  Mike Miller Elementary - 07   3010 Milwaukee Ave NE   \n",
       "8                          New Beginnings - 89   1601 Milwaukee Ave NE   \n",
       "9                 O.M. Tiffany Elementary - 11          819 8th Ave NE   \n",
       "10                     Simmons Elementary - 10           1500 S 3rd St   \n",
       "11                  Simmons Middle School - 03           1300 S 3rd St   \n",
       "12                    Roncalli Elementary - 04          501 3rd Ave SE   \n",
       "13                   Roncalli High School - 01        1400 N Dakota St   \n",
       "14                      Roncalli Jr. High - 02        1400 N Dakota St   \n",
       "15                       Roncalli Primary - 03          419 1st Ave NE   \n",
       "16          Aberdeen Christian Elementary - 01          1500 N Hwy 281   \n",
       "17         Aberdeen Christian High School - 02          1500 N Hwy 281   \n",
       "18            Aberdeen Christian Jr. High - 03          1500 N Hwy 281   \n",
       "19        Ability Building Services, Inc. - 01           909 W 23rd St   \n",
       "20                                Advance - 01        301 Division Ave   \n",
       "21                       Blunt Elementary - 03          202 W Butte St   \n",
       "22                       Onida Elementary - 04              500 8th St   \n",
       "23               Sully Buttes High School - 07              500 8th St   \n",
       "24                  Sully Buttes Jr. High - 06              500 8th St   \n",
       "25             Alcester-Hudson Elementary - 04            409 E 6th St   \n",
       "26            Alcester-Hudson High School - 01               102 E 5th   \n",
       "27               Alcester-Hudson Jr. High - 03               102 E 5th   \n",
       "28              American Horse Elementary - 01             100 Main St   \n",
       "29               Andes Central Elementary - 02            1001 High St   \n",
       "..                                         ...                     ...   \n",
       "847                   White Lake Jr. High - 03       502 E Division St   \n",
       "848                     Norris Elementary - 08         331 School Loop   \n",
       "849                White River Elementary - 02            501 E 3rd St   \n",
       "850               White River High School - 01            501 E 3rd St   \n",
       "851             White River Middle School - 04            501 E 3rd St   \n",
       "852             Collins Colony Elementary - 06       19606 Collins Ave   \n",
       "853            Mayfield Colony Elementary - 04       43188 Mayfield Rd   \n",
       "854            Shamrock Colony Elementary - 05         19087 413th Ave   \n",
       "855                Willow Lake Elementary - 02        400 Garfield Ave   \n",
       "856               Willow Lake High School - 01        400 Garfield Ave   \n",
       "857             Willow Lake Middle School - 03        400 Garfield Ave   \n",
       "858                     Wilmot Elementary - 02           800 Ordway St   \n",
       "859                    Wilmot High School - 01           800 Ordway St   \n",
       "860                       Wilmot Jr. High - 03           800 Ordway St   \n",
       "861                     Winner Elementary - 04            825 W 3rd St   \n",
       "862                    Winner High School - 01            431 E 7th St   \n",
       "863                  Winner Middle School - 02            431 E 7th St   \n",
       "864          Wolsey-Wessington Elementary - 02           375 Ash St SE   \n",
       "865         Wolsey-Wessington High School - 01           375 Ash St SE   \n",
       "866       Wolsey-Wessington Middle School - 03           375 Ash St SE   \n",
       "867                 Woonsocket Elementary - 03           101 N 2nd Ave   \n",
       "868                Woonsocket High School - 01           101 N 2nd Ave   \n",
       "869               Wounded Knee Elementary - 01             100 Main St   \n",
       "870                     Beadle Elementary - 03        1214 Mulberry St   \n",
       "871                    Lincoln Elementary - 04           815 Locust St   \n",
       "872                    Stewart Elementary - 05           208 W 21st St   \n",
       "873                    Webster Elementary - 06            317 E 7th St   \n",
       "874                   Yankton High School - 01          1801 Summit St   \n",
       "875                 Yankton Middle School - 02        2000 Mulberry St   \n",
       "876        Rapid City Lutheran Elementary - 01  4550 Mount Rushmore Rd   \n",
       "\n",
       "      SchoolCity SchoolState   SchoolZip  \n",
       "0       Aberdeen          SD       57401  \n",
       "1       Aberdeen          SD       57401  \n",
       "2       Aberdeen          SD       57401  \n",
       "3       Aberdeen          SD  57401-1469  \n",
       "4       Aberdeen          SD       57401  \n",
       "5       Aberdeen          SD       57401  \n",
       "6       Aberdeen          SD  57401-7608  \n",
       "7       Aberdeen          SD       57401  \n",
       "8       Aberdeen          SD       57401  \n",
       "9       Aberdeen          SD  57401-2540  \n",
       "10      Aberdeen          SD  57401-7401  \n",
       "11      Aberdeen          SD  57401-6921  \n",
       "12      Aberdeen          SD       57401  \n",
       "13      Aberdeen          SD  57401-2299  \n",
       "14      Aberdeen          SD  57401-4438  \n",
       "15      Aberdeen          SD       57401  \n",
       "16      Aberdeen          SD       57401  \n",
       "17      Aberdeen          SD       57401  \n",
       "18      Aberdeen          SD       57401  \n",
       "19       Yankton          SD  57078-1510  \n",
       "20     Brookings          SD       57006  \n",
       "21         Blunt          SD       57522  \n",
       "22         Onida          SD       57564  \n",
       "23         Onida          SD       57564  \n",
       "24         Onida          SD       57564  \n",
       "25      Alcester          SD       57001  \n",
       "26      Alcester          SD       57001  \n",
       "27      Alcester          SD       57001  \n",
       "28         Allen          SD       57714  \n",
       "29    Lake Andes          SD       57356  \n",
       "..           ...         ...         ...  \n",
       "847   White Lake          SD  57383-0246  \n",
       "848       Norris          SD       57560  \n",
       "849  White River          SD       57579  \n",
       "850  White River          SD       57579  \n",
       "851  White River          SD       57579  \n",
       "852     Iroquois          SD       57353  \n",
       "853  Willow Lake          SD       57278  \n",
       "854    Carpenter          SD       57322  \n",
       "855  Willow Lake          SD       57278  \n",
       "856  Willow Lake          SD       57278  \n",
       "857  Willow Lake          SD       57278  \n",
       "858       Wilmot          SD       57279  \n",
       "859       Wilmot          SD       57279  \n",
       "860       Wilmot          SD       57279  \n",
       "861       Winner          SD       57580  \n",
       "862       Winner          SD       57580  \n",
       "863       Winner          SD       57580  \n",
       "864       Wolsey          SD       57384  \n",
       "865       Wolsey          SD       57384  \n",
       "866       Wolsey          SD       57384  \n",
       "867   Woonsocket          SD       57385  \n",
       "868   Woonsocket          SD       57385  \n",
       "869    Manderson          SD       57756  \n",
       "870      Yankton          SD       57078  \n",
       "871      Yankton          SD       57078  \n",
       "872      Yankton          SD       57078  \n",
       "873      Yankton          SD       57078  \n",
       "874      Yankton          SD       57078  \n",
       "875      Yankton          SD       57078  \n",
       "876   Rapid City          SD  57701-8913  \n",
       "\n",
       "[877 rows x 10 columns]"
      ]
     },
     "execution_count": 105,
     "metadata": {},
     "output_type": "execute_result"
    }
   ],
   "source": [
    "SDLookUp"
   ]
  },
  {
   "cell_type": "code",
   "execution_count": 120,
   "metadata": {
    "collapsed": true
   },
   "outputs": [],
   "source": [
    "SDLookUp['County Lookup'] = SDLookUp['SchoolCity'] + ' ' + SDLookUp['SchoolState']"
   ]
  },
  {
   "cell_type": "code",
   "execution_count": 121,
   "metadata": {},
   "outputs": [
    {
     "data": {
      "text/plain": [
       "877"
      ]
     },
     "execution_count": 121,
     "metadata": {},
     "output_type": "execute_result"
    }
   ],
   "source": [
    "len(SDLookUp)"
   ]
  },
  {
   "cell_type": "code",
   "execution_count": 108,
   "metadata": {},
   "outputs": [
    {
     "data": {
      "text/plain": [
       "Index(['DistrictType', 'SchoolType', 'DistrictNumber', 'DistrictName',\n",
       "       'SchoolNumber', 'SchoolName', 'SchoolAddress', 'SchoolCity',\n",
       "       'SchoolState', 'SchoolZip', 'Full Address'],\n",
       "      dtype='object')"
      ]
     },
     "execution_count": 108,
     "metadata": {},
     "output_type": "execute_result"
    }
   ],
   "source": [
    "SDLookUp.columns"
   ]
  },
  {
   "cell_type": "code",
   "execution_count": 109,
   "metadata": {},
   "outputs": [
    {
     "data": {
      "text/plain": [
       "Index(['District No.', 'District Name', 'School No.', 'School Name',\n",
       "       'Juniors This Year', 'Seniors This Year', 'Juniors Last Year',\n",
       "       'Seniors Last Year', 'JuniorDelta'],\n",
       "      dtype='object')"
      ]
     },
     "execution_count": 109,
     "metadata": {},
     "output_type": "execute_result"
    }
   ],
   "source": [
    "SD.columns"
   ]
  },
  {
   "cell_type": "code",
   "execution_count": null,
   "metadata": {
    "collapsed": true
   },
   "outputs": [],
   "source": []
  },
  {
   "cell_type": "code",
   "execution_count": 110,
   "metadata": {
    "collapsed": true
   },
   "outputs": [],
   "source": [
    "SDFinal = pd.merge(SDLookUp, SD, how = 'inner',\n",
    "        left_on = ['DistrictNumber', \n",
    "       'SchoolNumber'],\n",
    "        right_on = ['District No.', \n",
    "                    'School No.'])"
   ]
  },
  {
   "cell_type": "code",
   "execution_count": 112,
   "metadata": {},
   "outputs": [
    {
     "data": {
      "text/plain": [
       "167"
      ]
     },
     "execution_count": 112,
     "metadata": {},
     "output_type": "execute_result"
    }
   ],
   "source": [
    "len(SDFinal)"
   ]
  },
  {
   "cell_type": "code",
   "execution_count": 122,
   "metadata": {},
   "outputs": [
    {
     "data": {
      "text/plain": [
       "'Aberdeen SD'"
      ]
     },
     "execution_count": 122,
     "metadata": {},
     "output_type": "execute_result"
    }
   ],
   "source": [
    "SDLookUp['County Lookup'].iloc[0]"
   ]
  },
  {
   "cell_type": "code",
   "execution_count": 126,
   "metadata": {},
   "outputs": [
    {
     "name": "stdout",
     "output_type": "stream",
     "text": [
      "Brown County\n"
     ]
    }
   ],
   "source": [
    "geolocator = Nominatim()\n",
    "loc = geolocator.geocode(SDLookUp['County Lookup'].iloc[0])\n",
    "print(loc.address.split(\",\")[1].strip())\n",
    "# u'Chicago, Cook County, Illinois, United States of America'\n",
    "#loc = geolocator.geocode('San Francisco California')\n",
    "#print(loc.address) "
   ]
  },
  {
   "cell_type": "code",
   "execution_count": 132,
   "metadata": {},
   "outputs": [],
   "source": [
    "SDFinal['County'] = np.nan"
   ]
  },
  {
   "cell_type": "code",
   "execution_count": 133,
   "metadata": {},
   "outputs": [
    {
     "name": "stderr",
     "output_type": "stream",
     "text": [
      "C:\\Users\\karlk\\Anaconda3\\lib\\site-packages\\pandas\\core\\indexing.py:179: SettingWithCopyWarning: \n",
      "A value is trying to be set on a copy of a slice from a DataFrame\n",
      "\n",
      "See the caveats in the documentation: http://pandas.pydata.org/pandas-docs/stable/indexing.html#indexing-view-versus-copy\n",
      "  self._setitem_with_indexer(indexer, value)\n"
     ]
    }
   ],
   "source": [
    "for i in range(len(SDFinal)):\n",
    "    geolocator = Nominatim()\n",
    "    loc = geolocator.geocode(SDLookUp['County Lookup'].iloc[i])\n",
    "    SDFinal['County'].iloc[i] = loc.address.split(\",\")[1].strip()"
   ]
  },
  {
   "cell_type": "code",
   "execution_count": 134,
   "metadata": {},
   "outputs": [
    {
     "data": {
      "text/html": [
       "<div>\n",
       "<style>\n",
       "    .dataframe thead tr:only-child th {\n",
       "        text-align: right;\n",
       "    }\n",
       "\n",
       "    .dataframe thead th {\n",
       "        text-align: left;\n",
       "    }\n",
       "\n",
       "    .dataframe tbody tr th {\n",
       "        vertical-align: top;\n",
       "    }\n",
       "</style>\n",
       "<table border=\"1\" class=\"dataframe\">\n",
       "  <thead>\n",
       "    <tr style=\"text-align: right;\">\n",
       "      <th></th>\n",
       "      <th>DistrictType</th>\n",
       "      <th>SchoolType</th>\n",
       "      <th>DistrictNumber</th>\n",
       "      <th>DistrictName</th>\n",
       "      <th>SchoolNumber</th>\n",
       "      <th>SchoolName</th>\n",
       "      <th>SchoolAddress</th>\n",
       "      <th>SchoolCity</th>\n",
       "      <th>SchoolState</th>\n",
       "      <th>SchoolZip</th>\n",
       "      <th>...</th>\n",
       "      <th>District No.</th>\n",
       "      <th>District Name</th>\n",
       "      <th>School No.</th>\n",
       "      <th>School Name</th>\n",
       "      <th>Juniors This Year</th>\n",
       "      <th>Seniors This Year</th>\n",
       "      <th>Juniors Last Year</th>\n",
       "      <th>Seniors Last Year</th>\n",
       "      <th>JuniorDelta</th>\n",
       "      <th>County</th>\n",
       "    </tr>\n",
       "  </thead>\n",
       "  <tbody>\n",
       "    <tr>\n",
       "      <th>0</th>\n",
       "      <td>Public School District</td>\n",
       "      <td>Secondary 9-12</td>\n",
       "      <td>6001</td>\n",
       "      <td>Aberdeen 06-1</td>\n",
       "      <td>1</td>\n",
       "      <td>Central High School - 01</td>\n",
       "      <td>2200 S Roosevelt St</td>\n",
       "      <td>Aberdeen</td>\n",
       "      <td>SD</td>\n",
       "      <td>57401</td>\n",
       "      <td>...</td>\n",
       "      <td>6001.0</td>\n",
       "      <td>Aberdeen 06-1</td>\n",
       "      <td>1.0</td>\n",
       "      <td>Central High School</td>\n",
       "      <td>335.0</td>\n",
       "      <td>354.0</td>\n",
       "      <td>336.0</td>\n",
       "      <td>315.0</td>\n",
       "      <td>0.997024</td>\n",
       "      <td>Brown County</td>\n",
       "    </tr>\n",
       "    <tr>\n",
       "      <th>1</th>\n",
       "      <td>Public School District</td>\n",
       "      <td>Secondary 9-12</td>\n",
       "      <td>58003</td>\n",
       "      <td>Agar-Blunt-Onida 58-3</td>\n",
       "      <td>7</td>\n",
       "      <td>Sully Buttes High School - 07</td>\n",
       "      <td>500 8th St</td>\n",
       "      <td>Onida</td>\n",
       "      <td>SD</td>\n",
       "      <td>57564</td>\n",
       "      <td>...</td>\n",
       "      <td>58003.0</td>\n",
       "      <td>Agar-Blunt-Onida 58-3</td>\n",
       "      <td>7.0</td>\n",
       "      <td>Sully Buttes High School</td>\n",
       "      <td>18.0</td>\n",
       "      <td>14.0</td>\n",
       "      <td>14.0</td>\n",
       "      <td>25.0</td>\n",
       "      <td>1.285714</td>\n",
       "      <td>Brown County</td>\n",
       "    </tr>\n",
       "    <tr>\n",
       "      <th>2</th>\n",
       "      <td>Public School District</td>\n",
       "      <td>Secondary 9-12</td>\n",
       "      <td>61001</td>\n",
       "      <td>Alcester-Hudson 61-1</td>\n",
       "      <td>1</td>\n",
       "      <td>Alcester-Hudson High School - 01</td>\n",
       "      <td>102 E 5th</td>\n",
       "      <td>Alcester</td>\n",
       "      <td>SD</td>\n",
       "      <td>57001</td>\n",
       "      <td>...</td>\n",
       "      <td>61001.0</td>\n",
       "      <td>Alcester-Hudson 61-1</td>\n",
       "      <td>1.0</td>\n",
       "      <td>Alcester-Hudson High School</td>\n",
       "      <td>25.0</td>\n",
       "      <td>21.0</td>\n",
       "      <td>25.0</td>\n",
       "      <td>15.0</td>\n",
       "      <td>1.000000</td>\n",
       "      <td>Brown County</td>\n",
       "    </tr>\n",
       "    <tr>\n",
       "      <th>3</th>\n",
       "      <td>Public School District</td>\n",
       "      <td>Secondary 9-12</td>\n",
       "      <td>11001</td>\n",
       "      <td>Andes Central 11-1</td>\n",
       "      <td>1</td>\n",
       "      <td>Andes Central High School - 01</td>\n",
       "      <td>400 School St</td>\n",
       "      <td>Lake Andes</td>\n",
       "      <td>SD</td>\n",
       "      <td>57356</td>\n",
       "      <td>...</td>\n",
       "      <td>11001.0</td>\n",
       "      <td>Andes Central 11-1</td>\n",
       "      <td>1.0</td>\n",
       "      <td>Andes Central High School</td>\n",
       "      <td>17.0</td>\n",
       "      <td>16.0</td>\n",
       "      <td>18.0</td>\n",
       "      <td>11.0</td>\n",
       "      <td>0.944444</td>\n",
       "      <td>Brown County</td>\n",
       "    </tr>\n",
       "    <tr>\n",
       "      <th>4</th>\n",
       "      <td>Public School District</td>\n",
       "      <td>Secondary 9-12</td>\n",
       "      <td>38001</td>\n",
       "      <td>Arlington 38-1</td>\n",
       "      <td>1</td>\n",
       "      <td>Arlington High School - 01</td>\n",
       "      <td>306 S Main St</td>\n",
       "      <td>Arlington</td>\n",
       "      <td>SD</td>\n",
       "      <td>57212</td>\n",
       "      <td>...</td>\n",
       "      <td>38001.0</td>\n",
       "      <td>Arlington 38-1</td>\n",
       "      <td>1.0</td>\n",
       "      <td>Arlington High School</td>\n",
       "      <td>16.0</td>\n",
       "      <td>18.0</td>\n",
       "      <td>17.0</td>\n",
       "      <td>23.0</td>\n",
       "      <td>0.941176</td>\n",
       "      <td>Brown County</td>\n",
       "    </tr>\n",
       "  </tbody>\n",
       "</table>\n",
       "<p>5 rows × 21 columns</p>\n",
       "</div>"
      ],
      "text/plain": [
       "             DistrictType      SchoolType DistrictNumber  \\\n",
       "0  Public School District  Secondary 9-12           6001   \n",
       "1  Public School District  Secondary 9-12          58003   \n",
       "2  Public School District  Secondary 9-12          61001   \n",
       "3  Public School District  Secondary 9-12          11001   \n",
       "4  Public School District  Secondary 9-12          38001   \n",
       "\n",
       "            DistrictName SchoolNumber                        SchoolName  \\\n",
       "0          Aberdeen 06-1            1          Central High School - 01   \n",
       "1  Agar-Blunt-Onida 58-3            7     Sully Buttes High School - 07   \n",
       "2   Alcester-Hudson 61-1            1  Alcester-Hudson High School - 01   \n",
       "3     Andes Central 11-1            1    Andes Central High School - 01   \n",
       "4         Arlington 38-1            1        Arlington High School - 01   \n",
       "\n",
       "         SchoolAddress  SchoolCity SchoolState SchoolZip      ...       \\\n",
       "0  2200 S Roosevelt St    Aberdeen          SD     57401      ...        \n",
       "1           500 8th St       Onida          SD     57564      ...        \n",
       "2            102 E 5th    Alcester          SD     57001      ...        \n",
       "3        400 School St  Lake Andes          SD     57356      ...        \n",
       "4        306 S Main St   Arlington          SD     57212      ...        \n",
       "\n",
       "  District No.                   District Name School No.  \\\n",
       "0       6001.0  Aberdeen 06-1                         1.0   \n",
       "1      58003.0  Agar-Blunt-Onida 58-3                 7.0   \n",
       "2      61001.0  Alcester-Hudson 61-1                  1.0   \n",
       "3      11001.0  Andes Central 11-1                    1.0   \n",
       "4      38001.0  Arlington 38-1                        1.0   \n",
       "\n",
       "                                School Name Juniors This Year  \\\n",
       "0  Central High School                                  335.0   \n",
       "1  Sully Buttes High School                              18.0   \n",
       "2  Alcester-Hudson High School                           25.0   \n",
       "3  Andes Central High School                             17.0   \n",
       "4  Arlington High School                                 16.0   \n",
       "\n",
       "   Seniors This Year  Juniors Last Year  Seniors Last Year  JuniorDelta  \\\n",
       "0              354.0              336.0              315.0     0.997024   \n",
       "1               14.0               14.0               25.0     1.285714   \n",
       "2               21.0               25.0               15.0     1.000000   \n",
       "3               16.0               18.0               11.0     0.944444   \n",
       "4               18.0               17.0               23.0     0.941176   \n",
       "\n",
       "         County  \n",
       "0  Brown County  \n",
       "1  Brown County  \n",
       "2  Brown County  \n",
       "3  Brown County  \n",
       "4  Brown County  \n",
       "\n",
       "[5 rows x 21 columns]"
      ]
     },
     "execution_count": 134,
     "metadata": {},
     "output_type": "execute_result"
    }
   ],
   "source": [
    "SDFinal.head()"
   ]
  },
  {
   "cell_type": "code",
   "execution_count": 135,
   "metadata": {
    "collapsed": true
   },
   "outputs": [],
   "source": [
    "SDFinal['Map Value'] = SDFinal['County'] + ' ' + SDFinal['SchoolState']"
   ]
  },
  {
   "cell_type": "code",
   "execution_count": 136,
   "metadata": {
    "collapsed": true
   },
   "outputs": [],
   "source": [
    "SDFinal.to_csv('SDFinal.csv', index = False)"
   ]
  },
  {
   "cell_type": "markdown",
   "metadata": {
    "collapsed": true
   },
   "source": [
    "# Wisconsin"
   ]
  },
  {
   "cell_type": "code",
   "execution_count": 18,
   "metadata": {},
   "outputs": [
    {
     "data": {
      "text/plain": [
       "'https://dpi.wi.gov/sites/default/files/wise/downloads/enrollment_certified_2017-18.zip'"
      ]
     },
     "execution_count": 18,
     "metadata": {},
     "output_type": "execute_result"
    }
   ],
   "source": [
    "Year = str(datetime.datetime.now().year - 1)  + '-' + str(datetime.datetime.now().year)[2:]\n",
    "PreString = 'https://dpi.wi.gov/sites/default/files/wise/downloads/enrollment_certified_'\n",
    "PostString = '.zip'\n",
    "File = PreString + Year + PostString\n",
    "File"
   ]
  },
  {
   "cell_type": "code",
   "execution_count": 19,
   "metadata": {},
   "outputs": [
    {
     "name": "stdout",
     "output_type": "stream",
     "text": [
      "100% [............................................................................] 749325 / 749325"
     ]
    },
    {
     "data": {
      "text/plain": [
       "'enrollment_certified_2017-18 (1).zip'"
      ]
     },
     "execution_count": 19,
     "metadata": {},
     "output_type": "execute_result"
    }
   ],
   "source": [
    "wget.download(File)"
   ]
  },
  {
   "cell_type": "code",
   "execution_count": 20,
   "metadata": {},
   "outputs": [
    {
     "name": "stdout",
     "output_type": "stream",
     "text": [
      "100% [............................................................................] 749421 / 749421"
     ]
    },
    {
     "data": {
      "text/plain": [
       "'enrollment_certified_2016-17 (1).zip'"
      ]
     },
     "execution_count": 20,
     "metadata": {},
     "output_type": "execute_result"
    }
   ],
   "source": [
    "LastYear = str(datetime.datetime.now().year - 2)  + '-' + str(datetime.datetime.now().year -1)[2:]\n",
    "File = PreString + LastYear + PostString\n",
    "wget.download(File)"
   ]
  },
  {
   "cell_type": "code",
   "execution_count": 43,
   "metadata": {},
   "outputs": [
    {
     "data": {
      "text/plain": [
       "'C://Users//karlk//GitHubRepos//SCSU-Reciprocity-HS-Enrollment//enrollment_certified_2016-17.zip'"
      ]
     },
     "execution_count": 43,
     "metadata": {},
     "output_type": "execute_result"
    }
   ],
   "source": [
    "FilePath = 'C://Users//karlk//GitHubRepos//SCSU-Reciprocity-HS-Enrollment//enrollment_certified_' \n",
    "FullPath =  FilePath + LastYear  + PostString\n",
    "FullPath"
   ]
  },
  {
   "cell_type": "code",
   "execution_count": 47,
   "metadata": {
    "collapsed": true
   },
   "outputs": [],
   "source": [
    "zf = zipfile.ZipFile(FullPath) # having First.csv zipped file.\n",
    "WILsYr = pd.read_csv(zf.open('enrollment_certified_' + LastYear + '.csv'))"
   ]
  },
  {
   "cell_type": "code",
   "execution_count": null,
   "metadata": {
    "collapsed": true
   },
   "outputs": [],
   "source": []
  },
  {
   "cell_type": "code",
   "execution_count": 52,
   "metadata": {},
   "outputs": [
    {
     "data": {
      "text/plain": [
       "Index(['SCHOOL_YEAR', 'AGENCY_TYPE', 'CESA', 'COUNTY', 'DISTRICT_CODE',\n",
       "       'SCHOOL_CODE', 'GRADE_GROUP', 'CHARTER_IND', 'DISTRICT_NAME',\n",
       "       'SCHOOL_NAME', 'GROUP_BY', 'GROUP_BY_VALUE', 'STUDENT_COUNT',\n",
       "       'PERCENT_OF_GROUP'],\n",
       "      dtype='object')"
      ]
     },
     "execution_count": 52,
     "metadata": {},
     "output_type": "execute_result"
    }
   ],
   "source": [
    "WILsYr.columns"
   ]
  },
  {
   "cell_type": "code",
   "execution_count": 53,
   "metadata": {},
   "outputs": [
    {
     "data": {
      "text/plain": [
       "0                            All Students\n",
       "1                                     SwD\n",
       "2                                    SwoD\n",
       "3                                 Unknown\n",
       "4                             Econ Disadv\n",
       "5                         Not Econ Disadv\n",
       "6                                 ELL/LEP\n",
       "7                                Eng Prof\n",
       "9                                  Female\n",
       "10                                   Male\n",
       "11                                      1\n",
       "12                                     10\n",
       "13                                     11\n",
       "14                                     12\n",
       "15                                      2\n",
       "16                                      3\n",
       "17                                      4\n",
       "18                                      5\n",
       "19                                      6\n",
       "20                                      7\n",
       "21                                      8\n",
       "22                                      9\n",
       "23                                     K3\n",
       "24                                     K4\n",
       "25                                     KG\n",
       "26                                     PK\n",
       "28                                Migrant\n",
       "29                            Not Migrant\n",
       "30                                 Autism\n",
       "31                             Deaf-Blind\n",
       "32        Emotional Behavioral Disability\n",
       "33                     Hearing Impairment\n",
       "34                Intellectual Disability\n",
       "35     Not IDEA Eligible or No Disability\n",
       "36                  Orthopedic Impairment\n",
       "37                Other Health Impairment\n",
       "38        Significant Developmental Delay\n",
       "39           Specific Learning Disability\n",
       "40          Speech or Language Impairment\n",
       "41                 Traumatic Brain Injury\n",
       "43                      Visual Impairment\n",
       "44                            Amer Indian\n",
       "45                                  Asian\n",
       "46                                  Black\n",
       "47                               Hispanic\n",
       "48                           Pacific Isle\n",
       "49                            Two or More\n",
       "50                                  White\n",
       "224                     [Data Suppressed]\n",
       "Name: GROUP_BY_VALUE, dtype: object"
      ]
     },
     "execution_count": 53,
     "metadata": {},
     "output_type": "execute_result"
    }
   ],
   "source": [
    "WILsYr.GROUP_BY_VALUE.drop_duplicates()"
   ]
  },
  {
   "cell_type": "code",
   "execution_count": 55,
   "metadata": {},
   "outputs": [
    {
     "data": {
      "text/plain": [
       "961"
      ]
     },
     "execution_count": 55,
     "metadata": {},
     "output_type": "execute_result"
    }
   ],
   "source": [
    "len(WILsYr[WILsYr['GROUP_BY_VALUE'] == '12'])"
   ]
  },
  {
   "cell_type": "markdown",
   "metadata": {},
   "source": [
    "# Manitoba"
   ]
  },
  {
   "cell_type": "code",
   "execution_count": 4,
   "metadata": {
    "collapsed": true
   },
   "outputs": [],
   "source": [
    "Year = str(datetime.datetime.now().year - 1)\n",
    "File = 'http://www.edu.gov.mb.ca/k12/finance/sch_enrol/enrolment_' + Year + '.xlsx'"
   ]
  },
  {
   "cell_type": "code",
   "execution_count": 5,
   "metadata": {},
   "outputs": [
    {
     "name": "stdout",
     "output_type": "stream",
     "text": [
      "100% [............................................................................] 516251 / 516251"
     ]
    },
    {
     "data": {
      "text/plain": [
       "'enrolment_2017.xlsx'"
      ]
     },
     "execution_count": 5,
     "metadata": {},
     "output_type": "execute_result"
    }
   ],
   "source": [
    "wget.download(File)"
   ]
  },
  {
   "cell_type": "code",
   "execution_count": 7,
   "metadata": {},
   "outputs": [
    {
     "name": "stdout",
     "output_type": "stream",
     "text": [
      "100% [............................................................................] 516931 / 516931"
     ]
    },
    {
     "data": {
      "text/plain": [
       "'enrolment_2016.xlsx'"
      ]
     },
     "execution_count": 7,
     "metadata": {},
     "output_type": "execute_result"
    }
   ],
   "source": [
    "LsYear = str(datetime.datetime.now().year - 2)\n",
    "File = 'http://www.edu.gov.mb.ca/k12/finance/sch_enrol/enrolment_' + LsYear + '.xlsx'\n",
    "wget.download(File)"
   ]
  },
  {
   "cell_type": "code",
   "execution_count": 15,
   "metadata": {
    "collapsed": true
   },
   "outputs": [],
   "source": [
    "ReadFile = 'enrolment_' + Year + '.xlsx'"
   ]
  },
  {
   "cell_type": "code",
   "execution_count": 89,
   "metadata": {},
   "outputs": [
    {
     "data": {
      "text/html": [
       "<div>\n",
       "<style>\n",
       "    .dataframe thead tr:only-child th {\n",
       "        text-align: right;\n",
       "    }\n",
       "\n",
       "    .dataframe thead th {\n",
       "        text-align: left;\n",
       "    }\n",
       "\n",
       "    .dataframe tbody tr th {\n",
       "        vertical-align: top;\n",
       "    }\n",
       "</style>\n",
       "<table border=\"1\" class=\"dataframe\">\n",
       "  <thead>\n",
       "    <tr style=\"text-align: right;\">\n",
       "      <th></th>\n",
       "      <th>0</th>\n",
       "      <th>1</th>\n",
       "      <th>15</th>\n",
       "      <th>16</th>\n",
       "      <th>District</th>\n",
       "    </tr>\n",
       "  </thead>\n",
       "  <tbody>\n",
       "    <tr>\n",
       "      <th>0</th>\n",
       "      <td>Brookdale School</td>\n",
       "      <td>Brookdale</td>\n",
       "      <td>0.0</td>\n",
       "      <td>0.0</td>\n",
       "      <td>BEAUTIFUL PLAINS SCHOOL DIVISION</td>\n",
       "    </tr>\n",
       "    <tr>\n",
       "      <th>1</th>\n",
       "      <td>Carberry Collegiate</td>\n",
       "      <td>Carberry</td>\n",
       "      <td>48.0</td>\n",
       "      <td>41.0</td>\n",
       "      <td>BEAUTIFUL PLAINS SCHOOL DIVISION</td>\n",
       "    </tr>\n",
       "    <tr>\n",
       "      <th>2</th>\n",
       "      <td>Fairway Colony School</td>\n",
       "      <td>Douglas ¹</td>\n",
       "      <td>1.0</td>\n",
       "      <td>0.0</td>\n",
       "      <td>BEAUTIFUL PLAINS SCHOOL DIVISION</td>\n",
       "    </tr>\n",
       "    <tr>\n",
       "      <th>3</th>\n",
       "      <td>Hazel M. Kellington School</td>\n",
       "      <td>Neepawa</td>\n",
       "      <td>0.0</td>\n",
       "      <td>0.0</td>\n",
       "      <td>BEAUTIFUL PLAINS SCHOOL DIVISION</td>\n",
       "    </tr>\n",
       "    <tr>\n",
       "      <th>4</th>\n",
       "      <td>J. M. Young School</td>\n",
       "      <td>Eden</td>\n",
       "      <td>0.0</td>\n",
       "      <td>0.0</td>\n",
       "      <td>BEAUTIFUL PLAINS SCHOOL DIVISION</td>\n",
       "    </tr>\n",
       "  </tbody>\n",
       "</table>\n",
       "</div>"
      ],
      "text/plain": [
       "                             0          1    15    16  \\\n",
       "0             Brookdale School  Brookdale   0.0   0.0   \n",
       "1          Carberry Collegiate   Carberry  48.0  41.0   \n",
       "2        Fairway Colony School  Douglas ¹   1.0   0.0   \n",
       "3   Hazel M. Kellington School    Neepawa   0.0   0.0   \n",
       "4           J. M. Young School       Eden   0.0   0.0   \n",
       "\n",
       "                            District  \n",
       "0   BEAUTIFUL PLAINS SCHOOL DIVISION  \n",
       "1   BEAUTIFUL PLAINS SCHOOL DIVISION  \n",
       "2   BEAUTIFUL PLAINS SCHOOL DIVISION  \n",
       "3   BEAUTIFUL PLAINS SCHOOL DIVISION  \n",
       "4   BEAUTIFUL PLAINS SCHOOL DIVISION  "
      ]
     },
     "execution_count": 89,
     "metadata": {},
     "output_type": "execute_result"
    }
   ],
   "source": [
    "SchoolDistrict = pd.read_excel(ReadFile, sheetname = '7', skiprows = 2).iloc[0][0]\n",
    "Enrollment = pd.read_excel(ReadFile, sheetname = '7', header = None, skiprows = 6)\n",
    "Enrollment = Enrollment[(Enrollment[0].notnull()) & (Enrollment[0] != 'TOTAL')]\n",
    "Enrollment = Enrollment[[0, 1, 15, 16]]\n",
    "Enrollment['District'] = SchoolDistrict\n",
    "\n",
    "Enrollment.head()"
   ]
  },
  {
   "cell_type": "code",
   "execution_count": 95,
   "metadata": {
    "collapsed": true
   },
   "outputs": [],
   "source": [
    "appended_data = []\n",
    "for i in range(7, 39):\n",
    "    SchoolDistrict = pd.read_excel(ReadFile, sheetname = '7', skiprows = 2).iloc[0][0]\n",
    "    Enrollment = pd.read_excel(ReadFile, sheetname = '7', header = None, skiprows = 6)\n",
    "    Enrollment = Enrollment[(Enrollment[0].notnull()) & (Enrollment[0] != 'TOTAL')]\n",
    "    Enrollment = Enrollment[[0, 1, 15, 16]]\n",
    "    Enrollment['District'] = SchoolDistrict\n",
    "    appended_data.append(Enrollment)\n",
    "Enrollment = pd.concat(appended_data, axis=0)"
   ]
  },
  {
   "cell_type": "code",
   "execution_count": 100,
   "metadata": {
    "collapsed": true
   },
   "outputs": [],
   "source": [
    "EnrollmentThisYear = Enrollment.rename(columns = {'0':'SCHOOL NAME', \n",
    "                             '1':'COMMUNITY', \n",
    "                             '15':'11', \n",
    "                             '16':'12'})"
   ]
  },
  {
   "cell_type": "code",
   "execution_count": null,
   "metadata": {
    "collapsed": true
   },
   "outputs": [],
   "source": []
  }
 ],
 "metadata": {
  "kernelspec": {
   "display_name": "Python 3",
   "language": "python",
   "name": "python3"
  },
  "language_info": {
   "codemirror_mode": {
    "name": "ipython",
    "version": 3
   },
   "file_extension": ".py",
   "mimetype": "text/x-python",
   "name": "python",
   "nbconvert_exporter": "python",
   "pygments_lexer": "ipython3",
   "version": "3.6.1"
  }
 },
 "nbformat": 4,
 "nbformat_minor": 2
}
