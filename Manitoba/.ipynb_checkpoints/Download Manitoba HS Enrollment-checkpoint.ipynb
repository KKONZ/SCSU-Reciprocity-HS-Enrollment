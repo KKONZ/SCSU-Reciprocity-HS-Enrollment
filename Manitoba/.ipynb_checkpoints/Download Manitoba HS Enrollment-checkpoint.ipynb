{
 "cells": [
  {
   "cell_type": "markdown",
   "metadata": {},
   "source": [
    "# Manitoba"
   ]
  },
  {
   "cell_type": "code",
   "execution_count": 1,
   "metadata": {
    "collapsed": true
   },
   "outputs": [],
   "source": [
    "import datetime\n",
    "import time\n",
    "import wget\n",
    "import numpy as np\n",
    "import pandas as pd\n",
    "from selenium import webdriver\n",
    "from selenium.webdriver.common.by import By\n",
    "import zipfile\n",
    "from geopy.geocoders import Nominatim"
   ]
  },
  {
   "cell_type": "code",
   "execution_count": 2,
   "metadata": {
    "collapsed": true
   },
   "outputs": [],
   "source": [
    "Year = str(datetime.datetime.now().year - 1)\n",
    "File = 'http://www.edu.gov.mb.ca/k12/finance/sch_enrol/enrolment_' + Year + '.xlsx'"
   ]
  },
  {
   "cell_type": "code",
   "execution_count": 3,
   "metadata": {},
   "outputs": [
    {
     "name": "stdout",
     "output_type": "stream",
     "text": [
      "100% [............................................................................] 516251 / 516251"
     ]
    }
   ],
   "source": [
    "ThisYearDownload = wget.download(File)"
   ]
  },
  {
   "cell_type": "code",
   "execution_count": 4,
   "metadata": {},
   "outputs": [
    {
     "name": "stdout",
     "output_type": "stream",
     "text": [
      "100% [............................................................................] 516931 / 516931"
     ]
    }
   ],
   "source": [
    "LsYear = str(datetime.datetime.now().year - 2)\n",
    "File = 'http://www.edu.gov.mb.ca/k12/finance/sch_enrol/enrolment_' + LsYear + '.xlsx'\n",
    "LastYearDownload = wget.download(File)"
   ]
  },
  {
   "cell_type": "code",
   "execution_count": 58,
   "metadata": {},
   "outputs": [],
   "source": [
    "# Clean This Year Enrollment File\n",
    "appended_data = []\n",
    "for i in range(7, 39):\n",
    "    Enrollment = pd.read_excel(ThisYearDownload, \n",
    "                               sheetname = str(i), \n",
    "                               header = None, skiprows = 4)\n",
    "    Enrollment = Enrollment.dropna(axis = 'columns',how='all')\n",
    "    # Rename columns as numeric order \n",
    "    Enrollment = Enrollment.rename(columns=\n",
    "                                   {x:y for x,y \n",
    "                                    in zip(Enrollment.columns,\n",
    "                                           range(0,len(Enrollment.columns)))})\n",
    "    # Remove missing schools and aggregates\n",
    "    Enrollment = Enrollment[(Enrollment[0].notnull()) & \n",
    "                            (Enrollment[0].str.contains('TOTAL') == False ) & \n",
    "                            (Enrollment[0].str.contains('SCHOOL NAME') == False) & \n",
    "                            (Enrollment[0].str.contains('DIVISON') == False )]\n",
    "    \n",
    "    # Subset to only juniors and seniors\n",
    "    Enrollment = Enrollment[(Enrollment[15] > 0) |\n",
    "                            (Enrollment[16] > 0)]\n",
    "    # Subset to only appropriate columns\n",
    "    Enrollment = Enrollment[[0, 1, 15, 16]]\n",
    "    # Combine data\n",
    "    appended_data.append(Enrollment)\n",
    "# Convert to Pandas data frame\n",
    "Enrollment = pd.concat(appended_data, axis=0)"
   ]
  },
  {
   "cell_type": "code",
   "execution_count": 59,
   "metadata": {},
   "outputs": [],
   "source": [
    "Enrollment[0] = Enrollment[0].str.strip()\n",
    "Enrollment[1] = Enrollment[1].str.strip()\n",
    "EnrollmentThisYear = Enrollment.rename(columns = {0:'SCHOOL NAME', \n",
    "                             1:'COMMUNITY', \n",
    "                             15:'Juniors This Year', \n",
    "                             16:'Seniors This Year'})"
   ]
  },
  {
   "cell_type": "code",
   "execution_count": 61,
   "metadata": {},
   "outputs": [],
   "source": [
    "# Clean Last Year Enrollment File\n",
    "appended_data = []\n",
    "for i in range(7, 39):\n",
    "    Enrollment = pd.read_excel(LastYearDownload, \n",
    "                               sheetname = str(i), \n",
    "                               header = None, \n",
    "                               skiprows = 4)\n",
    "    # Remove empty columns\n",
    "    Enrollment = Enrollment.dropna(axis = 'columns',how='all')\n",
    "    # Rename columns as numeric order \n",
    "    Enrollment = Enrollment.rename(columns=\n",
    "                                   {x:y for x,y \n",
    "                                    in zip(Enrollment.columns,\n",
    "                                           range(0,len(Enrollment.columns)))})\n",
    "    Enrollment = Enrollment[(Enrollment[0].notnull()) & \n",
    "                            (Enrollment[0].str.contains('TOTAL') == False) & \n",
    "                            (Enrollment[0].str.contains('SCHOOL NAME') == False ) & \n",
    "                            (Enrollment[0].str.contains('DIVISON') == False )]\n",
    "    Enrollment = Enrollment[(Enrollment[15] > 0) |\n",
    "                            (Enrollment[16] > 0)]\n",
    "    Enrollment = Enrollment[[0, 1, 15, 16]]\n",
    "    appended_data.append(Enrollment)\n",
    "Enrollment = pd.concat(appended_data, axis=0)"
   ]
  },
  {
   "cell_type": "code",
   "execution_count": 62,
   "metadata": {},
   "outputs": [],
   "source": [
    "SchoolDistrict = pd.read_excel(LastYearDownload, sheetname = '7', skiprows = 2)\n",
    "    # Remove empty columns\n",
    "SchoolDistrict = SchoolDistrict.dropna(axis = 'columns',how='all')\n",
    "SchoolDistrict = SchoolDistrict.dropna(axis = 'rows',how='all')"
   ]
  },
  {
   "cell_type": "code",
   "execution_count": 64,
   "metadata": {
    "collapsed": true
   },
   "outputs": [],
   "source": [
    "Enrollment[0] = Enrollment[0].str.strip()\n",
    "Enrollment[1] = Enrollment[1].str.strip()\n",
    "EnrollmentLastYear = Enrollment.rename(columns = {0:'SCHOOL NAME', \n",
    "                             1:'COMMUNITY', \n",
    "                             15:'Juniors Last Year', \n",
    "                             16:'Seniors Last Year'})"
   ]
  },
  {
   "cell_type": "code",
   "execution_count": 65,
   "metadata": {},
   "outputs": [
    {
     "data": {
      "text/html": [
       "<div>\n",
       "<style>\n",
       "    .dataframe thead tr:only-child th {\n",
       "        text-align: right;\n",
       "    }\n",
       "\n",
       "    .dataframe thead th {\n",
       "        text-align: left;\n",
       "    }\n",
       "\n",
       "    .dataframe tbody tr th {\n",
       "        vertical-align: top;\n",
       "    }\n",
       "</style>\n",
       "<table border=\"1\" class=\"dataframe\">\n",
       "  <thead>\n",
       "    <tr style=\"text-align: right;\">\n",
       "      <th></th>\n",
       "      <th>SCHOOL NAME</th>\n",
       "      <th>COMMUNITY</th>\n",
       "      <th>Juniors Last Year</th>\n",
       "      <th>Seniors Last Year</th>\n",
       "    </tr>\n",
       "  </thead>\n",
       "  <tbody>\n",
       "    <tr>\n",
       "      <th>1</th>\n",
       "      <td>Acadia Colony School</td>\n",
       "      <td>Carberry ¹</td>\n",
       "      <td>2.0</td>\n",
       "      <td>3.0</td>\n",
       "    </tr>\n",
       "    <tr>\n",
       "      <th>3</th>\n",
       "      <td>Carberry Collegiate</td>\n",
       "      <td>Carberry</td>\n",
       "      <td>45.0</td>\n",
       "      <td>34.0</td>\n",
       "    </tr>\n",
       "    <tr>\n",
       "      <th>7</th>\n",
       "      <td>Neepawa Area Collegiate</td>\n",
       "      <td>Neepawa</td>\n",
       "      <td>74.0</td>\n",
       "      <td>92.0</td>\n",
       "    </tr>\n",
       "    <tr>\n",
       "      <th>9</th>\n",
       "      <td>Riverbend Colony School</td>\n",
       "      <td>Carberry ¹</td>\n",
       "      <td>0.0</td>\n",
       "      <td>3.0</td>\n",
       "    </tr>\n",
       "    <tr>\n",
       "      <th>10</th>\n",
       "      <td>Riverside Colony School</td>\n",
       "      <td>Neepawa ¹</td>\n",
       "      <td>1.0</td>\n",
       "      <td>0.0</td>\n",
       "    </tr>\n",
       "  </tbody>\n",
       "</table>\n",
       "</div>"
      ],
      "text/plain": [
       "                SCHOOL NAME   COMMUNITY  Juniors Last Year  Seniors Last Year\n",
       "1      Acadia Colony School  Carberry ¹                2.0                3.0\n",
       "3       Carberry Collegiate    Carberry               45.0               34.0\n",
       "7   Neepawa Area Collegiate     Neepawa               74.0               92.0\n",
       "9   Riverbend Colony School  Carberry ¹                0.0                3.0\n",
       "10  Riverside Colony School   Neepawa ¹                1.0                0.0"
      ]
     },
     "execution_count": 65,
     "metadata": {},
     "output_type": "execute_result"
    }
   ],
   "source": [
    "EnrollmentLastYear.head()"
   ]
  },
  {
   "cell_type": "code",
   "execution_count": 67,
   "metadata": {},
   "outputs": [],
   "source": [
    "Manitoba = pd.merge(EnrollmentThisYear, EnrollmentLastYear, \n",
    "                    how = 'inner', on = ['SCHOOL NAME', 'COMMUNITY']).drop_duplicates()"
   ]
  },
  {
   "cell_type": "code",
   "execution_count": 68,
   "metadata": {},
   "outputs": [],
   "source": [
    "#Manitoba['JuniorDelta'] = Manitoba['Juniors This Year']/Manitoba['Juniors Last Year']\n",
    "#Manitoba['SeniorDelta'] = Manitoba['Seniors This Year']/Manitoba['Seniors Last Year']"
   ]
  },
  {
   "cell_type": "code",
   "execution_count": 69,
   "metadata": {
    "collapsed": true
   },
   "outputs": [],
   "source": [
    "Manitoba.to_csv('Manitoba.csv', index = False)"
   ]
  },
  {
   "cell_type": "code",
   "execution_count": null,
   "metadata": {
    "collapsed": true
   },
   "outputs": [],
   "source": []
  }
 ],
 "metadata": {
  "kernelspec": {
   "display_name": "Python 3",
   "language": "python",
   "name": "python3"
  },
  "language_info": {
   "codemirror_mode": {
    "name": "ipython",
    "version": 3
   },
   "file_extension": ".py",
   "mimetype": "text/x-python",
   "name": "python",
   "nbconvert_exporter": "python",
   "pygments_lexer": "ipython3",
   "version": "3.6.1"
  }
 },
 "nbformat": 4,
 "nbformat_minor": 2
}
