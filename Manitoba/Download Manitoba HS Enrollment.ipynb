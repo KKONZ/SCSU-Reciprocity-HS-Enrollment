{
 "cells": [
  {
   "cell_type": "markdown",
   "metadata": {},
   "source": [
    "# Manitoba"
   ]
  },
  {
   "cell_type": "code",
   "execution_count": 1,
   "metadata": {
    "collapsed": true
   },
   "outputs": [],
   "source": [
    "import datetime\n",
    "import time\n",
    "import wget\n",
    "import numpy as np\n",
    "import pandas as pd\n",
    "from selenium import webdriver\n",
    "from selenium.webdriver.common.by import By\n",
    "import zipfile\n",
    "from geopy.geocoders import Nominatim"
   ]
  },
  {
   "cell_type": "code",
   "execution_count": 2,
   "metadata": {
    "collapsed": true
   },
   "outputs": [],
   "source": [
    "Year = str(datetime.datetime.now().year - 1)\n",
    "File = 'http://www.edu.gov.mb.ca/k12/finance/sch_enrol/enrolment_' + Year + '.xlsx'"
   ]
  },
  {
   "cell_type": "code",
   "execution_count": 3,
   "metadata": {},
   "outputs": [
    {
     "name": "stdout",
     "output_type": "stream",
     "text": [
      "100% [............................................................................] 516251 / 516251"
     ]
    }
   ],
   "source": [
    "ThisYearDownload = wget.download(File)"
   ]
  },
  {
   "cell_type": "code",
   "execution_count": 4,
   "metadata": {},
   "outputs": [
    {
     "name": "stdout",
     "output_type": "stream",
     "text": [
      "100% [............................................................................] 516931 / 516931"
     ]
    }
   ],
   "source": [
    "LsYear = str(datetime.datetime.now().year - 2)\n",
    "File = 'http://www.edu.gov.mb.ca/k12/finance/sch_enrol/enrolment_' + LsYear + '.xlsx'\n",
    "LastYearDownload = wget.download(File)"
   ]
  },
  {
   "cell_type": "code",
   "execution_count": 59,
   "metadata": {},
   "outputs": [],
   "source": [
    "appended_data = []\n",
    "for i in range(7, 39):\n",
    "    SchoolDistrict = pd.read_excel(ThisYearDownload, sheetname = '7', skiprows = 2).iloc[0][0]\n",
    "    Enrollment = pd.read_excel(ThisYearDownload, sheetname = '7', header = None, skiprows = 6)\n",
    "    # Remove any blank columns, files are inconsistently formatted\n",
    "    Enrollment = Enrollment.dropna(axis = 'columns',how='all')\n",
    "    # Rename columns as numeric order \n",
    "    Enrollment = Enrollment.rename(columns=\n",
    "                                   {x:y for x,y \n",
    "                                    in zip(Enrollment.columns,\n",
    "                                           range(0,len(Enrollment.columns)))})\n",
    "    # Remove missing schools and aggregates\n",
    "    Enrollment = Enrollment[(Enrollment[0].notnull()) & \n",
    "                            (Enrollment[0].str.contains('TOTAL') == False )]\n",
    "    # Subset to only juniors and seniors\n",
    "    Enrollment = Enrollment[(Enrollment[15] > 0) |\n",
    "                            (Enrollment[16] > 0)]\n",
    "    # Subset to only appropriate columns\n",
    "    Enrollment = Enrollment[[0, 1, 15, 16]]\n",
    "    Enrollment['District'] = SchoolDistrict\n",
    "    appended_data.append(Enrollment)\n",
    "Enrollment = pd.concat(appended_data, axis=0)"
   ]
  },
  {
   "cell_type": "code",
   "execution_count": 60,
   "metadata": {
    "collapsed": true
   },
   "outputs": [],
   "source": [
    "EnrollmentThisYear = Enrollment.rename(columns = {0:'SCHOOL NAME', \n",
    "                             1:'COMMUNITY', \n",
    "                             15:'11', \n",
    "                             16:'12'})"
   ]
  },
  {
   "cell_type": "code",
   "execution_count": 73,
   "metadata": {},
   "outputs": [],
   "source": [
    "appended_data = []\n",
    "for i in range(7, 39):\n",
    "    # District is a merged column header in excel, extract \n",
    "    SchoolDistrict = pd.read_excel(LastYearDownload, sheetname = '7', skiprows = 2)\n",
    "    # Remove empty columns\n",
    "    SchoolDistrict = SchoolDistrict.dropna(axis = 'columns',how='all')\n",
    "    # Remove empty rows\n",
    "    SchoolDistrict = SchoolDistrict.dropna(axis = 'rows',how='all')\n",
    "    # Select first columns, should contain the division\n",
    "    SchoolDistrict = SchoolDistrict.iloc[0][0]\n",
    "    Enrollment = pd.read_excel(LastYearDownload, sheetname = '7', header = None, skiprows = 6)\n",
    "    Enrollment = Enrollment.dropna(axis = 'columns',how='all')\n",
    "    # Rename columns as numeric order \n",
    "    Enrollment = Enrollment.rename(columns=\n",
    "                                   {x:y for x,y \n",
    "                                    in zip(Enrollment.columns,\n",
    "                                           range(0,len(Enrollment.columns)))})\n",
    "    Enrollment = Enrollment[(Enrollment[0].notnull()) & \n",
    "                            (Enrollment[0].str.contains('TOTAL') == False )]\n",
    "    Enrollment = Enrollment[(Enrollment[15] > 0) |\n",
    "                            (Enrollment[16] > 0)]\n",
    "    Enrollment = Enrollment[[0, 1, 15, 16]]\n",
    "    Enrollment['District'] = SchoolDistrict\n",
    "    appended_data.append(Enrollment)\n",
    "Enrollment = pd.concat(appended_data, axis=0)"
   ]
  },
  {
   "cell_type": "code",
   "execution_count": 74,
   "metadata": {
    "collapsed": true
   },
   "outputs": [],
   "source": [
    "EnrollmentLastYear = Enrollment.rename(columns = {0:'SCHOOL NAME', \n",
    "                             1:'COMMUNITY', \n",
    "                             15:'11', \n",
    "                             16:'12'})"
   ]
  },
  {
   "cell_type": "code",
   "execution_count": 75,
   "metadata": {},
   "outputs": [
    {
     "data": {
      "text/html": [
       "<div>\n",
       "<style>\n",
       "    .dataframe thead tr:only-child th {\n",
       "        text-align: right;\n",
       "    }\n",
       "\n",
       "    .dataframe thead th {\n",
       "        text-align: left;\n",
       "    }\n",
       "\n",
       "    .dataframe tbody tr th {\n",
       "        vertical-align: top;\n",
       "    }\n",
       "</style>\n",
       "<table border=\"1\" class=\"dataframe\">\n",
       "  <thead>\n",
       "    <tr style=\"text-align: right;\">\n",
       "      <th></th>\n",
       "      <th>SCHOOL NAME</th>\n",
       "      <th>COMMUNITY</th>\n",
       "      <th>11</th>\n",
       "      <th>12</th>\n",
       "      <th>District</th>\n",
       "    </tr>\n",
       "  </thead>\n",
       "  <tbody>\n",
       "    <tr>\n",
       "      <th>1</th>\n",
       "      <td>Carberry Collegiate</td>\n",
       "      <td>Carberry</td>\n",
       "      <td>45.0</td>\n",
       "      <td>34.0</td>\n",
       "      <td>BEAUTIFUL PLAINS SCHOOL DIVISION</td>\n",
       "    </tr>\n",
       "    <tr>\n",
       "      <th>5</th>\n",
       "      <td>Neepawa Area Collegiate</td>\n",
       "      <td>Neepawa</td>\n",
       "      <td>74.0</td>\n",
       "      <td>92.0</td>\n",
       "      <td>BEAUTIFUL PLAINS SCHOOL DIVISION</td>\n",
       "    </tr>\n",
       "    <tr>\n",
       "      <th>7</th>\n",
       "      <td>Riverbend Colony School</td>\n",
       "      <td>Carberry ¹</td>\n",
       "      <td>0.0</td>\n",
       "      <td>3.0</td>\n",
       "      <td>BEAUTIFUL PLAINS SCHOOL DIVISION</td>\n",
       "    </tr>\n",
       "    <tr>\n",
       "      <th>8</th>\n",
       "      <td>Riverside Colony School</td>\n",
       "      <td>Neepawa ¹</td>\n",
       "      <td>1.0</td>\n",
       "      <td>0.0</td>\n",
       "      <td>BEAUTIFUL PLAINS SCHOOL DIVISION</td>\n",
       "    </tr>\n",
       "    <tr>\n",
       "      <th>9</th>\n",
       "      <td>Rolling Acres School</td>\n",
       "      <td>Birnie ¹</td>\n",
       "      <td>0.0</td>\n",
       "      <td>2.0</td>\n",
       "      <td>BEAUTIFUL PLAINS SCHOOL DIVISION</td>\n",
       "    </tr>\n",
       "  </tbody>\n",
       "</table>\n",
       "</div>"
      ],
      "text/plain": [
       "                SCHOOL NAME   COMMUNITY    11    12  \\\n",
       "1       Carberry Collegiate    Carberry  45.0  34.0   \n",
       "5   Neepawa Area Collegiate     Neepawa  74.0  92.0   \n",
       "7   Riverbend Colony School  Carberry ¹   0.0   3.0   \n",
       "8   Riverside Colony School   Neepawa ¹   1.0   0.0   \n",
       "9      Rolling Acres School    Birnie ¹   0.0   2.0   \n",
       "\n",
       "                            District  \n",
       "1   BEAUTIFUL PLAINS SCHOOL DIVISION  \n",
       "5   BEAUTIFUL PLAINS SCHOOL DIVISION  \n",
       "7   BEAUTIFUL PLAINS SCHOOL DIVISION  \n",
       "8   BEAUTIFUL PLAINS SCHOOL DIVISION  \n",
       "9   BEAUTIFUL PLAINS SCHOOL DIVISION  "
      ]
     },
     "execution_count": 75,
     "metadata": {},
     "output_type": "execute_result"
    }
   ],
   "source": [
    "EnrollmentLastYear.head()"
   ]
  },
  {
   "cell_type": "code",
   "execution_count": 77,
   "metadata": {},
   "outputs": [
    {
     "data": {
      "text/html": [
       "<div>\n",
       "<style>\n",
       "    .dataframe thead tr:only-child th {\n",
       "        text-align: right;\n",
       "    }\n",
       "\n",
       "    .dataframe thead th {\n",
       "        text-align: left;\n",
       "    }\n",
       "\n",
       "    .dataframe tbody tr th {\n",
       "        vertical-align: top;\n",
       "    }\n",
       "</style>\n",
       "<table border=\"1\" class=\"dataframe\">\n",
       "  <thead>\n",
       "    <tr style=\"text-align: right;\">\n",
       "      <th></th>\n",
       "      <th>SCHOOL NAME</th>\n",
       "      <th>COMMUNITY</th>\n",
       "      <th>11</th>\n",
       "      <th>12</th>\n",
       "      <th>District</th>\n",
       "    </tr>\n",
       "  </thead>\n",
       "  <tbody>\n",
       "    <tr>\n",
       "      <th>1</th>\n",
       "      <td>Carberry Collegiate</td>\n",
       "      <td>Carberry</td>\n",
       "      <td>45.0</td>\n",
       "      <td>34.0</td>\n",
       "      <td>BEAUTIFUL PLAINS SCHOOL DIVISION</td>\n",
       "    </tr>\n",
       "    <tr>\n",
       "      <th>5</th>\n",
       "      <td>Neepawa Area Collegiate</td>\n",
       "      <td>Neepawa</td>\n",
       "      <td>74.0</td>\n",
       "      <td>92.0</td>\n",
       "      <td>BEAUTIFUL PLAINS SCHOOL DIVISION</td>\n",
       "    </tr>\n",
       "    <tr>\n",
       "      <th>7</th>\n",
       "      <td>Riverbend Colony School</td>\n",
       "      <td>Carberry ¹</td>\n",
       "      <td>0.0</td>\n",
       "      <td>3.0</td>\n",
       "      <td>BEAUTIFUL PLAINS SCHOOL DIVISION</td>\n",
       "    </tr>\n",
       "    <tr>\n",
       "      <th>8</th>\n",
       "      <td>Riverside Colony School</td>\n",
       "      <td>Neepawa ¹</td>\n",
       "      <td>1.0</td>\n",
       "      <td>0.0</td>\n",
       "      <td>BEAUTIFUL PLAINS SCHOOL DIVISION</td>\n",
       "    </tr>\n",
       "    <tr>\n",
       "      <th>9</th>\n",
       "      <td>Rolling Acres School</td>\n",
       "      <td>Birnie ¹</td>\n",
       "      <td>0.0</td>\n",
       "      <td>2.0</td>\n",
       "      <td>BEAUTIFUL PLAINS SCHOOL DIVISION</td>\n",
       "    </tr>\n",
       "  </tbody>\n",
       "</table>\n",
       "</div>"
      ],
      "text/plain": [
       "                SCHOOL NAME   COMMUNITY    11    12  \\\n",
       "1       Carberry Collegiate    Carberry  45.0  34.0   \n",
       "5   Neepawa Area Collegiate     Neepawa  74.0  92.0   \n",
       "7   Riverbend Colony School  Carberry ¹   0.0   3.0   \n",
       "8   Riverside Colony School   Neepawa ¹   1.0   0.0   \n",
       "9      Rolling Acres School    Birnie ¹   0.0   2.0   \n",
       "\n",
       "                            District  \n",
       "1   BEAUTIFUL PLAINS SCHOOL DIVISION  \n",
       "5   BEAUTIFUL PLAINS SCHOOL DIVISION  \n",
       "7   BEAUTIFUL PLAINS SCHOOL DIVISION  \n",
       "8   BEAUTIFUL PLAINS SCHOOL DIVISION  \n",
       "9   BEAUTIFUL PLAINS SCHOOL DIVISION  "
      ]
     },
     "execution_count": 77,
     "metadata": {},
     "output_type": "execute_result"
    }
   ],
   "source": [
    "EnrollmentLastYear.head()"
   ]
  },
  {
   "cell_type": "code",
   "execution_count": 65,
   "metadata": {
    "collapsed": true
   },
   "outputs": [],
   "source": [
    "Enrollment = pd.read_excel(LastYearDownload, sheetname = '7', header = None, skiprows = 6)"
   ]
  },
  {
   "cell_type": "code",
   "execution_count": 66,
   "metadata": {},
   "outputs": [
    {
     "data": {
      "text/html": [
       "<div>\n",
       "<style>\n",
       "    .dataframe thead tr:only-child th {\n",
       "        text-align: right;\n",
       "    }\n",
       "\n",
       "    .dataframe thead th {\n",
       "        text-align: left;\n",
       "    }\n",
       "\n",
       "    .dataframe tbody tr th {\n",
       "        vertical-align: top;\n",
       "    }\n",
       "</style>\n",
       "<table border=\"1\" class=\"dataframe\">\n",
       "  <thead>\n",
       "    <tr style=\"text-align: right;\">\n",
       "      <th></th>\n",
       "      <th>0</th>\n",
       "      <th>1</th>\n",
       "      <th>2</th>\n",
       "      <th>3</th>\n",
       "      <th>4</th>\n",
       "      <th>5</th>\n",
       "      <th>6</th>\n",
       "      <th>7</th>\n",
       "      <th>8</th>\n",
       "      <th>9</th>\n",
       "      <th>10</th>\n",
       "      <th>11</th>\n",
       "      <th>12</th>\n",
       "      <th>13</th>\n",
       "      <th>14</th>\n",
       "      <th>15</th>\n",
       "      <th>16</th>\n",
       "      <th>17</th>\n",
       "      <th>18</th>\n",
       "    </tr>\n",
       "  </thead>\n",
       "  <tbody>\n",
       "    <tr>\n",
       "      <th>0</th>\n",
       "      <td>NaN</td>\n",
       "      <td>Brookdale School</td>\n",
       "      <td>Brookdale</td>\n",
       "      <td>0</td>\n",
       "      <td>0</td>\n",
       "      <td>5</td>\n",
       "      <td>3.0</td>\n",
       "      <td>4.0</td>\n",
       "      <td>7.0</td>\n",
       "      <td>2.0</td>\n",
       "      <td>3.0</td>\n",
       "      <td>0.0</td>\n",
       "      <td>2.0</td>\n",
       "      <td>1.0</td>\n",
       "      <td>0.0</td>\n",
       "      <td>0.0</td>\n",
       "      <td>0.0</td>\n",
       "      <td>0.0</td>\n",
       "      <td>27</td>\n",
       "    </tr>\n",
       "    <tr>\n",
       "      <th>1</th>\n",
       "      <td>NaN</td>\n",
       "      <td>Carberry Collegiate</td>\n",
       "      <td>Carberry</td>\n",
       "      <td>0</td>\n",
       "      <td>0</td>\n",
       "      <td>0</td>\n",
       "      <td>0.0</td>\n",
       "      <td>0.0</td>\n",
       "      <td>0.0</td>\n",
       "      <td>0.0</td>\n",
       "      <td>37.0</td>\n",
       "      <td>36.0</td>\n",
       "      <td>44.0</td>\n",
       "      <td>49.0</td>\n",
       "      <td>48.0</td>\n",
       "      <td>49.0</td>\n",
       "      <td>45.0</td>\n",
       "      <td>34.0</td>\n",
       "      <td>342</td>\n",
       "    </tr>\n",
       "    <tr>\n",
       "      <th>2</th>\n",
       "      <td>NaN</td>\n",
       "      <td>Fairway Colony School</td>\n",
       "      <td>Douglas ¹</td>\n",
       "      <td>0</td>\n",
       "      <td>0</td>\n",
       "      <td>2</td>\n",
       "      <td>0.0</td>\n",
       "      <td>2.0</td>\n",
       "      <td>0.0</td>\n",
       "      <td>2.0</td>\n",
       "      <td>3.0</td>\n",
       "      <td>1.0</td>\n",
       "      <td>3.0</td>\n",
       "      <td>2.0</td>\n",
       "      <td>0.0</td>\n",
       "      <td>1.0</td>\n",
       "      <td>0.0</td>\n",
       "      <td>0.0</td>\n",
       "      <td>16</td>\n",
       "    </tr>\n",
       "    <tr>\n",
       "      <th>3</th>\n",
       "      <td>NaN</td>\n",
       "      <td>Hazel M. Kellington School</td>\n",
       "      <td>Neepawa</td>\n",
       "      <td>0</td>\n",
       "      <td>0</td>\n",
       "      <td>68</td>\n",
       "      <td>77.0</td>\n",
       "      <td>77.0</td>\n",
       "      <td>68.0</td>\n",
       "      <td>82.0</td>\n",
       "      <td>102.0</td>\n",
       "      <td>0.0</td>\n",
       "      <td>0.0</td>\n",
       "      <td>0.0</td>\n",
       "      <td>0.0</td>\n",
       "      <td>0.0</td>\n",
       "      <td>0.0</td>\n",
       "      <td>0.0</td>\n",
       "      <td>474</td>\n",
       "    </tr>\n",
       "    <tr>\n",
       "      <th>4</th>\n",
       "      <td>NaN</td>\n",
       "      <td>J. M. Young School</td>\n",
       "      <td>Eden</td>\n",
       "      <td>0</td>\n",
       "      <td>0</td>\n",
       "      <td>11</td>\n",
       "      <td>4.0</td>\n",
       "      <td>7.0</td>\n",
       "      <td>2.0</td>\n",
       "      <td>4.0</td>\n",
       "      <td>3.0</td>\n",
       "      <td>7.0</td>\n",
       "      <td>0.0</td>\n",
       "      <td>4.0</td>\n",
       "      <td>0.0</td>\n",
       "      <td>0.0</td>\n",
       "      <td>0.0</td>\n",
       "      <td>0.0</td>\n",
       "      <td>42</td>\n",
       "    </tr>\n",
       "  </tbody>\n",
       "</table>\n",
       "</div>"
      ],
      "text/plain": [
       "   0                            1          2  3  4   5     6     7     8   \\\n",
       "0 NaN             Brookdale School  Brookdale  0  0   5   3.0   4.0   7.0   \n",
       "1 NaN          Carberry Collegiate   Carberry  0  0   0   0.0   0.0   0.0   \n",
       "2 NaN        Fairway Colony School  Douglas ¹  0  0   2   0.0   2.0   0.0   \n",
       "3 NaN   Hazel M. Kellington School    Neepawa  0  0  68  77.0  77.0  68.0   \n",
       "4 NaN           J. M. Young School       Eden  0  0  11   4.0   7.0   2.0   \n",
       "\n",
       "     9      10    11    12    13    14    15    16    17   18  \n",
       "0   2.0    3.0   0.0   2.0   1.0   0.0   0.0   0.0   0.0   27  \n",
       "1   0.0   37.0  36.0  44.0  49.0  48.0  49.0  45.0  34.0  342  \n",
       "2   2.0    3.0   1.0   3.0   2.0   0.0   1.0   0.0   0.0   16  \n",
       "3  82.0  102.0   0.0   0.0   0.0   0.0   0.0   0.0   0.0  474  \n",
       "4   4.0    3.0   7.0   0.0   4.0   0.0   0.0   0.0   0.0   42  "
      ]
     },
     "execution_count": 66,
     "metadata": {},
     "output_type": "execute_result"
    }
   ],
   "source": [
    "Enrollment.head()"
   ]
  },
  {
   "cell_type": "code",
   "execution_count": null,
   "metadata": {
    "collapsed": true
   },
   "outputs": [],
   "source": []
  }
 ],
 "metadata": {
  "kernelspec": {
   "display_name": "Python 3",
   "language": "python",
   "name": "python3"
  },
  "language_info": {
   "codemirror_mode": {
    "name": "ipython",
    "version": 3
   },
   "file_extension": ".py",
   "mimetype": "text/x-python",
   "name": "python",
   "nbconvert_exporter": "python",
   "pygments_lexer": "ipython3",
   "version": "3.6.1"
  }
 },
 "nbformat": 4,
 "nbformat_minor": 2
}
