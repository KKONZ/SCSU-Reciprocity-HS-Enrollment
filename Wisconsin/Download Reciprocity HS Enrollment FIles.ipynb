{
 "cells": [
  {
   "cell_type": "markdown",
   "metadata": {
    "collapsed": true
   },
   "source": [
    "# Wisconsin"
   ]
  },
  {
   "cell_type": "markdown",
   "metadata": {},
   "source": [
    "First import the packages that will be needed to access and clean the data. This will require a web browser to be launched with selenium. For this project I used geckodriver. The pyautogui is used to download the look up table. After clicking the search button, all of the wisconsin schools appear and selenium is not able to find the download button in the viewport. Using the scroll functionality of pyautogui brings the download button into view."
   ]
  },
  {
   "cell_type": "code",
   "execution_count": 31,
   "metadata": {
    "collapsed": true
   },
   "outputs": [],
   "source": [
    "import datetime\n",
    "import time\n",
    "import wget\n",
    "import numpy as np\n",
    "import pandas as pd\n",
    "from selenium import webdriver\n",
    "from selenium.webdriver.common.by import By\n",
    "import zipfile\n",
    "from geopy.geocoders import Nominatim\n",
    "from selenium.webdriver.common.action_chains import ActionChains\n",
    "from selenium.webdriver.common.keys import Keys\n",
    "import pyautogui"
   ]
  },
  {
   "cell_type": "code",
   "execution_count": 2,
   "metadata": {},
   "outputs": [
    {
     "data": {
      "text/plain": [
       "'https://dpi.wi.gov/sites/default/files/wise/downloads/enrollment_certified_2017-18.zip'"
      ]
     },
     "execution_count": 2,
     "metadata": {},
     "output_type": "execute_result"
    }
   ],
   "source": [
    "ThisYear = str(datetime.datetime.now().year - 1)  + '-' + str(datetime.datetime.now().year)[2:]\n",
    "PreString = 'https://dpi.wi.gov/sites/default/files/wise/downloads/enrollment_certified_'\n",
    "PostString = '.zip'\n",
    "File = PreString + ThisYear + PostString\n",
    "File"
   ]
  },
  {
   "cell_type": "code",
   "execution_count": 3,
   "metadata": {},
   "outputs": [
    {
     "name": "stdout",
     "output_type": "stream",
     "text": [
      "100% [............................................................................] 749325 / 749325"
     ]
    }
   ],
   "source": [
    "ThisYearFile = wget.download(File)"
   ]
  },
  {
   "cell_type": "code",
   "execution_count": 4,
   "metadata": {},
   "outputs": [
    {
     "name": "stdout",
     "output_type": "stream",
     "text": [
      "100% [............................................................................] 749421 / 749421"
     ]
    }
   ],
   "source": [
    "LastYear = str(datetime.datetime.now().year - 2)  + '-' + str(datetime.datetime.now().year -1)[2:]\n",
    "File = PreString + LastYear + PostString\n",
    "LastYearFile = wget.download(File)"
   ]
  },
  {
   "cell_type": "code",
   "execution_count": 5,
   "metadata": {
    "collapsed": true
   },
   "outputs": [],
   "source": [
    "zf = zipfile.ZipFile(ThisYearFile) # having First.csv zipped file.\n",
    "WIThYr = pd.read_csv(zf.open('enrollment_certified_' + ThisYear +'.csv'))"
   ]
  },
  {
   "cell_type": "code",
   "execution_count": 6,
   "metadata": {
    "collapsed": true
   },
   "outputs": [],
   "source": [
    "zf = zipfile.ZipFile(LastYearFile) # having First.csv zipped file.\n",
    "WILsYr = pd.read_csv(zf.open('enrollment_certified_' + LastYear + '.csv'))"
   ]
  },
  {
   "cell_type": "code",
   "execution_count": 7,
   "metadata": {},
   "outputs": [
    {
     "data": {
      "text/plain": [
       "Index(['SCHOOL_YEAR', 'AGENCY_TYPE', 'CESA', 'COUNTY', 'DISTRICT_CODE',\n",
       "       'SCHOOL_CODE', 'GRADE_GROUP', 'CHARTER_IND', 'DISTRICT_NAME',\n",
       "       'SCHOOL_NAME', 'GROUP_BY', 'GROUP_BY_VALUE', 'STUDENT_COUNT',\n",
       "       'PERCENT_OF_GROUP'],\n",
       "      dtype='object')"
      ]
     },
     "execution_count": 7,
     "metadata": {},
     "output_type": "execute_result"
    }
   ],
   "source": [
    "WILsYr.columns"
   ]
  },
  {
   "cell_type": "code",
   "execution_count": 8,
   "metadata": {
    "collapsed": true
   },
   "outputs": [],
   "source": [
    "WILsYr = WILsYr[(WILsYr.GROUP_BY == 'Grade Level') & (WILsYr.GRADE_GROUP != '[All]') &\n",
    "((WILsYr.GROUP_BY_VALUE == '11') | (WILsYr.GROUP_BY_VALUE == '12'))]"
   ]
  },
  {
   "cell_type": "code",
   "execution_count": 9,
   "metadata": {
    "collapsed": true
   },
   "outputs": [],
   "source": [
    "WIThYr = WIThYr[(WIThYr.GROUP_BY == 'Grade Level') & (WIThYr.GRADE_GROUP != '[All]') &\n",
    "((WIThYr.GROUP_BY_VALUE == '11') | (WIThYr.GROUP_BY_VALUE == '12'))]"
   ]
  },
  {
   "cell_type": "code",
   "execution_count": 10,
   "metadata": {},
   "outputs": [
    {
     "data": {
      "text/plain": [
       "Index(['SCHOOL_YEAR', 'AGENCY_TYPE', 'CESA', 'COUNTY', 'DISTRICT_CODE',\n",
       "       'SCHOOL_CODE', 'GRADE_GROUP', 'CHARTER_IND', 'DISTRICT_NAME',\n",
       "       'SCHOOL_NAME', 'GROUP_BY', 'GROUP_BY_VALUE', 'STUDENT_COUNT',\n",
       "       'PERCENT_OF_GROUP'],\n",
       "      dtype='object')"
      ]
     },
     "execution_count": 10,
     "metadata": {},
     "output_type": "execute_result"
    }
   ],
   "source": [
    "WILsYr.columns"
   ]
  },
  {
   "cell_type": "code",
   "execution_count": 11,
   "metadata": {},
   "outputs": [
    {
     "data": {
      "text/plain": [
       "203    11\n",
       "204    12\n",
       "Name: GROUP_BY_VALUE, dtype: object"
      ]
     },
     "execution_count": 11,
     "metadata": {},
     "output_type": "execute_result"
    }
   ],
   "source": [
    "WILsYr.GROUP_BY_VALUE.drop_duplicates()"
   ]
  },
  {
   "cell_type": "code",
   "execution_count": 12,
   "metadata": {},
   "outputs": [
    {
     "data": {
      "text/plain": [
       "579"
      ]
     },
     "execution_count": 12,
     "metadata": {},
     "output_type": "execute_result"
    }
   ],
   "source": [
    "len(WILsYr[WILsYr['GROUP_BY_VALUE'] == '12'])"
   ]
  },
  {
   "cell_type": "code",
   "execution_count": 13,
   "metadata": {
    "collapsed": true
   },
   "outputs": [],
   "source": [
    "# Separate grades into different dfs for last year\n",
    "WILsYrSr = WILsYr[WILsYr['GROUP_BY_VALUE'] == '12']\n",
    "WIThYrSr = WIThYr[WIThYr['GROUP_BY_VALUE'] == '12']"
   ]
  },
  {
   "cell_type": "code",
   "execution_count": 14,
   "metadata": {
    "collapsed": true
   },
   "outputs": [],
   "source": [
    "# Separate grades into different dfs for this year\n",
    "WILsYrJr = WILsYr[WILsYr['GROUP_BY_VALUE'] == '11']\n",
    "WIThYrJr = WIThYr[WIThYr['GROUP_BY_VALUE'] == '11']"
   ]
  },
  {
   "cell_type": "code",
   "execution_count": 54,
   "metadata": {
    "collapsed": true
   },
   "outputs": [],
   "source": [
    "columnsThsYr = ['DISTRICT_CODE', 'SCHOOL_CODE', 'SCHOOL_NAME', 'STUDENT_COUNT', 'DISTRICT_NAME']\n",
    "columnsLstYr = ['DISTRICT_CODE', 'SCHOOL_CODE', 'STUDENT_COUNT']"
   ]
  },
  {
   "cell_type": "code",
   "execution_count": 55,
   "metadata": {},
   "outputs": [
    {
     "data": {
      "text/plain": [
       "Index(['SCHOOL_YEAR', 'AGENCY_TYPE', 'CESA', 'COUNTY', 'DISTRICT_CODE',\n",
       "       'SCHOOL_CODE', 'GRADE_GROUP', 'CHARTER_IND', 'DISTRICT_NAME',\n",
       "       'SCHOOL_NAME', 'GROUP_BY', 'GROUP_BY_VALUE', 'STUDENT_COUNT',\n",
       "       'PERCENT_OF_GROUP'],\n",
       "      dtype='object')"
      ]
     },
     "execution_count": 55,
     "metadata": {},
     "output_type": "execute_result"
    }
   ],
   "source": [
    "WIThYrJr.columns"
   ]
  },
  {
   "cell_type": "code",
   "execution_count": 56,
   "metadata": {
    "collapsed": true
   },
   "outputs": [],
   "source": [
    "# Combine Jr and Sr as separate columns instead of rows\n",
    "WIL = pd.merge(WILsYrSr[columnsThsYr], WILsYrJr[columnsLstYr], how = 'inner', on = ['DISTRICT_CODE', 'SCHOOL_CODE'])\n",
    "WIT = (pd.merge(WIThYrSr[columnsThsYr], WIThYrJr[columnsLstYr], how = 'inner', on = ['DISTRICT_CODE', 'SCHOOL_CODE']))"
   ]
  },
  {
   "cell_type": "code",
   "execution_count": 57,
   "metadata": {},
   "outputs": [
    {
     "data": {
      "text/plain": [
       "Index(['DISTRICT_CODE', 'SCHOOL_CODE', 'SCHOOL_NAME', 'STUDENT_COUNT_x',\n",
       "       'DISTRICT_NAME', 'STUDENT_COUNT_y'],\n",
       "      dtype='object')"
      ]
     },
     "execution_count": 57,
     "metadata": {},
     "output_type": "execute_result"
    }
   ],
   "source": [
    "WIL.columns"
   ]
  },
  {
   "cell_type": "code",
   "execution_count": 58,
   "metadata": {
    "collapsed": true
   },
   "outputs": [],
   "source": [
    "WIL = WIL.rename(columns = {'STUDENT_COUNT_x':'Juniors Last Year',\n",
    "                       'STUDENT_COUNT_y': 'Seniors Last Year' })"
   ]
  },
  {
   "cell_type": "code",
   "execution_count": 59,
   "metadata": {
    "collapsed": true
   },
   "outputs": [],
   "source": [
    "WIT = WIT.rename(columns = {'STUDENT_COUNT_x':'Juniors This Year',\n",
    "                       'STUDENT_COUNT_y': 'Seniors This Year' })"
   ]
  },
  {
   "cell_type": "code",
   "execution_count": 60,
   "metadata": {
    "collapsed": true
   },
   "outputs": [],
   "source": [
    "columnsThsYr = ['DISTRICT_CODE', 'SCHOOL_CODE', 'SCHOOL_NAME', 'DISTRICT_NAME', 'Juniors This Year', 'Seniors This Year']\n",
    "columnsLstYr = ['DISTRICT_CODE', 'SCHOOL_CODE',  'Juniors Last Year', 'Seniors Last Year']"
   ]
  },
  {
   "cell_type": "code",
   "execution_count": 61,
   "metadata": {
    "collapsed": true
   },
   "outputs": [],
   "source": [
    "WI = pd.merge(WIL[columnsLstYr], WIT[columnsThsYr], how = 'inner', on = ['DISTRICT_CODE', 'SCHOOL_CODE'])"
   ]
  },
  {
   "cell_type": "code",
   "execution_count": 62,
   "metadata": {
    "collapsed": true
   },
   "outputs": [],
   "source": [
    "#WI['Junior Delta'] "
   ]
  },
  {
   "cell_type": "code",
   "execution_count": 63,
   "metadata": {},
   "outputs": [
    {
     "data": {
      "text/plain": [
       "554"
      ]
     },
     "execution_count": 63,
     "metadata": {},
     "output_type": "execute_result"
    }
   ],
   "source": [
    "len(WI)"
   ]
  },
  {
   "cell_type": "code",
   "execution_count": 25,
   "metadata": {
    "collapsed": true
   },
   "outputs": [],
   "source": [
    "# Set the preferences for the firefox web browser\n",
    "fp = webdriver.FirefoxProfile()\n",
    "fp.set_preference('browser.download.folderList', 2)\n",
    "fp.set_preference('browser.download.manager.showWhenStarting', False)\n",
    "fp.set_preference('browser.download.dir', 'C:\\\\Users\\\\karlk\\\\GitHubRepos\\\\SCSU-Reciprocity-HS-Enrollment\\\\Wisconsin')\n",
    "fp.set_preference(\"http.response.timeout\", 300)\n",
    "fp.set_preference(\"dom.max_script_run_time\", 300)\n",
    "fp.set_preference('webdriver.load.strategy', 'unstable')\n",
    "fp.set_preference('browser.helperApps.neverAsk.saveToDisk', 'text/plain, application/vnd.ms-excel, text/csv, text/comma-separated-values, application/octet-stream, application/vnd.openxmlformats-officedocument.spreadsheetml.sheet')\n",
    "fp.update_preferences()"
   ]
  },
  {
   "cell_type": "code",
   "execution_count": 26,
   "metadata": {
    "collapsed": true
   },
   "outputs": [],
   "source": [
    "# MDE web app for hs enrollment data\n",
    "searchURL = \"https://apps4.dpi.wi.gov/SchoolDirectory/Search/PublicSchoolsSearch\"\n",
    "time.sleep(3)\n",
    "\n",
    "# Launch web browser and navigate to the searchURL\n",
    "driver = webdriver.Firefox(fp)\n",
    "driver.get(searchURL)\n",
    "time.sleep(3)"
   ]
  },
  {
   "cell_type": "code",
   "execution_count": 64,
   "metadata": {
    "scrolled": false
   },
   "outputs": [
    {
     "data": {
      "text/html": [
       "<div>\n",
       "<style>\n",
       "    .dataframe thead tr:only-child th {\n",
       "        text-align: right;\n",
       "    }\n",
       "\n",
       "    .dataframe thead th {\n",
       "        text-align: left;\n",
       "    }\n",
       "\n",
       "    .dataframe tbody tr th {\n",
       "        vertical-align: top;\n",
       "    }\n",
       "</style>\n",
       "<table border=\"1\" class=\"dataframe\">\n",
       "  <thead>\n",
       "    <tr style=\"text-align: right;\">\n",
       "      <th></th>\n",
       "      <th>DISTRICT_CODE</th>\n",
       "      <th>SCHOOL_CODE</th>\n",
       "      <th>Juniors Last Year</th>\n",
       "      <th>Seniors Last Year</th>\n",
       "      <th>SCHOOL_NAME</th>\n",
       "      <th>DISTRICT_NAME</th>\n",
       "      <th>Juniors This Year</th>\n",
       "      <th>Seniors This Year</th>\n",
       "    </tr>\n",
       "  </thead>\n",
       "  <tbody>\n",
       "    <tr>\n",
       "      <th>0</th>\n",
       "      <td>7</td>\n",
       "      <td>40.0</td>\n",
       "      <td>45</td>\n",
       "      <td>52</td>\n",
       "      <td>Abbotsford Middle/Senior High</td>\n",
       "      <td>Abbotsford</td>\n",
       "      <td>49</td>\n",
       "      <td>58</td>\n",
       "    </tr>\n",
       "    <tr>\n",
       "      <th>1</th>\n",
       "      <td>14</td>\n",
       "      <td>40.0</td>\n",
       "      <td>133</td>\n",
       "      <td>103</td>\n",
       "      <td>Adams-Friendship High</td>\n",
       "      <td>Adams-Friendship Area</td>\n",
       "      <td>101</td>\n",
       "      <td>135</td>\n",
       "    </tr>\n",
       "    <tr>\n",
       "      <th>2</th>\n",
       "      <td>63</td>\n",
       "      <td>40.0</td>\n",
       "      <td>28</td>\n",
       "      <td>31</td>\n",
       "      <td>Albany High</td>\n",
       "      <td>Albany</td>\n",
       "      <td>29</td>\n",
       "      <td>24</td>\n",
       "    </tr>\n",
       "    <tr>\n",
       "      <th>3</th>\n",
       "      <td>70</td>\n",
       "      <td>40.0</td>\n",
       "      <td>70</td>\n",
       "      <td>65</td>\n",
       "      <td>Algoma High</td>\n",
       "      <td>Algoma</td>\n",
       "      <td>61</td>\n",
       "      <td>59</td>\n",
       "    </tr>\n",
       "    <tr>\n",
       "      <th>4</th>\n",
       "      <td>84</td>\n",
       "      <td>40.0</td>\n",
       "      <td>16</td>\n",
       "      <td>12</td>\n",
       "      <td>Alma High</td>\n",
       "      <td>Alma</td>\n",
       "      <td>14</td>\n",
       "      <td>21</td>\n",
       "    </tr>\n",
       "  </tbody>\n",
       "</table>\n",
       "</div>"
      ],
      "text/plain": [
       "   DISTRICT_CODE  SCHOOL_CODE Juniors Last Year Seniors Last Year  \\\n",
       "0              7         40.0                45                52   \n",
       "1             14         40.0               133               103   \n",
       "2             63         40.0                28                31   \n",
       "3             70         40.0                70                65   \n",
       "4             84         40.0                16                12   \n",
       "\n",
       "                     SCHOOL_NAME          DISTRICT_NAME Juniors This Year  \\\n",
       "0  Abbotsford Middle/Senior High             Abbotsford                49   \n",
       "1          Adams-Friendship High  Adams-Friendship Area               101   \n",
       "2                    Albany High                 Albany                29   \n",
       "3                    Algoma High                 Algoma                61   \n",
       "4                      Alma High                   Alma                14   \n",
       "\n",
       "  Seniors This Year  \n",
       "0                58  \n",
       "1               135  \n",
       "2                24  \n",
       "3                59  \n",
       "4                21  "
      ]
     },
     "execution_count": 64,
     "metadata": {},
     "output_type": "execute_result"
    }
   ],
   "source": [
    "WI.head()"
   ]
  },
  {
   "cell_type": "code",
   "execution_count": 30,
   "metadata": {
    "collapsed": true,
    "scrolled": true
   },
   "outputs": [],
   "source": [
    "Search = driver.find_element_by_id(\"txtSearch\")\n",
    "searchbutton = driver.find_element_by_xpath(\"//input[@value='Search']\")\n",
    "\n",
    "time.sleep(1)\n",
    "time.sleep(1)\n",
    "ActionChains(driver).move_to_element(searchbutton).click().perform()\n",
    "\n",
    "time.sleep(3)"
   ]
  },
  {
   "cell_type": "code",
   "execution_count": 48,
   "metadata": {
    "collapsed": true
   },
   "outputs": [],
   "source": [
    "pyautogui.moveTo(x=50, y=100)\n",
    "pyautogui.click() \n",
    "time.sleep(1)\n",
    "for i in range(200):\n",
    "    pyautogui.scroll(-100000000) "
   ]
  },
  {
   "cell_type": "code",
   "execution_count": 49,
   "metadata": {
    "collapsed": true
   },
   "outputs": [],
   "source": [
    "downloadbutton = driver.find_element_by_xpath(\"//input[@value='Download']\")\n",
    "ActionChains(driver).move_to_element(downloadbutton).click().perform()"
   ]
  },
  {
   "cell_type": "code",
   "execution_count": 50,
   "metadata": {
    "collapsed": true
   },
   "outputs": [],
   "source": [
    "WILookup = pd.read_csv('Directory.csv')"
   ]
  },
  {
   "cell_type": "code",
   "execution_count": 65,
   "metadata": {},
   "outputs": [
    {
     "data": {
      "text/html": [
       "<div>\n",
       "<style>\n",
       "    .dataframe thead tr:only-child th {\n",
       "        text-align: right;\n",
       "    }\n",
       "\n",
       "    .dataframe thead th {\n",
       "        text-align: left;\n",
       "    }\n",
       "\n",
       "    .dataframe tbody tr th {\n",
       "        vertical-align: top;\n",
       "    }\n",
       "</style>\n",
       "<table border=\"1\" class=\"dataframe\">\n",
       "  <thead>\n",
       "    <tr style=\"text-align: right;\">\n",
       "      <th></th>\n",
       "      <th>Public School Name</th>\n",
       "      <th>District Name</th>\n",
       "      <th>LEA Code</th>\n",
       "      <th>CESA</th>\n",
       "      <th>School Code</th>\n",
       "      <th>School Type</th>\n",
       "      <th>Low Grade</th>\n",
       "      <th>High Grade</th>\n",
       "      <th>Contact</th>\n",
       "      <th>Contact Title</th>\n",
       "      <th>...</th>\n",
       "      <th>Extension</th>\n",
       "      <th>Fax</th>\n",
       "      <th>Email</th>\n",
       "      <th>Website</th>\n",
       "      <th>School Category</th>\n",
       "      <th>Charter</th>\n",
       "      <th>Virtual</th>\n",
       "      <th>District NCES</th>\n",
       "      <th>School NCES</th>\n",
       "      <th>Agency Type Description</th>\n",
       "    </tr>\n",
       "  </thead>\n",
       "  <tbody>\n",
       "    <tr>\n",
       "      <th>0</th>\n",
       "      <td>21st Century eSchool</td>\n",
       "      <td>Middleton-Cross Plains Area</td>\n",
       "      <td>3549</td>\n",
       "      <td>2</td>\n",
       "      <td>800</td>\n",
       "      <td>Combined Elementary/Secondary School</td>\n",
       "      <td>KG</td>\n",
       "      <td>12</td>\n",
       "      <td>Jill  Gurtner</td>\n",
       "      <td>Principal</td>\n",
       "      <td>...</td>\n",
       "      <td>NaN</td>\n",
       "      <td>6.088315e+09</td>\n",
       "      <td>jgurtner@mcpasd.k12.wi.us</td>\n",
       "      <td>www.mcpasd.k12.wi.us</td>\n",
       "      <td>Regular</td>\n",
       "      <td>Charter</td>\n",
       "      <td>Exclusively Virtual</td>\n",
       "      <td>5509510.0</td>\n",
       "      <td>2818.0</td>\n",
       "      <td>Public school</td>\n",
       "    </tr>\n",
       "    <tr>\n",
       "      <th>1</th>\n",
       "      <td>21st Century Prep Sch</td>\n",
       "      <td>21st Century Prep Sch</td>\n",
       "      <td>8110</td>\n",
       "      <td>1</td>\n",
       "      <td>100</td>\n",
       "      <td>Elementary School</td>\n",
       "      <td>K4</td>\n",
       "      <td>08</td>\n",
       "      <td>Valencia  Koker</td>\n",
       "      <td>Executive Director</td>\n",
       "      <td>...</td>\n",
       "      <td>1170.0</td>\n",
       "      <td>2.625980e+09</td>\n",
       "      <td>vkoker@tcpswi.org</td>\n",
       "      <td>www.21stprepschool.org</td>\n",
       "      <td>Regular</td>\n",
       "      <td>Charter</td>\n",
       "      <td>Primarily Classroom (Supplemental Virtual)</td>\n",
       "      <td>5500045.0</td>\n",
       "      <td>2575.0</td>\n",
       "      <td>Non District Charter Schools</td>\n",
       "    </tr>\n",
       "    <tr>\n",
       "      <th>2</th>\n",
       "      <td>4K Center for Literacy</td>\n",
       "      <td>Kimberly Area</td>\n",
       "      <td>2835</td>\n",
       "      <td>6</td>\n",
       "      <td>150</td>\n",
       "      <td>Elementary School</td>\n",
       "      <td>K4</td>\n",
       "      <td>PK</td>\n",
       "      <td>Sean  Fitzgerald</td>\n",
       "      <td>Principal</td>\n",
       "      <td>...</td>\n",
       "      <td>NaN</td>\n",
       "      <td>9.204234e+09</td>\n",
       "      <td>kasd@kimberly.k12.wi.us</td>\n",
       "      <td>www.kimberly.k12.wi.us</td>\n",
       "      <td>Regular</td>\n",
       "      <td>No</td>\n",
       "      <td>Primarily Classroom (Supplemental Virtual)</td>\n",
       "      <td>5507470.0</td>\n",
       "      <td>3029.0</td>\n",
       "      <td>Public school</td>\n",
       "    </tr>\n",
       "    <tr>\n",
       "      <th>3</th>\n",
       "      <td>4K Community Sch</td>\n",
       "      <td>Burlington Area</td>\n",
       "      <td>777</td>\n",
       "      <td>2</td>\n",
       "      <td>150</td>\n",
       "      <td>Elementary School</td>\n",
       "      <td>K4</td>\n",
       "      <td>K4</td>\n",
       "      <td>Connie  Zinnen</td>\n",
       "      <td>Assistant Superintendent of Instruction</td>\n",
       "      <td>...</td>\n",
       "      <td>NaN</td>\n",
       "      <td>2.627630e+09</td>\n",
       "      <td>czinnen@basd.k12.wi.us</td>\n",
       "      <td>www.basd.k12.wi.us</td>\n",
       "      <td>Regular</td>\n",
       "      <td>No</td>\n",
       "      <td>No</td>\n",
       "      <td>5501890.0</td>\n",
       "      <td>2987.0</td>\n",
       "      <td>Public school</td>\n",
       "    </tr>\n",
       "    <tr>\n",
       "      <th>4</th>\n",
       "      <td>4K Community-Based</td>\n",
       "      <td>Reedsburg</td>\n",
       "      <td>4753</td>\n",
       "      <td>5</td>\n",
       "      <td>150</td>\n",
       "      <td>Elementary School</td>\n",
       "      <td>K4</td>\n",
       "      <td>K4</td>\n",
       "      <td>Paul  Bierman</td>\n",
       "      <td>Principal</td>\n",
       "      <td>...</td>\n",
       "      <td>2028.0</td>\n",
       "      <td>6.087689e+09</td>\n",
       "      <td>pbierman@rsd.k12.wi.us</td>\n",
       "      <td>www.rsd.k12.wi.us</td>\n",
       "      <td>Regular</td>\n",
       "      <td>No</td>\n",
       "      <td>Primarily Classroom (Supplemental Virtual)</td>\n",
       "      <td>5512660.0</td>\n",
       "      <td>2889.0</td>\n",
       "      <td>Public school</td>\n",
       "    </tr>\n",
       "  </tbody>\n",
       "</table>\n",
       "<p>5 rows × 30 columns</p>\n",
       "</div>"
      ],
      "text/plain": [
       "       Public School Name                District Name  LEA Code  CESA  \\\n",
       "0    21st Century eSchool  Middleton-Cross Plains Area      3549     2   \n",
       "1   21st Century Prep Sch        21st Century Prep Sch      8110     1   \n",
       "2  4K Center for Literacy                Kimberly Area      2835     6   \n",
       "3        4K Community Sch              Burlington Area       777     2   \n",
       "4      4K Community-Based                    Reedsburg      4753     5   \n",
       "\n",
       "   School Code                           School Type Low Grade High Grade  \\\n",
       "0          800  Combined Elementary/Secondary School        KG         12   \n",
       "1          100                     Elementary School        K4         08   \n",
       "2          150                     Elementary School        K4         PK   \n",
       "3          150                     Elementary School        K4         K4   \n",
       "4          150                     Elementary School        K4         K4   \n",
       "\n",
       "            Contact                            Contact Title  \\\n",
       "0     Jill  Gurtner                                Principal   \n",
       "1   Valencia  Koker                       Executive Director   \n",
       "2  Sean  Fitzgerald                                Principal   \n",
       "3    Connie  Zinnen  Assistant Superintendent of Instruction   \n",
       "4     Paul  Bierman                                Principal   \n",
       "\n",
       "               ...              Extension           Fax  \\\n",
       "0              ...                    NaN  6.088315e+09   \n",
       "1              ...                 1170.0  2.625980e+09   \n",
       "2              ...                    NaN  9.204234e+09   \n",
       "3              ...                    NaN  2.627630e+09   \n",
       "4              ...                 2028.0  6.087689e+09   \n",
       "\n",
       "                       Email                 Website  School Category  \\\n",
       "0  jgurtner@mcpasd.k12.wi.us    www.mcpasd.k12.wi.us          Regular   \n",
       "1          vkoker@tcpswi.org  www.21stprepschool.org          Regular   \n",
       "2    kasd@kimberly.k12.wi.us  www.kimberly.k12.wi.us          Regular   \n",
       "3     czinnen@basd.k12.wi.us      www.basd.k12.wi.us          Regular   \n",
       "4     pbierman@rsd.k12.wi.us       www.rsd.k12.wi.us          Regular   \n",
       "\n",
       "   Charter                                     Virtual  District NCES  \\\n",
       "0  Charter                         Exclusively Virtual      5509510.0   \n",
       "1  Charter  Primarily Classroom (Supplemental Virtual)      5500045.0   \n",
       "2       No  Primarily Classroom (Supplemental Virtual)      5507470.0   \n",
       "3       No                                          No      5501890.0   \n",
       "4       No  Primarily Classroom (Supplemental Virtual)      5512660.0   \n",
       "\n",
       "  School NCES       Agency Type Description  \n",
       "0      2818.0                 Public school  \n",
       "1      2575.0  Non District Charter Schools  \n",
       "2      3029.0                 Public school  \n",
       "3      2987.0                 Public school  \n",
       "4      2889.0                 Public school  \n",
       "\n",
       "[5 rows x 30 columns]"
      ]
     },
     "execution_count": 65,
     "metadata": {},
     "output_type": "execute_result"
    }
   ],
   "source": [
    "WILookup.head()"
   ]
  },
  {
   "cell_type": "code",
   "execution_count": 52,
   "metadata": {},
   "outputs": [
    {
     "data": {
      "text/plain": [
       "Index(['Public School Name', 'District Name', 'LEA Code', 'CESA',\n",
       "       'School Code', 'School Type', 'Low Grade', 'High Grade', 'Contact',\n",
       "       'Contact Title', 'Physical Address', 'Mailing Address', 'Mailing City',\n",
       "       'Mailing Zip', 'Mailing Zip + 4', 'Shipping Address', 'Physical City',\n",
       "       'County Code', 'County Name', 'Phone', 'Extension', 'Fax', 'Email',\n",
       "       'Website', 'School Category', 'Charter', 'Virtual', 'District NCES',\n",
       "       'School NCES', 'Agency Type Description'],\n",
       "      dtype='object')"
      ]
     },
     "execution_count": 52,
     "metadata": {},
     "output_type": "execute_result"
    }
   ],
   "source": [
    "WILookup.columns"
   ]
  },
  {
   "cell_type": "code",
   "execution_count": 66,
   "metadata": {},
   "outputs": [
    {
     "data": {
      "text/plain": [
       "Index(['DISTRICT_CODE', 'SCHOOL_CODE', 'Juniors Last Year',\n",
       "       'Seniors Last Year', 'SCHOOL_NAME', 'DISTRICT_NAME',\n",
       "       'Juniors This Year', 'Seniors This Year'],\n",
       "      dtype='object')"
      ]
     },
     "execution_count": 66,
     "metadata": {},
     "output_type": "execute_result"
    }
   ],
   "source": [
    "WI.columns"
   ]
  },
  {
   "cell_type": "code",
   "execution_count": 69,
   "metadata": {
    "collapsed": true
   },
   "outputs": [],
   "source": [
    "Full = pd.merge(WI, WILookup, how = 'inner', left_on = ['DISTRICT_NAME', 'SCHOOL_CODE']\n",
    "        , right_on = ['District Name', 'School Code'])"
   ]
  },
  {
   "cell_type": "code",
   "execution_count": 70,
   "metadata": {},
   "outputs": [
    {
     "data": {
      "text/plain": [
       "549"
      ]
     },
     "execution_count": 70,
     "metadata": {},
     "output_type": "execute_result"
    }
   ],
   "source": [
    "len(Full)"
   ]
  },
  {
   "cell_type": "code",
   "execution_count": 71,
   "metadata": {
    "collapsed": true
   },
   "outputs": [],
   "source": [
    "Full.to_csv('FullWI.csv', index = False)"
   ]
  },
  {
   "cell_type": "code",
   "execution_count": null,
   "metadata": {
    "collapsed": true
   },
   "outputs": [],
   "source": []
  }
 ],
 "metadata": {
  "kernelspec": {
   "display_name": "Python 3",
   "language": "python",
   "name": "python3"
  },
  "language_info": {
   "codemirror_mode": {
    "name": "ipython",
    "version": 3
   },
   "file_extension": ".py",
   "mimetype": "text/x-python",
   "name": "python",
   "nbconvert_exporter": "python",
   "pygments_lexer": "ipython3",
   "version": "3.6.1"
  }
 },
 "nbformat": 4,
 "nbformat_minor": 2
}
