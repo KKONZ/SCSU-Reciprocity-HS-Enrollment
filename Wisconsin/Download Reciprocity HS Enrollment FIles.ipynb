{
 "cells": [
  {
   "cell_type": "markdown",
   "metadata": {
    "collapsed": true
   },
   "source": [
    "# Wisconsin"
   ]
  },
  {
   "cell_type": "code",
   "execution_count": 78,
   "metadata": {},
   "outputs": [],
   "source": [
    "import datetime\n",
    "import time\n",
    "import wget\n",
    "import numpy as np\n",
    "import pandas as pd\n",
    "from selenium import webdriver\n",
    "from selenium.webdriver.common.by import By\n",
    "import zipfile\n",
    "from geopy.geocoders import Nominatim\n",
    "from selenium.webdriver.common.action_chains import ActionChains\n",
    "from selenium.webdriver.common.keys import Keys"
   ]
  },
  {
   "cell_type": "code",
   "execution_count": 2,
   "metadata": {},
   "outputs": [
    {
     "data": {
      "text/plain": [
       "'https://dpi.wi.gov/sites/default/files/wise/downloads/enrollment_certified_2017-18.zip'"
      ]
     },
     "execution_count": 2,
     "metadata": {},
     "output_type": "execute_result"
    }
   ],
   "source": [
    "ThisYear = str(datetime.datetime.now().year - 1)  + '-' + str(datetime.datetime.now().year)[2:]\n",
    "PreString = 'https://dpi.wi.gov/sites/default/files/wise/downloads/enrollment_certified_'\n",
    "PostString = '.zip'\n",
    "File = PreString + ThisYear + PostString\n",
    "File"
   ]
  },
  {
   "cell_type": "code",
   "execution_count": 3,
   "metadata": {},
   "outputs": [
    {
     "name": "stdout",
     "output_type": "stream",
     "text": [
      "100% [............................................................................] 749325 / 749325"
     ]
    }
   ],
   "source": [
    "ThisYearFile = wget.download(File)"
   ]
  },
  {
   "cell_type": "code",
   "execution_count": 4,
   "metadata": {},
   "outputs": [
    {
     "name": "stdout",
     "output_type": "stream",
     "text": [
      "100% [............................................................................] 749421 / 749421"
     ]
    }
   ],
   "source": [
    "LastYear = str(datetime.datetime.now().year - 2)  + '-' + str(datetime.datetime.now().year -1)[2:]\n",
    "File = PreString + LastYear + PostString\n",
    "LastYearFile = wget.download(File)"
   ]
  },
  {
   "cell_type": "code",
   "execution_count": 5,
   "metadata": {
    "collapsed": true
   },
   "outputs": [],
   "source": [
    "zf = zipfile.ZipFile(ThisYearFile) # having First.csv zipped file.\n",
    "WIThYr = pd.read_csv(zf.open('enrollment_certified_' + ThisYear +'.csv'))"
   ]
  },
  {
   "cell_type": "code",
   "execution_count": 6,
   "metadata": {
    "collapsed": true
   },
   "outputs": [],
   "source": [
    "zf = zipfile.ZipFile(LastYearFile) # having First.csv zipped file.\n",
    "WILsYr = pd.read_csv(zf.open('enrollment_certified_' + LastYear + '.csv'))"
   ]
  },
  {
   "cell_type": "code",
   "execution_count": 7,
   "metadata": {},
   "outputs": [
    {
     "data": {
      "text/plain": [
       "Index(['SCHOOL_YEAR', 'AGENCY_TYPE', 'CESA', 'COUNTY', 'DISTRICT_CODE',\n",
       "       'SCHOOL_CODE', 'GRADE_GROUP', 'CHARTER_IND', 'DISTRICT_NAME',\n",
       "       'SCHOOL_NAME', 'GROUP_BY', 'GROUP_BY_VALUE', 'STUDENT_COUNT',\n",
       "       'PERCENT_OF_GROUP'],\n",
       "      dtype='object')"
      ]
     },
     "execution_count": 7,
     "metadata": {},
     "output_type": "execute_result"
    }
   ],
   "source": [
    "WILsYr.columns"
   ]
  },
  {
   "cell_type": "code",
   "execution_count": 8,
   "metadata": {
    "collapsed": true
   },
   "outputs": [],
   "source": [
    "WILsYr = WILsYr[(WILsYr.GROUP_BY == 'Grade Level') & (WILsYr.GRADE_GROUP != '[All]') &\n",
    "((WILsYr.GROUP_BY_VALUE == '11') | (WILsYr.GROUP_BY_VALUE == '12'))]"
   ]
  },
  {
   "cell_type": "code",
   "execution_count": 9,
   "metadata": {
    "collapsed": true
   },
   "outputs": [],
   "source": [
    "WIThYr = WIThYr[(WIThYr.GROUP_BY == 'Grade Level') & (WIThYr.GRADE_GROUP != '[All]') &\n",
    "((WIThYr.GROUP_BY_VALUE == '11') | (WIThYr.GROUP_BY_VALUE == '12'))]"
   ]
  },
  {
   "cell_type": "code",
   "execution_count": 10,
   "metadata": {},
   "outputs": [
    {
     "data": {
      "text/plain": [
       "Index(['SCHOOL_YEAR', 'AGENCY_TYPE', 'CESA', 'COUNTY', 'DISTRICT_CODE',\n",
       "       'SCHOOL_CODE', 'GRADE_GROUP', 'CHARTER_IND', 'DISTRICT_NAME',\n",
       "       'SCHOOL_NAME', 'GROUP_BY', 'GROUP_BY_VALUE', 'STUDENT_COUNT',\n",
       "       'PERCENT_OF_GROUP'],\n",
       "      dtype='object')"
      ]
     },
     "execution_count": 10,
     "metadata": {},
     "output_type": "execute_result"
    }
   ],
   "source": [
    "WILsYr.columns"
   ]
  },
  {
   "cell_type": "code",
   "execution_count": 11,
   "metadata": {},
   "outputs": [
    {
     "data": {
      "text/plain": [
       "203    11\n",
       "204    12\n",
       "Name: GROUP_BY_VALUE, dtype: object"
      ]
     },
     "execution_count": 11,
     "metadata": {},
     "output_type": "execute_result"
    }
   ],
   "source": [
    "WILsYr.GROUP_BY_VALUE.drop_duplicates()"
   ]
  },
  {
   "cell_type": "code",
   "execution_count": 12,
   "metadata": {},
   "outputs": [
    {
     "data": {
      "text/plain": [
       "579"
      ]
     },
     "execution_count": 12,
     "metadata": {},
     "output_type": "execute_result"
    }
   ],
   "source": [
    "len(WILsYr[WILsYr['GROUP_BY_VALUE'] == '12'])"
   ]
  },
  {
   "cell_type": "code",
   "execution_count": 13,
   "metadata": {
    "collapsed": true
   },
   "outputs": [],
   "source": [
    "# Separate grades into different dfs for last year\n",
    "WILsYrSr = WILsYr[WILsYr['GROUP_BY_VALUE'] == '12']\n",
    "WIThYrSr = WIThYr[WIThYr['GROUP_BY_VALUE'] == '12']"
   ]
  },
  {
   "cell_type": "code",
   "execution_count": 14,
   "metadata": {
    "collapsed": true
   },
   "outputs": [],
   "source": [
    "# Separate grades into different dfs for this year\n",
    "WILsYrJr = WILsYr[WILsYr['GROUP_BY_VALUE'] == '11']\n",
    "WIThYrJr = WIThYr[WIThYr['GROUP_BY_VALUE'] == '11']\n"
   ]
  },
  {
   "cell_type": "code",
   "execution_count": 15,
   "metadata": {
    "collapsed": true
   },
   "outputs": [],
   "source": [
    "# Combine Jr and Sr as separate columns instead of rows\n",
    "WIL = (pd.merge(WILsYrSr, WILsYrJr, how = 'inner', on = ['DISTRICT_CODE', 'SCHOOL_CODE']))\n",
    "WIT = (pd.merge(WIThYrSr, WIThYrJr, how = 'inner', on = ['DISTRICT_CODE', 'SCHOOL_CODE']))"
   ]
  },
  {
   "cell_type": "code",
   "execution_count": 16,
   "metadata": {
    "collapsed": true
   },
   "outputs": [],
   "source": [
    "WIL = WIL.rename(columns = {'STUDENT_COUNT_x':'Juniors Last Year',\n",
    "                       'STUDENT_COUNT_y': 'Seniors Last Year' })"
   ]
  },
  {
   "cell_type": "code",
   "execution_count": 17,
   "metadata": {
    "collapsed": true
   },
   "outputs": [],
   "source": [
    "WIT = WIT.rename(columns = {'STUDENT_COUNT_x':'Juniors This Year',\n",
    "                       'STUDENT_COUNT_y': 'Seniors This Year' })"
   ]
  },
  {
   "cell_type": "code",
   "execution_count": 18,
   "metadata": {
    "collapsed": true
   },
   "outputs": [],
   "source": [
    "WI = pd.merge(WIL, WIT, how = 'inner', on = ['DISTRICT_CODE', 'SCHOOL_CODE'])"
   ]
  },
  {
   "cell_type": "code",
   "execution_count": 19,
   "metadata": {
    "collapsed": true
   },
   "outputs": [],
   "source": [
    "#WI['Junior Delta'] "
   ]
  },
  {
   "cell_type": "code",
   "execution_count": 23,
   "metadata": {},
   "outputs": [
    {
     "data": {
      "text/plain": [
       "554"
      ]
     },
     "execution_count": 23,
     "metadata": {},
     "output_type": "execute_result"
    }
   ],
   "source": [
    "len(WI)"
   ]
  },
  {
   "cell_type": "code",
   "execution_count": 21,
   "metadata": {
    "collapsed": true
   },
   "outputs": [],
   "source": [
    "# Set the preferences for the firefox web browser\n",
    "fp = webdriver.FirefoxProfile()\n",
    "fp.set_preference('browser.download.folderList', 2)\n",
    "fp.set_preference('browser.download.manager.showWhenStarting', False)\n",
    "fp.set_preference('browser.download.dir', '/tmp')\n",
    "fp.set_preference(\"http.response.timeout\", 300)\n",
    "fp.set_preference(\"dom.max_script_run_time\", 300)\n",
    "fp.set_preference('webdriver.load.strategy', 'unstable')\n",
    "fp.set_preference('browser.helperApps.neverAsk.saveToDisk', 'text/plain, application/vnd.ms-excel, text/csv, text/comma-separated-values, application/octet-stream, application/vnd.openxmlformats-officedocument.spreadsheetml.sheet')\n",
    "fp.update_preferences()"
   ]
  },
  {
   "cell_type": "code",
   "execution_count": 22,
   "metadata": {
    "collapsed": true
   },
   "outputs": [],
   "source": [
    "# MDE web app for hs enrollment data\n",
    "searchURL = \"https://apps4.dpi.wi.gov/SchoolDirectory/Search/PublicSchoolsSearch\"\n",
    "time.sleep(3)\n",
    "\n",
    "# Launch web browser and navigate to the searchURL\n",
    "driver = webdriver.Firefox(fp)\n",
    "driver.get(searchURL)\n",
    "time.sleep(3)"
   ]
  },
  {
   "cell_type": "code",
   "execution_count": 26,
   "metadata": {
    "scrolled": false
   },
   "outputs": [
    {
     "data": {
      "text/html": [
       "<div>\n",
       "<style>\n",
       "    .dataframe thead tr:only-child th {\n",
       "        text-align: right;\n",
       "    }\n",
       "\n",
       "    .dataframe thead th {\n",
       "        text-align: left;\n",
       "    }\n",
       "\n",
       "    .dataframe tbody tr th {\n",
       "        vertical-align: top;\n",
       "    }\n",
       "</style>\n",
       "<table border=\"1\" class=\"dataframe\">\n",
       "  <thead>\n",
       "    <tr style=\"text-align: right;\">\n",
       "      <th></th>\n",
       "      <th>SCHOOL_YEAR_x_x</th>\n",
       "      <th>AGENCY_TYPE_x_x</th>\n",
       "      <th>CESA_x_x</th>\n",
       "      <th>COUNTY_x_x</th>\n",
       "      <th>DISTRICT_CODE</th>\n",
       "      <th>SCHOOL_CODE</th>\n",
       "      <th>GRADE_GROUP_x_x</th>\n",
       "      <th>CHARTER_IND_x_x</th>\n",
       "      <th>DISTRICT_NAME_x_x</th>\n",
       "      <th>SCHOOL_NAME_x_x</th>\n",
       "      <th>...</th>\n",
       "      <th>CESA_y_y</th>\n",
       "      <th>COUNTY_y_y</th>\n",
       "      <th>GRADE_GROUP_y_y</th>\n",
       "      <th>CHARTER_IND_y_y</th>\n",
       "      <th>DISTRICT_NAME_y_y</th>\n",
       "      <th>SCHOOL_NAME_y_y</th>\n",
       "      <th>GROUP_BY_y_y</th>\n",
       "      <th>GROUP_BY_VALUE_y_y</th>\n",
       "      <th>Seniors This Year</th>\n",
       "      <th>PERCENT_OF_GROUP_y_y</th>\n",
       "    </tr>\n",
       "  </thead>\n",
       "  <tbody>\n",
       "    <tr>\n",
       "      <th>0</th>\n",
       "      <td>2016-17</td>\n",
       "      <td>Public school</td>\n",
       "      <td>10.0</td>\n",
       "      <td>Clark</td>\n",
       "      <td>7</td>\n",
       "      <td>40.0</td>\n",
       "      <td>High School</td>\n",
       "      <td>No</td>\n",
       "      <td>Abbotsford</td>\n",
       "      <td>Abbotsford Middle/Senior High</td>\n",
       "      <td>...</td>\n",
       "      <td>10.0</td>\n",
       "      <td>Clark</td>\n",
       "      <td>High School</td>\n",
       "      <td>No</td>\n",
       "      <td>Abbotsford</td>\n",
       "      <td>Abbotsford Middle/Senior High</td>\n",
       "      <td>Grade Level</td>\n",
       "      <td>11</td>\n",
       "      <td>58</td>\n",
       "      <td>15.68</td>\n",
       "    </tr>\n",
       "    <tr>\n",
       "      <th>1</th>\n",
       "      <td>2016-17</td>\n",
       "      <td>Public school</td>\n",
       "      <td>5.0</td>\n",
       "      <td>Adams</td>\n",
       "      <td>14</td>\n",
       "      <td>40.0</td>\n",
       "      <td>High School</td>\n",
       "      <td>No</td>\n",
       "      <td>Adams-Friendship Area</td>\n",
       "      <td>Adams-Friendship High</td>\n",
       "      <td>...</td>\n",
       "      <td>5.0</td>\n",
       "      <td>Adams</td>\n",
       "      <td>High School</td>\n",
       "      <td>No</td>\n",
       "      <td>Adams-Friendship Area</td>\n",
       "      <td>Adams-Friendship High</td>\n",
       "      <td>Grade Level</td>\n",
       "      <td>11</td>\n",
       "      <td>135</td>\n",
       "      <td>29.03</td>\n",
       "    </tr>\n",
       "    <tr>\n",
       "      <th>2</th>\n",
       "      <td>2016-17</td>\n",
       "      <td>Public school</td>\n",
       "      <td>2.0</td>\n",
       "      <td>Green</td>\n",
       "      <td>63</td>\n",
       "      <td>40.0</td>\n",
       "      <td>High School</td>\n",
       "      <td>No</td>\n",
       "      <td>Albany</td>\n",
       "      <td>Albany High</td>\n",
       "      <td>...</td>\n",
       "      <td>2.0</td>\n",
       "      <td>Green</td>\n",
       "      <td>High School</td>\n",
       "      <td>No</td>\n",
       "      <td>Albany</td>\n",
       "      <td>Albany High</td>\n",
       "      <td>Grade Level</td>\n",
       "      <td>11</td>\n",
       "      <td>24</td>\n",
       "      <td>25.00</td>\n",
       "    </tr>\n",
       "    <tr>\n",
       "      <th>3</th>\n",
       "      <td>2016-17</td>\n",
       "      <td>Public school</td>\n",
       "      <td>7.0</td>\n",
       "      <td>Kewaunee</td>\n",
       "      <td>70</td>\n",
       "      <td>40.0</td>\n",
       "      <td>High School</td>\n",
       "      <td>No</td>\n",
       "      <td>Algoma</td>\n",
       "      <td>Algoma High</td>\n",
       "      <td>...</td>\n",
       "      <td>7.0</td>\n",
       "      <td>Kewaunee</td>\n",
       "      <td>High School</td>\n",
       "      <td>No</td>\n",
       "      <td>Algoma</td>\n",
       "      <td>Algoma High</td>\n",
       "      <td>Grade Level</td>\n",
       "      <td>11</td>\n",
       "      <td>59</td>\n",
       "      <td>18.15</td>\n",
       "    </tr>\n",
       "    <tr>\n",
       "      <th>4</th>\n",
       "      <td>2016-17</td>\n",
       "      <td>Public school</td>\n",
       "      <td>4.0</td>\n",
       "      <td>Buffalo</td>\n",
       "      <td>84</td>\n",
       "      <td>40.0</td>\n",
       "      <td>High School</td>\n",
       "      <td>No</td>\n",
       "      <td>Alma</td>\n",
       "      <td>Alma High</td>\n",
       "      <td>...</td>\n",
       "      <td>4.0</td>\n",
       "      <td>Buffalo</td>\n",
       "      <td>High School</td>\n",
       "      <td>No</td>\n",
       "      <td>Alma</td>\n",
       "      <td>Alma High</td>\n",
       "      <td>Grade Level</td>\n",
       "      <td>11</td>\n",
       "      <td>21</td>\n",
       "      <td>30.00</td>\n",
       "    </tr>\n",
       "  </tbody>\n",
       "</table>\n",
       "<p>5 rows × 50 columns</p>\n",
       "</div>"
      ],
      "text/plain": [
       "  SCHOOL_YEAR_x_x AGENCY_TYPE_x_x  CESA_x_x COUNTY_x_x  DISTRICT_CODE  \\\n",
       "0         2016-17   Public school      10.0      Clark              7   \n",
       "1         2016-17   Public school       5.0      Adams             14   \n",
       "2         2016-17   Public school       2.0      Green             63   \n",
       "3         2016-17   Public school       7.0   Kewaunee             70   \n",
       "4         2016-17   Public school       4.0    Buffalo             84   \n",
       "\n",
       "   SCHOOL_CODE GRADE_GROUP_x_x CHARTER_IND_x_x      DISTRICT_NAME_x_x  \\\n",
       "0         40.0     High School              No             Abbotsford   \n",
       "1         40.0     High School              No  Adams-Friendship Area   \n",
       "2         40.0     High School              No                 Albany   \n",
       "3         40.0     High School              No                 Algoma   \n",
       "4         40.0     High School              No                   Alma   \n",
       "\n",
       "                 SCHOOL_NAME_x_x         ...          CESA_y_y COUNTY_y_y  \\\n",
       "0  Abbotsford Middle/Senior High         ...              10.0      Clark   \n",
       "1          Adams-Friendship High         ...               5.0      Adams   \n",
       "2                    Albany High         ...               2.0      Green   \n",
       "3                    Algoma High         ...               7.0   Kewaunee   \n",
       "4                      Alma High         ...               4.0    Buffalo   \n",
       "\n",
       "  GRADE_GROUP_y_y CHARTER_IND_y_y      DISTRICT_NAME_y_y  \\\n",
       "0     High School              No             Abbotsford   \n",
       "1     High School              No  Adams-Friendship Area   \n",
       "2     High School              No                 Albany   \n",
       "3     High School              No                 Algoma   \n",
       "4     High School              No                   Alma   \n",
       "\n",
       "                 SCHOOL_NAME_y_y  GROUP_BY_y_y GROUP_BY_VALUE_y_y  \\\n",
       "0  Abbotsford Middle/Senior High   Grade Level                 11   \n",
       "1          Adams-Friendship High   Grade Level                 11   \n",
       "2                    Albany High   Grade Level                 11   \n",
       "3                    Algoma High   Grade Level                 11   \n",
       "4                      Alma High   Grade Level                 11   \n",
       "\n",
       "  Seniors This Year PERCENT_OF_GROUP_y_y  \n",
       "0                58                15.68  \n",
       "1               135                29.03  \n",
       "2                24                25.00  \n",
       "3                59                18.15  \n",
       "4                21                30.00  \n",
       "\n",
       "[5 rows x 50 columns]"
      ]
     },
     "execution_count": 26,
     "metadata": {},
     "output_type": "execute_result"
    }
   ],
   "source": [
    "WI.head()"
   ]
  },
  {
   "cell_type": "code",
   "execution_count": null,
   "metadata": {
    "collapsed": true
   },
   "outputs": [],
   "source": []
  },
  {
   "cell_type": "code",
   "execution_count": 84,
   "metadata": {
    "scrolled": true
   },
   "outputs": [],
   "source": [
    "Search = driver.find_element_by_id(\"txtSearch\")\n",
    "Search.send_keys(\"Abbotsford Middle/Senior High\")\n",
    "button = driver.find_element_by_xpath(\"//input[@value='Search']\")\n",
    "\n",
    "time.sleep(1)\n",
    "time.sleep(1)\n",
    "ActionChains(driver).move_to_element(button).click().perform()\n",
    "time.sleep(1)\n"
   ]
  },
  {
   "cell_type": "code",
   "execution_count": null,
   "metadata": {
    "collapsed": true
   },
   "outputs": [],
   "source": []
  }
 ],
 "metadata": {
  "kernelspec": {
   "display_name": "Python 3",
   "language": "python",
   "name": "python3"
  },
  "language_info": {
   "codemirror_mode": {
    "name": "ipython",
    "version": 3
   },
   "file_extension": ".py",
   "mimetype": "text/x-python",
   "name": "python",
   "nbconvert_exporter": "python",
   "pygments_lexer": "ipython3",
   "version": "3.6.1"
  }
 },
 "nbformat": 4,
 "nbformat_minor": 2
}
