{
 "cells": [
  {
   "cell_type": "markdown",
   "metadata": {
    "collapsed": true
   },
   "source": [
    "# Wisconsin"
   ]
  },
  {
   "cell_type": "code",
   "execution_count": 4,
   "metadata": {
    "collapsed": true
   },
   "outputs": [],
   "source": [
    "import datetime\n",
    "import time\n",
    "import wget\n",
    "import numpy as np\n",
    "import pandas as pd\n",
    "from selenium import webdriver\n",
    "from selenium.webdriver.common.by import By\n",
    "import zipfile\n",
    "from geopy.geocoders import Nominatim"
   ]
  },
  {
   "cell_type": "code",
   "execution_count": 5,
   "metadata": {},
   "outputs": [
    {
     "data": {
      "text/plain": [
       "'https://dpi.wi.gov/sites/default/files/wise/downloads/enrollment_certified_2017-18.zip'"
      ]
     },
     "execution_count": 5,
     "metadata": {},
     "output_type": "execute_result"
    }
   ],
   "source": [
    "ThisYear = str(datetime.datetime.now().year - 1)  + '-' + str(datetime.datetime.now().year)[2:]\n",
    "PreString = 'https://dpi.wi.gov/sites/default/files/wise/downloads/enrollment_certified_'\n",
    "PostString = '.zip'\n",
    "File = PreString + ThisYear + PostString\n",
    "File"
   ]
  },
  {
   "cell_type": "code",
   "execution_count": 6,
   "metadata": {},
   "outputs": [
    {
     "name": "stdout",
     "output_type": "stream",
     "text": [
      "100% [............................................................................] 749325 / 749325"
     ]
    }
   ],
   "source": [
    "ThisYearFile = wget.download(File)"
   ]
  },
  {
   "cell_type": "code",
   "execution_count": 7,
   "metadata": {},
   "outputs": [
    {
     "name": "stdout",
     "output_type": "stream",
     "text": [
      "100% [............................................................................] 749421 / 749421"
     ]
    }
   ],
   "source": [
    "LastYear = str(datetime.datetime.now().year - 2)  + '-' + str(datetime.datetime.now().year -1)[2:]\n",
    "File = PreString + LastYear + PostString\n",
    "LastYearFile = wget.download(File)"
   ]
  },
  {
   "cell_type": "code",
   "execution_count": 8,
   "metadata": {
    "collapsed": true
   },
   "outputs": [],
   "source": [
    "zf = zipfile.ZipFile(ThisYearFile) # having First.csv zipped file.\n",
    "WIThYr = pd.read_csv(zf.open('enrollment_certified_' + ThisYear +'.csv'))"
   ]
  },
  {
   "cell_type": "code",
   "execution_count": 9,
   "metadata": {
    "collapsed": true
   },
   "outputs": [],
   "source": [
    "zf = zipfile.ZipFile(LastYearFile) # having First.csv zipped file.\n",
    "WILsYr = pd.read_csv(zf.open('enrollment_certified_' + LastYear + '.csv'))"
   ]
  },
  {
   "cell_type": "code",
   "execution_count": 10,
   "metadata": {},
   "outputs": [
    {
     "data": {
      "text/plain": [
       "Index(['SCHOOL_YEAR', 'AGENCY_TYPE', 'CESA', 'COUNTY', 'DISTRICT_CODE',\n",
       "       'SCHOOL_CODE', 'GRADE_GROUP', 'CHARTER_IND', 'DISTRICT_NAME',\n",
       "       'SCHOOL_NAME', 'GROUP_BY', 'GROUP_BY_VALUE', 'STUDENT_COUNT',\n",
       "       'PERCENT_OF_GROUP'],\n",
       "      dtype='object')"
      ]
     },
     "execution_count": 10,
     "metadata": {},
     "output_type": "execute_result"
    }
   ],
   "source": [
    "WILsYr.columns"
   ]
  },
  {
   "cell_type": "code",
   "execution_count": 11,
   "metadata": {
    "collapsed": true
   },
   "outputs": [],
   "source": [
    "WILsYr = WILsYr[(WILsYr.GROUP_BY == 'Grade Level') & (WILsYr.GRADE_GROUP != '[All]') &\n",
    "((WILsYr.GROUP_BY_VALUE == '11') | (WILsYr.GROUP_BY_VALUE == '12'))]"
   ]
  },
  {
   "cell_type": "code",
   "execution_count": 12,
   "metadata": {
    "collapsed": true
   },
   "outputs": [],
   "source": [
    "WIThYr = WIThYr[(WIThYr.GROUP_BY == 'Grade Level') & (WIThYr.GRADE_GROUP != '[All]') &\n",
    "((WIThYr.GROUP_BY_VALUE == '11') | (WIThYr.GROUP_BY_VALUE == '12'))]"
   ]
  },
  {
   "cell_type": "code",
   "execution_count": 13,
   "metadata": {},
   "outputs": [
    {
     "data": {
      "text/plain": [
       "Index(['SCHOOL_YEAR', 'AGENCY_TYPE', 'CESA', 'COUNTY', 'DISTRICT_CODE',\n",
       "       'SCHOOL_CODE', 'GRADE_GROUP', 'CHARTER_IND', 'DISTRICT_NAME',\n",
       "       'SCHOOL_NAME', 'GROUP_BY', 'GROUP_BY_VALUE', 'STUDENT_COUNT',\n",
       "       'PERCENT_OF_GROUP'],\n",
       "      dtype='object')"
      ]
     },
     "execution_count": 13,
     "metadata": {},
     "output_type": "execute_result"
    }
   ],
   "source": [
    "WILsYr.columns"
   ]
  },
  {
   "cell_type": "code",
   "execution_count": 14,
   "metadata": {},
   "outputs": [
    {
     "data": {
      "text/plain": [
       "203    11\n",
       "204    12\n",
       "Name: GROUP_BY_VALUE, dtype: object"
      ]
     },
     "execution_count": 14,
     "metadata": {},
     "output_type": "execute_result"
    }
   ],
   "source": [
    "WILsYr.GROUP_BY_VALUE.drop_duplicates()"
   ]
  },
  {
   "cell_type": "code",
   "execution_count": 15,
   "metadata": {},
   "outputs": [
    {
     "data": {
      "text/plain": [
       "579"
      ]
     },
     "execution_count": 15,
     "metadata": {},
     "output_type": "execute_result"
    }
   ],
   "source": [
    "len(WILsYr[WILsYr['GROUP_BY_VALUE'] == '12'])"
   ]
  },
  {
   "cell_type": "code",
   "execution_count": 16,
   "metadata": {
    "collapsed": true
   },
   "outputs": [],
   "source": [
    "# Separate grades into different dfs for last year\n",
    "WILsYrSr = WILsYr[WILsYr['GROUP_BY_VALUE'] == '12']\n",
    "WIThYrSr = WIThYr[WIThYr['GROUP_BY_VALUE'] == '12']"
   ]
  },
  {
   "cell_type": "code",
   "execution_count": 17,
   "metadata": {
    "collapsed": true
   },
   "outputs": [],
   "source": [
    "# Separate grades into different dfs for this year\n",
    "WILsYrJr = WILsYr[WILsYr['GROUP_BY_VALUE'] == '11']\n",
    "WIThYrJr = WIThYr[WIThYr['GROUP_BY_VALUE'] == '11']\n"
   ]
  },
  {
   "cell_type": "code",
   "execution_count": 18,
   "metadata": {
    "collapsed": true
   },
   "outputs": [],
   "source": [
    "# Combine Jr and Sr as separate columns instead of rows\n",
    "WIL = (pd.merge(WILsYrSr, WILsYrJr, how = 'inner', on = ['DISTRICT_CODE', 'SCHOOL_CODE']))\n",
    "WIT = (pd.merge(WIThYrSr, WIThYrJr, how = 'inner', on = ['DISTRICT_CODE', 'SCHOOL_CODE']))"
   ]
  },
  {
   "cell_type": "code",
   "execution_count": 23,
   "metadata": {},
   "outputs": [],
   "source": [
    "WIL = WIL.rename(columns = {'STUDENT_COUNT_x':'Juniors Last Year',\n",
    "                       'STUDENT_COUNT_y': 'Seniors Last Year' })"
   ]
  },
  {
   "cell_type": "code",
   "execution_count": 24,
   "metadata": {
    "collapsed": true
   },
   "outputs": [],
   "source": [
    "WIT = WIT.rename(columns = {'STUDENT_COUNT_x':'Juniors This Year',\n",
    "                       'STUDENT_COUNT_y': 'Seniors This Year' })"
   ]
  },
  {
   "cell_type": "code",
   "execution_count": 25,
   "metadata": {
    "collapsed": true
   },
   "outputs": [],
   "source": [
    "WI = pd.merge(WIL, WIT, how = 'inner', on = ['DISTRICT_CODE', 'SCHOOL_CODE'])"
   ]
  },
  {
   "cell_type": "code",
   "execution_count": null,
   "metadata": {
    "collapsed": true
   },
   "outputs": [],
   "source": [
    "#WI['Junior Delta'] "
   ]
  },
  {
   "cell_type": "code",
   "execution_count": 19,
   "metadata": {},
   "outputs": [
    {
     "data": {
      "text/plain": [
       "567"
      ]
     },
     "execution_count": 19,
     "metadata": {},
     "output_type": "execute_result"
    }
   ],
   "source": [
    "len(WIL)"
   ]
  },
  {
   "cell_type": "code",
   "execution_count": 2,
   "metadata": {
    "collapsed": true
   },
   "outputs": [],
   "source": [
    "# Set the preferences for the firefox web browser\n",
    "fp = webdriver.FirefoxProfile()\n",
    "fp.set_preference('browser.download.folderList', 2)\n",
    "fp.set_preference('browser.download.manager.showWhenStarting', False)\n",
    "fp.set_preference('browser.download.dir', '/tmp')\n",
    "fp.set_preference(\"http.response.timeout\", 300)\n",
    "fp.set_preference(\"dom.max_script_run_time\", 300)\n",
    "fp.set_preference('webdriver.load.strategy', 'unstable')\n",
    "fp.set_preference('browser.helperApps.neverAsk.saveToDisk', 'text/plain, application/vnd.ms-excel, text/csv, text/comma-separated-values, application/octet-stream, application/vnd.openxmlformats-officedocument.spreadsheetml.sheet')\n",
    "fp.update_preferences()"
   ]
  },
  {
   "cell_type": "code",
   "execution_count": 3,
   "metadata": {},
   "outputs": [],
   "source": [
    "# MDE web app for hs enrollment data\n",
    "searchURL = \"https://apps4.dpi.wi.gov/SchoolDirectory/Search/PublicDistrictsSearch\"\n",
    "time.sleep(3)\n",
    "\n",
    "# Launch web browser and navigate to the searchURL\n",
    "driver = webdriver.Firefox(fp)\n",
    "driver.get(searchURL)\n",
    "time.sleep(3)"
   ]
  },
  {
   "cell_type": "code",
   "execution_count": null,
   "metadata": {
    "collapsed": true
   },
   "outputs": [],
   "source": []
  }
 ],
 "metadata": {
  "kernelspec": {
   "display_name": "Python 3",
   "language": "python",
   "name": "python3"
  },
  "language_info": {
   "codemirror_mode": {
    "name": "ipython",
    "version": 3
   },
   "file_extension": ".py",
   "mimetype": "text/x-python",
   "name": "python",
   "nbconvert_exporter": "python",
   "pygments_lexer": "ipython3",
   "version": "3.6.1"
  }
 },
 "nbformat": 4,
 "nbformat_minor": 2
}
